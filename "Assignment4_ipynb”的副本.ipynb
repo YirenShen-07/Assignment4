{
  "cells": [
    {
      "cell_type": "markdown",
      "metadata": {
        "id": "view-in-github",
        "colab_type": "text"
      },
      "source": [
        "<a href=\"https://colab.research.google.com/github/YirenShen-07/Assignment4/blob/main/%22Assignment4_ipynb%E2%80%9D%E7%9A%84%E5%89%AF%E6%9C%AC.ipynb\" target=\"_parent\"><img src=\"https://colab.research.google.com/assets/colab-badge.svg\" alt=\"Open In Colab\"/></a>"
      ]
    },
    {
      "cell_type": "markdown",
      "metadata": {
        "id": "Y4XXiwC4GD7m"
      },
      "source": [
        "# AIPI 590 - XAI | Assignment #4\n",
        "### The dataset I chose is a heart attack likelihood dataset containing the health status and test results of a number of patients with the ultimate goal of predicting whether they have a heart attack or not (represented by the target column). To predict the likelihood of a heart attack, I used three methods from the imodels library: the RuleFit rule set, Greedy tree sums (FIGS), and the Greedy rule tree (CART)\n",
        "### Yiren Shen\n"
      ]
    },
    {
      "cell_type": "markdown",
      "source": [
        "## DO:\n",
        "* Use markdown and comments effectively\n",
        "* Pull out classes and functions into scripts\n",
        "* Ensure cells are executed in order and avoid skipping cells to maintain reproducibility\n",
        "* Choose the appropriate runtime (i.e. GPU) if needed\n",
        "* If you are using a dataset that is too large to put in your GitHub repository, you must either pull it in via Hugging Face Datasets or put it in an S3 bucket and use boto3 to pull from there.\n",
        "* Use versioning on all installs (ie pandas==1.3.0) to ensure consistency across versions\n",
        "* Implement error handling where appropriate\n",
        "\n",
        "## DON'T:\n",
        "* Absolutely NO sending us Google Drive links or zip files with data (see above).\n",
        "* Load packages throughout the notebook. Please load all packages in the first code cell in your notebook.\n",
        "* Add API keys or tokens directly to your notebook!!!! EVER!!!\n",
        "* Include cells that you used for testing or debugging. Delete these before submission\n",
        "* Have errors rendered in your notebook. Fix errors prior to submission."
      ],
      "metadata": {
        "id": "U_2_xsZSw9-1"
      }
    },
    {
      "cell_type": "code",
      "source": [
        "\n",
        "# Please use this to connect your GitHub repository to your Google Colab notebook\n",
        "# Connects to any needed files from GitHub and Google Drive\n",
        "import os\n",
        "\n",
        "# Remove Colab default sample_data\n",
        "!rm -r ./sample_data\n",
        "\n",
        "# Install dependencies from requirements.txt file\n",
        "#!pip install -r \"{os.path.join(repo_name,'requirements.txt')}\" #Add if using requirements.txt\n",
        "\n",
        "# Change working directory to location of notebook\n",
        "notebook_dir = 'templates'\n",
        "path_to_notebook = os.path.join(repo_name,notebook_dir)\n",
        "%cd \"{path_to_notebook}\"\n",
        "%ls"
      ],
      "metadata": {
        "colab": {
          "base_uri": "https://localhost:8080/"
        },
        "id": "pfXomB_dPfSF",
        "outputId": "f68c8306-748f-495c-b544-ea3e5fb9ae05"
      },
      "execution_count": 64,
      "outputs": [
        {
          "output_type": "stream",
          "name": "stdout",
          "text": [
            "rm: cannot remove './sample_data': No such file or directory\n"
          ]
        },
        {
          "output_type": "stream",
          "name": "stderr",
          "text": [
            "/usr/local/lib/python3.10/dist-packages/ipykernel/ipkernel.py:283: DeprecationWarning: `should_run_async` will not call `transform_cell` automatically in the future. Please pass the result to `transformed_cell` argument and any exception that happen during thetransform in `preprocessing_exc_tuple` in IPython 7.17 and above.\n",
            "  and should_run_async(code)\n"
          ]
        },
        {
          "output_type": "stream",
          "name": "stdout",
          "text": [
            "[Errno 2] No such file or directory: 'Duke-Yiren-AI-XAI/templates'\n",
            "/content\n",
            "\u001b[0m\u001b[01;34mdrive\u001b[0m/  \u001b[01;34mDuke-AI-XAI\u001b[0m/  greedy_tree  greedy_tree.pdf\n"
          ]
        }
      ]
    },
    {
      "cell_type": "markdown",
      "source": [
        "**Using environment variables in Google Colab**\n",
        "\n",
        "In Google Colab, locate the key button on the left side of the screen. You can enter in any environment variables or API keys here and they will remain private.\n",
        "\n",
        "Then add the environment variables to your notebook using the code below.\n",
        "\n",
        "Make sure to document in your notebook if you are using API keys and how to get them (ie share a link for documentation to get a Hugging Face API Key if you are using Hugging Face)"
      ],
      "metadata": {
        "id": "96jBMFH7Py0g"
      }
    },
    {
      "cell_type": "code",
      "source": [
        "import pandas as pd\n",
        "import csv\n",
        "import numpy as np\n",
        "import seaborn as sns"
      ],
      "metadata": {
        "id": "-ozXcUb9QTI_",
        "colab": {
          "base_uri": "https://localhost:8080/"
        },
        "outputId": "a54ef335-852a-4e54-c3e8-2b8284cb12c5"
      },
      "execution_count": 65,
      "outputs": [
        {
          "output_type": "stream",
          "name": "stderr",
          "text": [
            "/usr/local/lib/python3.10/dist-packages/ipykernel/ipkernel.py:283: DeprecationWarning: `should_run_async` will not call `transform_cell` automatically in the future. Please pass the result to `transformed_cell` argument and any exception that happen during thetransform in `preprocessing_exc_tuple` in IPython 7.17 and above.\n",
            "  and should_run_async(code)\n"
          ]
        }
      ]
    },
    {
      "cell_type": "code",
      "source": [
        "from google.colab import drive\n",
        "drive.mount('/content/drive')"
      ],
      "metadata": {
        "colab": {
          "base_uri": "https://localhost:8080/"
        },
        "id": "w0IzMZSFQWa-",
        "outputId": "86f1e037-744d-4d6f-efbb-95a7d712fc44"
      },
      "execution_count": 66,
      "outputs": [
        {
          "output_type": "stream",
          "name": "stderr",
          "text": [
            "/usr/local/lib/python3.10/dist-packages/ipykernel/ipkernel.py:283: DeprecationWarning: `should_run_async` will not call `transform_cell` automatically in the future. Please pass the result to `transformed_cell` argument and any exception that happen during thetransform in `preprocessing_exc_tuple` in IPython 7.17 and above.\n",
            "  and should_run_async(code)\n"
          ]
        },
        {
          "output_type": "stream",
          "name": "stdout",
          "text": [
            "Drive already mounted at /content/drive; to attempt to forcibly remount, call drive.mount(\"/content/drive\", force_remount=True).\n"
          ]
        }
      ]
    },
    {
      "cell_type": "markdown",
      "source": [
        "**Dataset Overview**\n",
        "\n",
        "1) age\n",
        "\n",
        "2) sex\n",
        "\n",
        "3) chest pain type(4 values:0--No chest pain/1--Typical angina/2--Atypical angina/3--Non-anginal pain)\n",
        "\n",
        "4) trestbps: resting blood pressure\n",
        "\n",
        "5) chol: serum cholestoral in mg/dl\n",
        "\n",
        "6) fbs: fasting blood sugar > 120 mg/dl (1 = true, 0 = false)\n",
        "\n",
        "7) restecg: resting electrocardiographic results (values 0,1,2)\n",
        "\n",
        "8) thalach: maximum heart rate achieved\n",
        "\n",
        "9) exang: exercise induced angina\n",
        "\n",
        "10) oldpeak: ST depression induced by exercise relative to rest\n",
        "\n",
        "11) slope: the slop of the peak exercise ST segment\n",
        "\n",
        "12) ca: number of major vessels (0-3) colored by flourosopy\n",
        "\n",
        "13) thal: 0 = normal; 1 = fixed defect; 2 = reversable defect\n",
        "\n",
        "14) **target**: The target variable, 0= less chance of heart attack 1= more chance of heart attack"
      ],
      "metadata": {
        "id": "DEDW63VLQ8mk"
      }
    },
    {
      "cell_type": "code",
      "source": [
        "data=\"/content/drive/MyDrive/heart.csv\"\n",
        "df=pd.read_csv(data)\n",
        "df"
      ],
      "metadata": {
        "colab": {
          "base_uri": "https://localhost:8080/",
          "height": 479
        },
        "id": "EvVYKkb6Qe_h",
        "outputId": "44bb7782-7b5b-42bf-b789-801729d53c17"
      },
      "execution_count": 67,
      "outputs": [
        {
          "output_type": "stream",
          "name": "stderr",
          "text": [
            "/usr/local/lib/python3.10/dist-packages/ipykernel/ipkernel.py:283: DeprecationWarning: `should_run_async` will not call `transform_cell` automatically in the future. Please pass the result to `transformed_cell` argument and any exception that happen during thetransform in `preprocessing_exc_tuple` in IPython 7.17 and above.\n",
            "  and should_run_async(code)\n"
          ]
        },
        {
          "output_type": "execute_result",
          "data": {
            "text/plain": [
              "     age  sex  cp  trestbps  chol  fbs  restecg  thalach  exang  oldpeak  \\\n",
              "0     63    1   3       145   233    1        0      150      0      2.3   \n",
              "1     37    1   2       130   250    0        1      187      0      3.5   \n",
              "2     41    0   1       130   204    0        0      172      0      1.4   \n",
              "3     56    1   1       120   236    0        1      178      0      0.8   \n",
              "4     57    0   0       120   354    0        1      163      1      0.6   \n",
              "..   ...  ...  ..       ...   ...  ...      ...      ...    ...      ...   \n",
              "298   57    0   0       140   241    0        1      123      1      0.2   \n",
              "299   45    1   3       110   264    0        1      132      0      1.2   \n",
              "300   68    1   0       144   193    1        1      141      0      3.4   \n",
              "301   57    1   0       130   131    0        1      115      1      1.2   \n",
              "302   57    0   1       130   236    0        0      174      0      0.0   \n",
              "\n",
              "     slope  ca  thal  target  \n",
              "0        0   0     1       1  \n",
              "1        0   0     2       1  \n",
              "2        2   0     2       1  \n",
              "3        2   0     2       1  \n",
              "4        2   0     2       1  \n",
              "..     ...  ..   ...     ...  \n",
              "298      1   0     3       0  \n",
              "299      1   0     3       0  \n",
              "300      1   2     3       0  \n",
              "301      1   1     3       0  \n",
              "302      1   1     2       0  \n",
              "\n",
              "[303 rows x 14 columns]"
            ],
            "text/html": [
              "\n",
              "  <div id=\"df-17dd5278-1c6e-440b-955b-75f1f800778c\" class=\"colab-df-container\">\n",
              "    <div>\n",
              "<style scoped>\n",
              "    .dataframe tbody tr th:only-of-type {\n",
              "        vertical-align: middle;\n",
              "    }\n",
              "\n",
              "    .dataframe tbody tr th {\n",
              "        vertical-align: top;\n",
              "    }\n",
              "\n",
              "    .dataframe thead th {\n",
              "        text-align: right;\n",
              "    }\n",
              "</style>\n",
              "<table border=\"1\" class=\"dataframe\">\n",
              "  <thead>\n",
              "    <tr style=\"text-align: right;\">\n",
              "      <th></th>\n",
              "      <th>age</th>\n",
              "      <th>sex</th>\n",
              "      <th>cp</th>\n",
              "      <th>trestbps</th>\n",
              "      <th>chol</th>\n",
              "      <th>fbs</th>\n",
              "      <th>restecg</th>\n",
              "      <th>thalach</th>\n",
              "      <th>exang</th>\n",
              "      <th>oldpeak</th>\n",
              "      <th>slope</th>\n",
              "      <th>ca</th>\n",
              "      <th>thal</th>\n",
              "      <th>target</th>\n",
              "    </tr>\n",
              "  </thead>\n",
              "  <tbody>\n",
              "    <tr>\n",
              "      <th>0</th>\n",
              "      <td>63</td>\n",
              "      <td>1</td>\n",
              "      <td>3</td>\n",
              "      <td>145</td>\n",
              "      <td>233</td>\n",
              "      <td>1</td>\n",
              "      <td>0</td>\n",
              "      <td>150</td>\n",
              "      <td>0</td>\n",
              "      <td>2.3</td>\n",
              "      <td>0</td>\n",
              "      <td>0</td>\n",
              "      <td>1</td>\n",
              "      <td>1</td>\n",
              "    </tr>\n",
              "    <tr>\n",
              "      <th>1</th>\n",
              "      <td>37</td>\n",
              "      <td>1</td>\n",
              "      <td>2</td>\n",
              "      <td>130</td>\n",
              "      <td>250</td>\n",
              "      <td>0</td>\n",
              "      <td>1</td>\n",
              "      <td>187</td>\n",
              "      <td>0</td>\n",
              "      <td>3.5</td>\n",
              "      <td>0</td>\n",
              "      <td>0</td>\n",
              "      <td>2</td>\n",
              "      <td>1</td>\n",
              "    </tr>\n",
              "    <tr>\n",
              "      <th>2</th>\n",
              "      <td>41</td>\n",
              "      <td>0</td>\n",
              "      <td>1</td>\n",
              "      <td>130</td>\n",
              "      <td>204</td>\n",
              "      <td>0</td>\n",
              "      <td>0</td>\n",
              "      <td>172</td>\n",
              "      <td>0</td>\n",
              "      <td>1.4</td>\n",
              "      <td>2</td>\n",
              "      <td>0</td>\n",
              "      <td>2</td>\n",
              "      <td>1</td>\n",
              "    </tr>\n",
              "    <tr>\n",
              "      <th>3</th>\n",
              "      <td>56</td>\n",
              "      <td>1</td>\n",
              "      <td>1</td>\n",
              "      <td>120</td>\n",
              "      <td>236</td>\n",
              "      <td>0</td>\n",
              "      <td>1</td>\n",
              "      <td>178</td>\n",
              "      <td>0</td>\n",
              "      <td>0.8</td>\n",
              "      <td>2</td>\n",
              "      <td>0</td>\n",
              "      <td>2</td>\n",
              "      <td>1</td>\n",
              "    </tr>\n",
              "    <tr>\n",
              "      <th>4</th>\n",
              "      <td>57</td>\n",
              "      <td>0</td>\n",
              "      <td>0</td>\n",
              "      <td>120</td>\n",
              "      <td>354</td>\n",
              "      <td>0</td>\n",
              "      <td>1</td>\n",
              "      <td>163</td>\n",
              "      <td>1</td>\n",
              "      <td>0.6</td>\n",
              "      <td>2</td>\n",
              "      <td>0</td>\n",
              "      <td>2</td>\n",
              "      <td>1</td>\n",
              "    </tr>\n",
              "    <tr>\n",
              "      <th>...</th>\n",
              "      <td>...</td>\n",
              "      <td>...</td>\n",
              "      <td>...</td>\n",
              "      <td>...</td>\n",
              "      <td>...</td>\n",
              "      <td>...</td>\n",
              "      <td>...</td>\n",
              "      <td>...</td>\n",
              "      <td>...</td>\n",
              "      <td>...</td>\n",
              "      <td>...</td>\n",
              "      <td>...</td>\n",
              "      <td>...</td>\n",
              "      <td>...</td>\n",
              "    </tr>\n",
              "    <tr>\n",
              "      <th>298</th>\n",
              "      <td>57</td>\n",
              "      <td>0</td>\n",
              "      <td>0</td>\n",
              "      <td>140</td>\n",
              "      <td>241</td>\n",
              "      <td>0</td>\n",
              "      <td>1</td>\n",
              "      <td>123</td>\n",
              "      <td>1</td>\n",
              "      <td>0.2</td>\n",
              "      <td>1</td>\n",
              "      <td>0</td>\n",
              "      <td>3</td>\n",
              "      <td>0</td>\n",
              "    </tr>\n",
              "    <tr>\n",
              "      <th>299</th>\n",
              "      <td>45</td>\n",
              "      <td>1</td>\n",
              "      <td>3</td>\n",
              "      <td>110</td>\n",
              "      <td>264</td>\n",
              "      <td>0</td>\n",
              "      <td>1</td>\n",
              "      <td>132</td>\n",
              "      <td>0</td>\n",
              "      <td>1.2</td>\n",
              "      <td>1</td>\n",
              "      <td>0</td>\n",
              "      <td>3</td>\n",
              "      <td>0</td>\n",
              "    </tr>\n",
              "    <tr>\n",
              "      <th>300</th>\n",
              "      <td>68</td>\n",
              "      <td>1</td>\n",
              "      <td>0</td>\n",
              "      <td>144</td>\n",
              "      <td>193</td>\n",
              "      <td>1</td>\n",
              "      <td>1</td>\n",
              "      <td>141</td>\n",
              "      <td>0</td>\n",
              "      <td>3.4</td>\n",
              "      <td>1</td>\n",
              "      <td>2</td>\n",
              "      <td>3</td>\n",
              "      <td>0</td>\n",
              "    </tr>\n",
              "    <tr>\n",
              "      <th>301</th>\n",
              "      <td>57</td>\n",
              "      <td>1</td>\n",
              "      <td>0</td>\n",
              "      <td>130</td>\n",
              "      <td>131</td>\n",
              "      <td>0</td>\n",
              "      <td>1</td>\n",
              "      <td>115</td>\n",
              "      <td>1</td>\n",
              "      <td>1.2</td>\n",
              "      <td>1</td>\n",
              "      <td>1</td>\n",
              "      <td>3</td>\n",
              "      <td>0</td>\n",
              "    </tr>\n",
              "    <tr>\n",
              "      <th>302</th>\n",
              "      <td>57</td>\n",
              "      <td>0</td>\n",
              "      <td>1</td>\n",
              "      <td>130</td>\n",
              "      <td>236</td>\n",
              "      <td>0</td>\n",
              "      <td>0</td>\n",
              "      <td>174</td>\n",
              "      <td>0</td>\n",
              "      <td>0.0</td>\n",
              "      <td>1</td>\n",
              "      <td>1</td>\n",
              "      <td>2</td>\n",
              "      <td>0</td>\n",
              "    </tr>\n",
              "  </tbody>\n",
              "</table>\n",
              "<p>303 rows × 14 columns</p>\n",
              "</div>\n",
              "    <div class=\"colab-df-buttons\">\n",
              "\n",
              "  <div class=\"colab-df-container\">\n",
              "    <button class=\"colab-df-convert\" onclick=\"convertToInteractive('df-17dd5278-1c6e-440b-955b-75f1f800778c')\"\n",
              "            title=\"Convert this dataframe to an interactive table.\"\n",
              "            style=\"display:none;\">\n",
              "\n",
              "  <svg xmlns=\"http://www.w3.org/2000/svg\" height=\"24px\" viewBox=\"0 -960 960 960\">\n",
              "    <path d=\"M120-120v-720h720v720H120Zm60-500h600v-160H180v160Zm220 220h160v-160H400v160Zm0 220h160v-160H400v160ZM180-400h160v-160H180v160Zm440 0h160v-160H620v160ZM180-180h160v-160H180v160Zm440 0h160v-160H620v160Z\"/>\n",
              "  </svg>\n",
              "    </button>\n",
              "\n",
              "  <style>\n",
              "    .colab-df-container {\n",
              "      display:flex;\n",
              "      gap: 12px;\n",
              "    }\n",
              "\n",
              "    .colab-df-convert {\n",
              "      background-color: #E8F0FE;\n",
              "      border: none;\n",
              "      border-radius: 50%;\n",
              "      cursor: pointer;\n",
              "      display: none;\n",
              "      fill: #1967D2;\n",
              "      height: 32px;\n",
              "      padding: 0 0 0 0;\n",
              "      width: 32px;\n",
              "    }\n",
              "\n",
              "    .colab-df-convert:hover {\n",
              "      background-color: #E2EBFA;\n",
              "      box-shadow: 0px 1px 2px rgba(60, 64, 67, 0.3), 0px 1px 3px 1px rgba(60, 64, 67, 0.15);\n",
              "      fill: #174EA6;\n",
              "    }\n",
              "\n",
              "    .colab-df-buttons div {\n",
              "      margin-bottom: 4px;\n",
              "    }\n",
              "\n",
              "    [theme=dark] .colab-df-convert {\n",
              "      background-color: #3B4455;\n",
              "      fill: #D2E3FC;\n",
              "    }\n",
              "\n",
              "    [theme=dark] .colab-df-convert:hover {\n",
              "      background-color: #434B5C;\n",
              "      box-shadow: 0px 1px 3px 1px rgba(0, 0, 0, 0.15);\n",
              "      filter: drop-shadow(0px 1px 2px rgba(0, 0, 0, 0.3));\n",
              "      fill: #FFFFFF;\n",
              "    }\n",
              "  </style>\n",
              "\n",
              "    <script>\n",
              "      const buttonEl =\n",
              "        document.querySelector('#df-17dd5278-1c6e-440b-955b-75f1f800778c button.colab-df-convert');\n",
              "      buttonEl.style.display =\n",
              "        google.colab.kernel.accessAllowed ? 'block' : 'none';\n",
              "\n",
              "      async function convertToInteractive(key) {\n",
              "        const element = document.querySelector('#df-17dd5278-1c6e-440b-955b-75f1f800778c');\n",
              "        const dataTable =\n",
              "          await google.colab.kernel.invokeFunction('convertToInteractive',\n",
              "                                                    [key], {});\n",
              "        if (!dataTable) return;\n",
              "\n",
              "        const docLinkHtml = 'Like what you see? Visit the ' +\n",
              "          '<a target=\"_blank\" href=https://colab.research.google.com/notebooks/data_table.ipynb>data table notebook</a>'\n",
              "          + ' to learn more about interactive tables.';\n",
              "        element.innerHTML = '';\n",
              "        dataTable['output_type'] = 'display_data';\n",
              "        await google.colab.output.renderOutput(dataTable, element);\n",
              "        const docLink = document.createElement('div');\n",
              "        docLink.innerHTML = docLinkHtml;\n",
              "        element.appendChild(docLink);\n",
              "      }\n",
              "    </script>\n",
              "  </div>\n",
              "\n",
              "\n",
              "<div id=\"df-a6d26622-4e7c-4cfe-918a-1faca6104d0f\">\n",
              "  <button class=\"colab-df-quickchart\" onclick=\"quickchart('df-a6d26622-4e7c-4cfe-918a-1faca6104d0f')\"\n",
              "            title=\"Suggest charts\"\n",
              "            style=\"display:none;\">\n",
              "\n",
              "<svg xmlns=\"http://www.w3.org/2000/svg\" height=\"24px\"viewBox=\"0 0 24 24\"\n",
              "     width=\"24px\">\n",
              "    <g>\n",
              "        <path d=\"M19 3H5c-1.1 0-2 .9-2 2v14c0 1.1.9 2 2 2h14c1.1 0 2-.9 2-2V5c0-1.1-.9-2-2-2zM9 17H7v-7h2v7zm4 0h-2V7h2v10zm4 0h-2v-4h2v4z\"/>\n",
              "    </g>\n",
              "</svg>\n",
              "  </button>\n",
              "\n",
              "<style>\n",
              "  .colab-df-quickchart {\n",
              "      --bg-color: #E8F0FE;\n",
              "      --fill-color: #1967D2;\n",
              "      --hover-bg-color: #E2EBFA;\n",
              "      --hover-fill-color: #174EA6;\n",
              "      --disabled-fill-color: #AAA;\n",
              "      --disabled-bg-color: #DDD;\n",
              "  }\n",
              "\n",
              "  [theme=dark] .colab-df-quickchart {\n",
              "      --bg-color: #3B4455;\n",
              "      --fill-color: #D2E3FC;\n",
              "      --hover-bg-color: #434B5C;\n",
              "      --hover-fill-color: #FFFFFF;\n",
              "      --disabled-bg-color: #3B4455;\n",
              "      --disabled-fill-color: #666;\n",
              "  }\n",
              "\n",
              "  .colab-df-quickchart {\n",
              "    background-color: var(--bg-color);\n",
              "    border: none;\n",
              "    border-radius: 50%;\n",
              "    cursor: pointer;\n",
              "    display: none;\n",
              "    fill: var(--fill-color);\n",
              "    height: 32px;\n",
              "    padding: 0;\n",
              "    width: 32px;\n",
              "  }\n",
              "\n",
              "  .colab-df-quickchart:hover {\n",
              "    background-color: var(--hover-bg-color);\n",
              "    box-shadow: 0 1px 2px rgba(60, 64, 67, 0.3), 0 1px 3px 1px rgba(60, 64, 67, 0.15);\n",
              "    fill: var(--button-hover-fill-color);\n",
              "  }\n",
              "\n",
              "  .colab-df-quickchart-complete:disabled,\n",
              "  .colab-df-quickchart-complete:disabled:hover {\n",
              "    background-color: var(--disabled-bg-color);\n",
              "    fill: var(--disabled-fill-color);\n",
              "    box-shadow: none;\n",
              "  }\n",
              "\n",
              "  .colab-df-spinner {\n",
              "    border: 2px solid var(--fill-color);\n",
              "    border-color: transparent;\n",
              "    border-bottom-color: var(--fill-color);\n",
              "    animation:\n",
              "      spin 1s steps(1) infinite;\n",
              "  }\n",
              "\n",
              "  @keyframes spin {\n",
              "    0% {\n",
              "      border-color: transparent;\n",
              "      border-bottom-color: var(--fill-color);\n",
              "      border-left-color: var(--fill-color);\n",
              "    }\n",
              "    20% {\n",
              "      border-color: transparent;\n",
              "      border-left-color: var(--fill-color);\n",
              "      border-top-color: var(--fill-color);\n",
              "    }\n",
              "    30% {\n",
              "      border-color: transparent;\n",
              "      border-left-color: var(--fill-color);\n",
              "      border-top-color: var(--fill-color);\n",
              "      border-right-color: var(--fill-color);\n",
              "    }\n",
              "    40% {\n",
              "      border-color: transparent;\n",
              "      border-right-color: var(--fill-color);\n",
              "      border-top-color: var(--fill-color);\n",
              "    }\n",
              "    60% {\n",
              "      border-color: transparent;\n",
              "      border-right-color: var(--fill-color);\n",
              "    }\n",
              "    80% {\n",
              "      border-color: transparent;\n",
              "      border-right-color: var(--fill-color);\n",
              "      border-bottom-color: var(--fill-color);\n",
              "    }\n",
              "    90% {\n",
              "      border-color: transparent;\n",
              "      border-bottom-color: var(--fill-color);\n",
              "    }\n",
              "  }\n",
              "</style>\n",
              "\n",
              "  <script>\n",
              "    async function quickchart(key) {\n",
              "      const quickchartButtonEl =\n",
              "        document.querySelector('#' + key + ' button');\n",
              "      quickchartButtonEl.disabled = true;  // To prevent multiple clicks.\n",
              "      quickchartButtonEl.classList.add('colab-df-spinner');\n",
              "      try {\n",
              "        const charts = await google.colab.kernel.invokeFunction(\n",
              "            'suggestCharts', [key], {});\n",
              "      } catch (error) {\n",
              "        console.error('Error during call to suggestCharts:', error);\n",
              "      }\n",
              "      quickchartButtonEl.classList.remove('colab-df-spinner');\n",
              "      quickchartButtonEl.classList.add('colab-df-quickchart-complete');\n",
              "    }\n",
              "    (() => {\n",
              "      let quickchartButtonEl =\n",
              "        document.querySelector('#df-a6d26622-4e7c-4cfe-918a-1faca6104d0f button');\n",
              "      quickchartButtonEl.style.display =\n",
              "        google.colab.kernel.accessAllowed ? 'block' : 'none';\n",
              "    })();\n",
              "  </script>\n",
              "</div>\n",
              "\n",
              "  <div id=\"id_4cb0e9de-f4f4-4e4c-907f-97fcbff2baa7\">\n",
              "    <style>\n",
              "      .colab-df-generate {\n",
              "        background-color: #E8F0FE;\n",
              "        border: none;\n",
              "        border-radius: 50%;\n",
              "        cursor: pointer;\n",
              "        display: none;\n",
              "        fill: #1967D2;\n",
              "        height: 32px;\n",
              "        padding: 0 0 0 0;\n",
              "        width: 32px;\n",
              "      }\n",
              "\n",
              "      .colab-df-generate:hover {\n",
              "        background-color: #E2EBFA;\n",
              "        box-shadow: 0px 1px 2px rgba(60, 64, 67, 0.3), 0px 1px 3px 1px rgba(60, 64, 67, 0.15);\n",
              "        fill: #174EA6;\n",
              "      }\n",
              "\n",
              "      [theme=dark] .colab-df-generate {\n",
              "        background-color: #3B4455;\n",
              "        fill: #D2E3FC;\n",
              "      }\n",
              "\n",
              "      [theme=dark] .colab-df-generate:hover {\n",
              "        background-color: #434B5C;\n",
              "        box-shadow: 0px 1px 3px 1px rgba(0, 0, 0, 0.15);\n",
              "        filter: drop-shadow(0px 1px 2px rgba(0, 0, 0, 0.3));\n",
              "        fill: #FFFFFF;\n",
              "      }\n",
              "    </style>\n",
              "    <button class=\"colab-df-generate\" onclick=\"generateWithVariable('df')\"\n",
              "            title=\"Generate code using this dataframe.\"\n",
              "            style=\"display:none;\">\n",
              "\n",
              "  <svg xmlns=\"http://www.w3.org/2000/svg\" height=\"24px\"viewBox=\"0 0 24 24\"\n",
              "       width=\"24px\">\n",
              "    <path d=\"M7,19H8.4L18.45,9,17,7.55,7,17.6ZM5,21V16.75L18.45,3.32a2,2,0,0,1,2.83,0l1.4,1.43a1.91,1.91,0,0,1,.58,1.4,1.91,1.91,0,0,1-.58,1.4L9.25,21ZM18.45,9,17,7.55Zm-12,3A5.31,5.31,0,0,0,4.9,8.1,5.31,5.31,0,0,0,1,6.5,5.31,5.31,0,0,0,4.9,4.9,5.31,5.31,0,0,0,6.5,1,5.31,5.31,0,0,0,8.1,4.9,5.31,5.31,0,0,0,12,6.5,5.46,5.46,0,0,0,6.5,12Z\"/>\n",
              "  </svg>\n",
              "    </button>\n",
              "    <script>\n",
              "      (() => {\n",
              "      const buttonEl =\n",
              "        document.querySelector('#id_4cb0e9de-f4f4-4e4c-907f-97fcbff2baa7 button.colab-df-generate');\n",
              "      buttonEl.style.display =\n",
              "        google.colab.kernel.accessAllowed ? 'block' : 'none';\n",
              "\n",
              "      buttonEl.onclick = () => {\n",
              "        google.colab.notebook.generateWithVariable('df');\n",
              "      }\n",
              "      })();\n",
              "    </script>\n",
              "  </div>\n",
              "\n",
              "    </div>\n",
              "  </div>\n"
            ],
            "application/vnd.google.colaboratory.intrinsic+json": {
              "type": "dataframe",
              "variable_name": "df",
              "summary": "{\n  \"name\": \"df\",\n  \"rows\": 303,\n  \"fields\": [\n    {\n      \"column\": \"age\",\n      \"properties\": {\n        \"dtype\": \"number\",\n        \"std\": 9,\n        \"min\": 29,\n        \"max\": 77,\n        \"num_unique_values\": 41,\n        \"samples\": [\n          46,\n          66,\n          48\n        ],\n        \"semantic_type\": \"\",\n        \"description\": \"\"\n      }\n    },\n    {\n      \"column\": \"sex\",\n      \"properties\": {\n        \"dtype\": \"number\",\n        \"std\": 0,\n        \"min\": 0,\n        \"max\": 1,\n        \"num_unique_values\": 2,\n        \"samples\": [\n          0,\n          1\n        ],\n        \"semantic_type\": \"\",\n        \"description\": \"\"\n      }\n    },\n    {\n      \"column\": \"cp\",\n      \"properties\": {\n        \"dtype\": \"number\",\n        \"std\": 1,\n        \"min\": 0,\n        \"max\": 3,\n        \"num_unique_values\": 4,\n        \"samples\": [\n          2,\n          0\n        ],\n        \"semantic_type\": \"\",\n        \"description\": \"\"\n      }\n    },\n    {\n      \"column\": \"trestbps\",\n      \"properties\": {\n        \"dtype\": \"number\",\n        \"std\": 17,\n        \"min\": 94,\n        \"max\": 200,\n        \"num_unique_values\": 49,\n        \"samples\": [\n          104,\n          123\n        ],\n        \"semantic_type\": \"\",\n        \"description\": \"\"\n      }\n    },\n    {\n      \"column\": \"chol\",\n      \"properties\": {\n        \"dtype\": \"number\",\n        \"std\": 51,\n        \"min\": 126,\n        \"max\": 564,\n        \"num_unique_values\": 152,\n        \"samples\": [\n          277,\n          169\n        ],\n        \"semantic_type\": \"\",\n        \"description\": \"\"\n      }\n    },\n    {\n      \"column\": \"fbs\",\n      \"properties\": {\n        \"dtype\": \"number\",\n        \"std\": 0,\n        \"min\": 0,\n        \"max\": 1,\n        \"num_unique_values\": 2,\n        \"samples\": [\n          0,\n          1\n        ],\n        \"semantic_type\": \"\",\n        \"description\": \"\"\n      }\n    },\n    {\n      \"column\": \"restecg\",\n      \"properties\": {\n        \"dtype\": \"number\",\n        \"std\": 0,\n        \"min\": 0,\n        \"max\": 2,\n        \"num_unique_values\": 3,\n        \"samples\": [\n          0,\n          1\n        ],\n        \"semantic_type\": \"\",\n        \"description\": \"\"\n      }\n    },\n    {\n      \"column\": \"thalach\",\n      \"properties\": {\n        \"dtype\": \"number\",\n        \"std\": 22,\n        \"min\": 71,\n        \"max\": 202,\n        \"num_unique_values\": 91,\n        \"samples\": [\n          159,\n          152\n        ],\n        \"semantic_type\": \"\",\n        \"description\": \"\"\n      }\n    },\n    {\n      \"column\": \"exang\",\n      \"properties\": {\n        \"dtype\": \"number\",\n        \"std\": 0,\n        \"min\": 0,\n        \"max\": 1,\n        \"num_unique_values\": 2,\n        \"samples\": [\n          1,\n          0\n        ],\n        \"semantic_type\": \"\",\n        \"description\": \"\"\n      }\n    },\n    {\n      \"column\": \"oldpeak\",\n      \"properties\": {\n        \"dtype\": \"number\",\n        \"std\": 1.1610750220686348,\n        \"min\": 0.0,\n        \"max\": 6.2,\n        \"num_unique_values\": 40,\n        \"samples\": [\n          1.9,\n          3.0\n        ],\n        \"semantic_type\": \"\",\n        \"description\": \"\"\n      }\n    },\n    {\n      \"column\": \"slope\",\n      \"properties\": {\n        \"dtype\": \"number\",\n        \"std\": 0,\n        \"min\": 0,\n        \"max\": 2,\n        \"num_unique_values\": 3,\n        \"samples\": [\n          0,\n          2\n        ],\n        \"semantic_type\": \"\",\n        \"description\": \"\"\n      }\n    },\n    {\n      \"column\": \"ca\",\n      \"properties\": {\n        \"dtype\": \"number\",\n        \"std\": 1,\n        \"min\": 0,\n        \"max\": 4,\n        \"num_unique_values\": 5,\n        \"samples\": [\n          2,\n          4\n        ],\n        \"semantic_type\": \"\",\n        \"description\": \"\"\n      }\n    },\n    {\n      \"column\": \"thal\",\n      \"properties\": {\n        \"dtype\": \"number\",\n        \"std\": 0,\n        \"min\": 0,\n        \"max\": 3,\n        \"num_unique_values\": 4,\n        \"samples\": [\n          2,\n          0\n        ],\n        \"semantic_type\": \"\",\n        \"description\": \"\"\n      }\n    },\n    {\n      \"column\": \"target\",\n      \"properties\": {\n        \"dtype\": \"number\",\n        \"std\": 0,\n        \"min\": 0,\n        \"max\": 1,\n        \"num_unique_values\": 2,\n        \"samples\": [\n          0,\n          1\n        ],\n        \"semantic_type\": \"\",\n        \"description\": \"\"\n      }\n    }\n  ]\n}"
            }
          },
          "metadata": {},
          "execution_count": 67
        }
      ]
    },
    {
      "cell_type": "code",
      "execution_count": 68,
      "metadata": {
        "id": "zXddGhc0GD7s",
        "colab": {
          "base_uri": "https://localhost:8080/"
        },
        "outputId": "3dbe57d9-91d9-43f0-cdcc-bc36fc8e6f13"
      },
      "outputs": [
        {
          "output_type": "stream",
          "name": "stderr",
          "text": [
            "/usr/local/lib/python3.10/dist-packages/ipykernel/ipkernel.py:283: DeprecationWarning: `should_run_async` will not call `transform_cell` automatically in the future. Please pass the result to `transformed_cell` argument and any exception that happen during thetransform in `preprocessing_exc_tuple` in IPython 7.17 and above.\n",
            "  and should_run_async(code)\n"
          ]
        },
        {
          "output_type": "stream",
          "name": "stdout",
          "text": [
            "Requirement already satisfied: imodels in /usr/local/lib/python3.10/dist-packages (1.4.6)\n",
            "Requirement already satisfied: matplotlib in /usr/local/lib/python3.10/dist-packages (from imodels) (3.7.1)\n",
            "Requirement already satisfied: mlxtend>=0.18.0 in /usr/local/lib/python3.10/dist-packages (from imodels) (0.23.1)\n",
            "Requirement already satisfied: numpy in /usr/local/lib/python3.10/dist-packages (from imodels) (1.26.4)\n",
            "Requirement already satisfied: pandas in /usr/local/lib/python3.10/dist-packages (from imodels) (2.1.4)\n",
            "Requirement already satisfied: requests in /usr/local/lib/python3.10/dist-packages (from imodels) (2.32.3)\n",
            "Requirement already satisfied: scipy in /usr/local/lib/python3.10/dist-packages (from imodels) (1.13.1)\n",
            "Requirement already satisfied: scikit-learn>=1.2.0 in /usr/local/lib/python3.10/dist-packages (from imodels) (1.5.2)\n",
            "Requirement already satisfied: tqdm in /usr/local/lib/python3.10/dist-packages (from imodels) (4.66.5)\n",
            "Requirement already satisfied: joblib>=0.13.2 in /usr/local/lib/python3.10/dist-packages (from mlxtend>=0.18.0->imodels) (1.4.2)\n",
            "Requirement already satisfied: contourpy>=1.0.1 in /usr/local/lib/python3.10/dist-packages (from matplotlib->imodels) (1.3.0)\n",
            "Requirement already satisfied: cycler>=0.10 in /usr/local/lib/python3.10/dist-packages (from matplotlib->imodels) (0.12.1)\n",
            "Requirement already satisfied: fonttools>=4.22.0 in /usr/local/lib/python3.10/dist-packages (from matplotlib->imodels) (4.53.1)\n",
            "Requirement already satisfied: kiwisolver>=1.0.1 in /usr/local/lib/python3.10/dist-packages (from matplotlib->imodels) (1.4.7)\n",
            "Requirement already satisfied: packaging>=20.0 in /usr/local/lib/python3.10/dist-packages (from matplotlib->imodels) (24.1)\n",
            "Requirement already satisfied: pillow>=6.2.0 in /usr/local/lib/python3.10/dist-packages (from matplotlib->imodels) (10.4.0)\n",
            "Requirement already satisfied: pyparsing>=2.3.1 in /usr/local/lib/python3.10/dist-packages (from matplotlib->imodels) (3.1.4)\n",
            "Requirement already satisfied: python-dateutil>=2.7 in /usr/local/lib/python3.10/dist-packages (from matplotlib->imodels) (2.8.2)\n",
            "Requirement already satisfied: pytz>=2020.1 in /usr/local/lib/python3.10/dist-packages (from pandas->imodels) (2024.2)\n",
            "Requirement already satisfied: tzdata>=2022.1 in /usr/local/lib/python3.10/dist-packages (from pandas->imodels) (2024.1)\n",
            "Requirement already satisfied: threadpoolctl>=3.1.0 in /usr/local/lib/python3.10/dist-packages (from scikit-learn>=1.2.0->imodels) (3.5.0)\n",
            "Requirement already satisfied: charset-normalizer<4,>=2 in /usr/local/lib/python3.10/dist-packages (from requests->imodels) (3.3.2)\n",
            "Requirement already satisfied: idna<4,>=2.5 in /usr/local/lib/python3.10/dist-packages (from requests->imodels) (3.10)\n",
            "Requirement already satisfied: urllib3<3,>=1.21.1 in /usr/local/lib/python3.10/dist-packages (from requests->imodels) (2.2.3)\n",
            "Requirement already satisfied: certifi>=2017.4.17 in /usr/local/lib/python3.10/dist-packages (from requests->imodels) (2024.8.30)\n",
            "Requirement already satisfied: six>=1.5 in /usr/local/lib/python3.10/dist-packages (from python-dateutil>=2.7->matplotlib->imodels) (1.16.0)\n"
          ]
        }
      ],
      "source": [
        "pip install imodels"
      ]
    },
    {
      "cell_type": "markdown",
      "source": [
        "# Rulefit rule set"
      ],
      "metadata": {
        "id": "0iw9PP7GEQMY"
      }
    },
    {
      "cell_type": "markdown",
      "source": [
        "I chose RuleFit because it combines a linear model with a decision tree-generated rule set that captures complex nonlinear interactions while being interpretable. This is very relevant to my dataset on the difficulty of predicting heart disease. This is because it is critical to understand not only the predictions, but also the features that have the greatest impact on the predictions."
      ],
      "metadata": {
        "id": "AbRF5V3_DE89"
      }
    },
    {
      "cell_type": "code",
      "source": [
        "from sklearn.base import BaseEstimator, ClassifierMixin\n",
        "from sklearn.utils.validation import check_X_y, check_is_fitted, check_array\n",
        "from sklearn.utils.multiclass import check_classification_targets\n",
        "from sklearn.model_selection import train_test_split\n",
        "from sklearn.preprocessing import StandardScaler\n",
        "from sklearn.metrics import accuracy_score, classification_report,confusion_matrix, ConfusionMatrixDisplay, roc_curve, auc\n",
        "from sklearn.tree import DecisionTreeClassifier, export_text\n",
        "from sklearn.tree import export_graphviz\n",
        "import graphviz\n",
        "import matplotlib.pyplot as plt\n",
        "\n",
        "from imodels import RuleFitClassifier\n",
        "from imodels.rule_set.rule_set import RuleSet\n",
        "from imodels.util.arguments import check_fit_arguments\n",
        "from imodels.util.extract import extract_rulefit\n",
        "from imodels.util.rule import get_feature_dict, replace_feature_name, Rule\n",
        "from imodels.util.score import score_linear\n",
        "from imodels.util.transforms import Winsorizer, FriedScale\n",
        "from imodels.util.tree import compute_tree_complexity\n"
      ],
      "metadata": {
        "id": "5G0RDts7adYl",
        "colab": {
          "base_uri": "https://localhost:8080/"
        },
        "outputId": "fc08d1a2-f8a6-4b37-9bd2-49fe4a7795dd"
      },
      "execution_count": 69,
      "outputs": [
        {
          "output_type": "stream",
          "name": "stderr",
          "text": [
            "/usr/local/lib/python3.10/dist-packages/ipykernel/ipkernel.py:283: DeprecationWarning: `should_run_async` will not call `transform_cell` automatically in the future. Please pass the result to `transformed_cell` argument and any exception that happen during thetransform in `preprocessing_exc_tuple` in IPython 7.17 and above.\n",
            "  and should_run_async(code)\n"
          ]
        }
      ]
    },
    {
      "cell_type": "markdown",
      "source": [
        "Forms a rule-set based classifier that combines linear modeling and rule-set interpretability to provide interpretable machine learning models. The model performs linear regression scoring by extracting rules from the decision tree and can output the relative importance of each rule and each feature."
      ],
      "metadata": {
        "id": "Y07GZPZcEzG_"
      }
    },
    {
      "cell_type": "code",
      "source": [
        "# initialization function\n",
        "class CustomRuleFitClassifier(BaseEstimator, ClassifierMixin, RuleSet):\n",
        "    def __init__(self, n_estimators=100, tree_size=4,\n",
        "                 max_rules=30, memory_par=0.01, lin_trim_quantile=0.025,\n",
        "                 lin_standardise=True, exp_rand_tree_size=True, include_linear=True,\n",
        "                 random_state=None, cv=True):\n",
        "        self.n_estimators = n_estimators\n",
        "        self.tree_size = tree_size\n",
        "        self.max_rules = max_rules\n",
        "        self.memory_par = memory_par\n",
        "        self.lin_trim_quantile = lin_trim_quantile\n",
        "        self.lin_standardise = lin_standardise\n",
        "        self.exp_rand_tree_size = exp_rand_tree_size\n",
        "        self.include_linear = include_linear\n",
        "        self.random_state = random_state\n",
        "        self.cv = cv\n",
        "        self.winsorizer = Winsorizer(trim_quantile=self.lin_trim_quantile)\n",
        "        self.friedscale = FriedScale(self.winsorizer)\n",
        "\n",
        "    def fit(self, X, y):\n",
        "        '''Fit the RuleFit model to the data'''\n",
        "        # Check and prepare the data\n",
        "        X, y, feature_names = check_fit_arguments(self, X, y, feature_names=None)\n",
        "        self.n_features_in_ = X.shape[1]\n",
        "        self.feature_names_ = get_feature_dict(X.shape[1], feature_names)\n",
        "\n",
        "        # Extract rules\n",
        "        self.rules_ = extract_rulefit(\n",
        "            X, y,\n",
        "            feature_names=list(self.feature_names_.values()),  # deliver feature_names parameters\n",
        "            n_estimators=self.n_estimators,\n",
        "            tree_size=self.tree_size,\n",
        "            exp_rand_tree_size=self.exp_rand_tree_size,\n",
        "            random_state=self.random_state\n",
        "        )\n",
        "\n",
        "        # Score rules using L1-regularized linear model\n",
        "        self.rules_, self.coef_, self.intercept_ = self._score_rules(X, y, self.rules_)\n",
        "        self.complexity_ = self._get_complexity()\n",
        "\n",
        "        return self\n",
        "\n",
        "    def _score_rules(self, X, y, rules):\n",
        "        '''Score the extracted rules'''\n",
        "        X_concat = np.zeros([X.shape[0], 0])\n",
        "\n",
        "        # Process linear variables if include_linear is True\n",
        "        if self.include_linear:\n",
        "            X_regn = self._standardize(X)\n",
        "            X_concat = np.concatenate((X_concat, X_regn), axis=1)\n",
        "\n",
        "        # Generate binary matrix for rules\n",
        "        X_rules = self._apply_rules(X, rules)\n",
        "        if X_rules.shape[1] > 0:\n",
        "            X_concat = np.concatenate((X_concat, X_rules), axis=1)\n",
        "\n",
        "        if X_concat.shape[1] == 0:\n",
        "            return [], [], 0\n",
        "\n",
        "        # L1-regularized linear model (Lasso)\n",
        "        return score_linear(X_concat, y, rules, max_rules=self.max_rules, cv=self.cv)\n",
        "\n",
        "    def _standardize(self, X):\n",
        "        '''Standardize linear variables'''\n",
        "        self.winsorizer.train(X)\n",
        "        X_winsorized = self.winsorizer.trim(X)\n",
        "        if self.lin_standardise:\n",
        "            self.friedscale.train(X_winsorized)\n",
        "            return self.friedscale.scale(X_winsorized)\n",
        "        return X_winsorized\n",
        "\n",
        "    def _apply_rules(self, X, rules):\n",
        "        '''Apply rules and generate a binary matrix'''\n",
        "        X_rules = np.zeros((X.shape[0], len(rules)))\n",
        "        for i, rule in enumerate(rules):\n",
        "            # Apply each rule as a logical condition\n",
        "            rule_str = str(rule)  # Convert rule to string\n",
        "            rule_condition = self._parse_rule(rule_str, X)\n",
        "            X_rules[:, i] = np.where(rule_condition, 1, 0)\n",
        "        return X_rules\n",
        "\n",
        "    def _parse_rule(self, rule_str, X):\n",
        "        '''Parse the rule string and apply it to X'''\n",
        "        # Example: \"X1 <= 2.5 and X2 > 1.5\" -> convert it to logical expression\n",
        "        rule_str = rule_str.replace(\"X\", \"X[:,\")\n",
        "        rule_str = rule_str.replace(\"and\", \"&\").replace(\"or\", \"|\")  # Handle 'and', 'or'\n",
        "\n",
        "        # Ensure proper column reference handling for NumPy array\n",
        "        rule_str = rule_str.replace(\"<=\", \" <= \").replace(\">=\", \" >= \")\n",
        "        rule_str = rule_str.replace(\">\", \" > \").replace(\"<\", \" < \")\n",
        "\n",
        "        return eval(rule_str)\n",
        "\n",
        "    def predict(self, X):\n",
        "        '''Predict labels for the input data'''\n",
        "        check_is_fitted(self)\n",
        "        return np.sign(self._predict_continuous(X))\n"
      ],
      "metadata": {
        "colab": {
          "base_uri": "https://localhost:8080/"
        },
        "id": "KpFP5neBDrCZ",
        "outputId": "9d98e1aa-7e01-431d-d451-5672446bfb58"
      },
      "execution_count": 70,
      "outputs": [
        {
          "output_type": "stream",
          "name": "stderr",
          "text": [
            "/usr/local/lib/python3.10/dist-packages/ipykernel/ipkernel.py:283: DeprecationWarning: `should_run_async` will not call `transform_cell` automatically in the future. Please pass the result to `transformed_cell` argument and any exception that happen during thetransform in `preprocessing_exc_tuple` in IPython 7.17 and above.\n",
            "  and should_run_async(code)\n"
          ]
        }
      ]
    },
    {
      "cell_type": "markdown",
      "source": [
        "The RuleFitClassifier model was used to train and test the heart attack dataset and its performance was evaluated by the predictive power of the model."
      ],
      "metadata": {
        "id": "tyK_5JIGE_TI"
      }
    },
    {
      "cell_type": "code",
      "source": [
        "X = df.drop('target', axis=1)\n",
        "y = df['target']\n",
        "\n",
        "# Split the data into training and test sets\n",
        "X_train, X_test, y_train, y_test = train_test_split(X, y, test_size=0.3, random_state=42)\n",
        "\n",
        "# Standardized data\n",
        "scaler = StandardScaler()\n",
        "X_train_scaled = scaler.fit_transform(X_train)\n",
        "X_test_scaled = scaler.transform(X_test)"
      ],
      "metadata": {
        "colab": {
          "base_uri": "https://localhost:8080/"
        },
        "id": "7lpVsn6Wa01G",
        "outputId": "4c887481-705b-4dc1-e778-3f1b3b6e21be"
      },
      "execution_count": 71,
      "outputs": [
        {
          "output_type": "stream",
          "name": "stderr",
          "text": [
            "/usr/local/lib/python3.10/dist-packages/ipykernel/ipkernel.py:283: DeprecationWarning: `should_run_async` will not call `transform_cell` automatically in the future. Please pass the result to `transformed_cell` argument and any exception that happen during thetransform in `preprocessing_exc_tuple` in IPython 7.17 and above.\n",
            "  and should_run_async(code)\n"
          ]
        }
      ]
    },
    {
      "cell_type": "code",
      "source": [
        "# initialize the model\n",
        "rulefit = RuleFitClassifier(\n",
        "    n_estimators=100,\n",
        "    tree_size=4,\n",
        "    sample_fract='default',\n",
        "    max_rules=30,\n",
        "    memory_par=0.01,\n",
        "    lin_standardise=True,\n",
        "    lin_trim_quantile=0.025,\n",
        "    exp_rand_tree_size=True,\n",
        "    include_linear=True,\n",
        "    cv=True,\n",
        "    random_state=42\n",
        ")\n",
        "# training model\n",
        "rulefit.fit(X_train_scaled, y_train)\n",
        "\n",
        "# Prediction using models\n",
        "y_pred_rulefit = rulefit.predict(X_test_scaled)\n",
        "\n",
        "# Calculate accuracy\n",
        "rulefit_accuracy = accuracy_score(y_test, y_pred_rulefit)\n",
        "print(f\"RuleFitClassifier accuracy: {rulefit_accuracy}\")"
      ],
      "metadata": {
        "colab": {
          "base_uri": "https://localhost:8080/"
        },
        "id": "UHPgAj9CcjC7",
        "outputId": "b49db5ce-36bb-466c-b981-e678890ce352"
      },
      "execution_count": 72,
      "outputs": [
        {
          "output_type": "stream",
          "name": "stderr",
          "text": [
            "/usr/local/lib/python3.10/dist-packages/ipykernel/ipkernel.py:283: DeprecationWarning: `should_run_async` will not call `transform_cell` automatically in the future. Please pass the result to `transformed_cell` argument and any exception that happen during thetransform in `preprocessing_exc_tuple` in IPython 7.17 and above.\n",
            "  and should_run_async(code)\n"
          ]
        },
        {
          "output_type": "stream",
          "name": "stdout",
          "text": [
            "RuleFitClassifier accuracy: 0.8241758241758241\n"
          ]
        }
      ]
    },
    {
      "cell_type": "code",
      "source": [
        "# show classification report\n",
        "print(classification_report(y_test, y_pred_rulefit))"
      ],
      "metadata": {
        "colab": {
          "base_uri": "https://localhost:8080/"
        },
        "id": "TLkrNNg5cprX",
        "outputId": "5b4e927c-be81-44bc-98d0-fbfabbece903"
      },
      "execution_count": 73,
      "outputs": [
        {
          "output_type": "stream",
          "name": "stdout",
          "text": [
            "              precision    recall  f1-score   support\n",
            "\n",
            "           0       0.77      0.88      0.82        41\n",
            "           1       0.89      0.78      0.83        50\n",
            "\n",
            "    accuracy                           0.82        91\n",
            "   macro avg       0.83      0.83      0.82        91\n",
            "weighted avg       0.83      0.82      0.82        91\n",
            "\n"
          ]
        },
        {
          "output_type": "stream",
          "name": "stderr",
          "text": [
            "/usr/local/lib/python3.10/dist-packages/ipykernel/ipkernel.py:283: DeprecationWarning: `should_run_async` will not call `transform_cell` automatically in the future. Please pass the result to `transformed_cell` argument and any exception that happen during thetransform in `preprocessing_exc_tuple` in IPython 7.17 and above.\n",
            "  and should_run_async(code)\n"
          ]
        }
      ]
    },
    {
      "cell_type": "markdown",
      "source": [
        "This classification report for the RuleFitClassifier model shows how well the model performs on the Heart Disease dataset.\n",
        "*   The overall accuracy is 82%, indicating that the model can correctly predict the majority of samples on the test set.\n",
        "*   The model performs well in predicting heart disease (category 1) with a precision of 89%, but the recall is relatively low (78%), indicating that some patients with heart disease were not correctly identified.\n"
      ],
      "metadata": {
        "id": "ZRwY1RxWGMR_"
      }
    },
    {
      "cell_type": "code",
      "source": [
        "# visualize it\n",
        "rulefit.visualize(decimals=2)"
      ],
      "metadata": {
        "colab": {
          "base_uri": "https://localhost:8080/",
          "height": 983
        },
        "id": "LbEKu971cquk",
        "outputId": "69e615f8-07c5-4168-fe57-c3302dd932c8"
      },
      "execution_count": 74,
      "outputs": [
        {
          "output_type": "stream",
          "name": "stderr",
          "text": [
            "/usr/local/lib/python3.10/dist-packages/ipykernel/ipkernel.py:283: DeprecationWarning: `should_run_async` will not call `transform_cell` automatically in the future. Please pass the result to `transformed_cell` argument and any exception that happen during thetransform in `preprocessing_exc_tuple` in IPython 7.17 and above.\n",
            "  and should_run_async(code)\n"
          ]
        },
        {
          "output_type": "execute_result",
          "data": {
            "text/plain": [
              "                                                                      rule  \\\n",
              "1                                                                       X1   \n",
              "2                                                                       X2   \n",
              "5                                                                       X5   \n",
              "8                                                                       X8   \n",
              "27                                        X12 <= 0.29433 and X9 <= 1.22657   \n",
              "30                                       X11 <= -0.14918 and X9 <= 1.27248   \n",
              "28                                       X11 <= -0.14918 and X9 <= 1.31839   \n",
              "33                                       X11 <= 0.90504 and X12 <= 0.29433   \n",
              "23                                                          X10 <= 0.13868   \n",
              "29                                         X2 > -0.49692 and X9 <= 0.85929   \n",
              "26                                                           X10 > 0.13868   \n",
              "22                                        X10 <= 0.13868 and X3 > -0.76392   \n",
              "32                    X11 <= -0.14918 and X12 <= 0.29433 and X9 <= 0.62974   \n",
              "18                                        X0 <= 0.99766 and X2 <= -0.49692   \n",
              "31                        X0 <= 0.2345 and X2 > -0.49692 and X4 > -1.56598   \n",
              "34                       X0 <= 0.12548 and X12 <= 0.29433 and X7 > -1.3061   \n",
              "15                      X0 <= 1.32473 and X0 > -0.31061 and X11 > -0.14918   \n",
              "19                                         X12 > 0.29433 and X9 > -0.42618   \n",
              "21                                         X2 <= -0.49692 and X8 > 0.38401   \n",
              "13                                       X11 > -0.14918 and X2 <= -0.49692   \n",
              "14                                       X11 > -0.14918 and X6 <= -0.08073   \n",
              "25                       X0 > -0.14708 and X2 > -0.49692 and X4 <= 0.58168   \n",
              "16    X0 <= 1.21571 and X0 > -1.18279 and X11 > -0.14918 and X8 <= 0.38401   \n",
              "24                         X0 <= 0.99766 and X0 > 0.2345 and X8 <= 0.38401   \n",
              "20                     X11 > -0.14918 and X12 <= 0.29433 and X3 <= 0.50224   \n",
              "35  X11 <= -0.14918 and X12 <= 0.29433 and X9 <= 0.62974 and X9 > -0.28845   \n",
              "36                                          X0 > 0.99766 and X8 <= 0.38401   \n",
              "17  X0 <= -0.31061 and X11 <= -0.14918 and X12 > 0.29433 and X9 <= 0.62974   \n",
              "\n",
              "    coef  \n",
              "1  -0.35  \n",
              "2   0.04  \n",
              "5   0.24  \n",
              "8  -0.53  \n",
              "27  0.06  \n",
              "30  0.28  \n",
              "28  0.30  \n",
              "33  0.36  \n",
              "23 -0.20  \n",
              "29  0.41  \n",
              "26  0.18  \n",
              "22 -0.52  \n",
              "32  0.89  \n",
              "18 -0.35  \n",
              "31  0.89  \n",
              "34  0.25  \n",
              "15 -0.34  \n",
              "19 -1.01  \n",
              "21 -0.00  \n",
              "13 -0.45  \n",
              "14 -0.71  \n",
              "25  0.13  \n",
              "16 -0.46  \n",
              "24 -0.27  \n",
              "20 -0.23  \n",
              "35  0.04  \n",
              "36  0.44  \n",
              "17 -0.66  "
            ],
            "text/html": [
              "\n",
              "  <div id=\"df-c780aad9-7b12-4700-9676-9a2f67ae8c75\" class=\"colab-df-container\">\n",
              "    <div>\n",
              "<style scoped>\n",
              "    .dataframe tbody tr th:only-of-type {\n",
              "        vertical-align: middle;\n",
              "    }\n",
              "\n",
              "    .dataframe tbody tr th {\n",
              "        vertical-align: top;\n",
              "    }\n",
              "\n",
              "    .dataframe thead th {\n",
              "        text-align: right;\n",
              "    }\n",
              "</style>\n",
              "<table border=\"1\" class=\"dataframe\">\n",
              "  <thead>\n",
              "    <tr style=\"text-align: right;\">\n",
              "      <th></th>\n",
              "      <th>rule</th>\n",
              "      <th>coef</th>\n",
              "    </tr>\n",
              "  </thead>\n",
              "  <tbody>\n",
              "    <tr>\n",
              "      <th>1</th>\n",
              "      <td>X1</td>\n",
              "      <td>-0.35</td>\n",
              "    </tr>\n",
              "    <tr>\n",
              "      <th>2</th>\n",
              "      <td>X2</td>\n",
              "      <td>0.04</td>\n",
              "    </tr>\n",
              "    <tr>\n",
              "      <th>5</th>\n",
              "      <td>X5</td>\n",
              "      <td>0.24</td>\n",
              "    </tr>\n",
              "    <tr>\n",
              "      <th>8</th>\n",
              "      <td>X8</td>\n",
              "      <td>-0.53</td>\n",
              "    </tr>\n",
              "    <tr>\n",
              "      <th>27</th>\n",
              "      <td>X12 &lt;= 0.29433 and X9 &lt;= 1.22657</td>\n",
              "      <td>0.06</td>\n",
              "    </tr>\n",
              "    <tr>\n",
              "      <th>30</th>\n",
              "      <td>X11 &lt;= -0.14918 and X9 &lt;= 1.27248</td>\n",
              "      <td>0.28</td>\n",
              "    </tr>\n",
              "    <tr>\n",
              "      <th>28</th>\n",
              "      <td>X11 &lt;= -0.14918 and X9 &lt;= 1.31839</td>\n",
              "      <td>0.30</td>\n",
              "    </tr>\n",
              "    <tr>\n",
              "      <th>33</th>\n",
              "      <td>X11 &lt;= 0.90504 and X12 &lt;= 0.29433</td>\n",
              "      <td>0.36</td>\n",
              "    </tr>\n",
              "    <tr>\n",
              "      <th>23</th>\n",
              "      <td>X10 &lt;= 0.13868</td>\n",
              "      <td>-0.20</td>\n",
              "    </tr>\n",
              "    <tr>\n",
              "      <th>29</th>\n",
              "      <td>X2 &gt; -0.49692 and X9 &lt;= 0.85929</td>\n",
              "      <td>0.41</td>\n",
              "    </tr>\n",
              "    <tr>\n",
              "      <th>26</th>\n",
              "      <td>X10 &gt; 0.13868</td>\n",
              "      <td>0.18</td>\n",
              "    </tr>\n",
              "    <tr>\n",
              "      <th>22</th>\n",
              "      <td>X10 &lt;= 0.13868 and X3 &gt; -0.76392</td>\n",
              "      <td>-0.52</td>\n",
              "    </tr>\n",
              "    <tr>\n",
              "      <th>32</th>\n",
              "      <td>X11 &lt;= -0.14918 and X12 &lt;= 0.29433 and X9 &lt;= 0.62974</td>\n",
              "      <td>0.89</td>\n",
              "    </tr>\n",
              "    <tr>\n",
              "      <th>18</th>\n",
              "      <td>X0 &lt;= 0.99766 and X2 &lt;= -0.49692</td>\n",
              "      <td>-0.35</td>\n",
              "    </tr>\n",
              "    <tr>\n",
              "      <th>31</th>\n",
              "      <td>X0 &lt;= 0.2345 and X2 &gt; -0.49692 and X4 &gt; -1.56598</td>\n",
              "      <td>0.89</td>\n",
              "    </tr>\n",
              "    <tr>\n",
              "      <th>34</th>\n",
              "      <td>X0 &lt;= 0.12548 and X12 &lt;= 0.29433 and X7 &gt; -1.3061</td>\n",
              "      <td>0.25</td>\n",
              "    </tr>\n",
              "    <tr>\n",
              "      <th>15</th>\n",
              "      <td>X0 &lt;= 1.32473 and X0 &gt; -0.31061 and X11 &gt; -0.14918</td>\n",
              "      <td>-0.34</td>\n",
              "    </tr>\n",
              "    <tr>\n",
              "      <th>19</th>\n",
              "      <td>X12 &gt; 0.29433 and X9 &gt; -0.42618</td>\n",
              "      <td>-1.01</td>\n",
              "    </tr>\n",
              "    <tr>\n",
              "      <th>21</th>\n",
              "      <td>X2 &lt;= -0.49692 and X8 &gt; 0.38401</td>\n",
              "      <td>-0.00</td>\n",
              "    </tr>\n",
              "    <tr>\n",
              "      <th>13</th>\n",
              "      <td>X11 &gt; -0.14918 and X2 &lt;= -0.49692</td>\n",
              "      <td>-0.45</td>\n",
              "    </tr>\n",
              "    <tr>\n",
              "      <th>14</th>\n",
              "      <td>X11 &gt; -0.14918 and X6 &lt;= -0.08073</td>\n",
              "      <td>-0.71</td>\n",
              "    </tr>\n",
              "    <tr>\n",
              "      <th>25</th>\n",
              "      <td>X0 &gt; -0.14708 and X2 &gt; -0.49692 and X4 &lt;= 0.58168</td>\n",
              "      <td>0.13</td>\n",
              "    </tr>\n",
              "    <tr>\n",
              "      <th>16</th>\n",
              "      <td>X0 &lt;= 1.21571 and X0 &gt; -1.18279 and X11 &gt; -0.14918 and X8 &lt;= 0.38401</td>\n",
              "      <td>-0.46</td>\n",
              "    </tr>\n",
              "    <tr>\n",
              "      <th>24</th>\n",
              "      <td>X0 &lt;= 0.99766 and X0 &gt; 0.2345 and X8 &lt;= 0.38401</td>\n",
              "      <td>-0.27</td>\n",
              "    </tr>\n",
              "    <tr>\n",
              "      <th>20</th>\n",
              "      <td>X11 &gt; -0.14918 and X12 &lt;= 0.29433 and X3 &lt;= 0.50224</td>\n",
              "      <td>-0.23</td>\n",
              "    </tr>\n",
              "    <tr>\n",
              "      <th>35</th>\n",
              "      <td>X11 &lt;= -0.14918 and X12 &lt;= 0.29433 and X9 &lt;= 0.62974 and X9 &gt; -0.28845</td>\n",
              "      <td>0.04</td>\n",
              "    </tr>\n",
              "    <tr>\n",
              "      <th>36</th>\n",
              "      <td>X0 &gt; 0.99766 and X8 &lt;= 0.38401</td>\n",
              "      <td>0.44</td>\n",
              "    </tr>\n",
              "    <tr>\n",
              "      <th>17</th>\n",
              "      <td>X0 &lt;= -0.31061 and X11 &lt;= -0.14918 and X12 &gt; 0.29433 and X9 &lt;= 0.62974</td>\n",
              "      <td>-0.66</td>\n",
              "    </tr>\n",
              "  </tbody>\n",
              "</table>\n",
              "</div>\n",
              "    <div class=\"colab-df-buttons\">\n",
              "\n",
              "  <div class=\"colab-df-container\">\n",
              "    <button class=\"colab-df-convert\" onclick=\"convertToInteractive('df-c780aad9-7b12-4700-9676-9a2f67ae8c75')\"\n",
              "            title=\"Convert this dataframe to an interactive table.\"\n",
              "            style=\"display:none;\">\n",
              "\n",
              "  <svg xmlns=\"http://www.w3.org/2000/svg\" height=\"24px\" viewBox=\"0 -960 960 960\">\n",
              "    <path d=\"M120-120v-720h720v720H120Zm60-500h600v-160H180v160Zm220 220h160v-160H400v160Zm0 220h160v-160H400v160ZM180-400h160v-160H180v160Zm440 0h160v-160H620v160ZM180-180h160v-160H180v160Zm440 0h160v-160H620v160Z\"/>\n",
              "  </svg>\n",
              "    </button>\n",
              "\n",
              "  <style>\n",
              "    .colab-df-container {\n",
              "      display:flex;\n",
              "      gap: 12px;\n",
              "    }\n",
              "\n",
              "    .colab-df-convert {\n",
              "      background-color: #E8F0FE;\n",
              "      border: none;\n",
              "      border-radius: 50%;\n",
              "      cursor: pointer;\n",
              "      display: none;\n",
              "      fill: #1967D2;\n",
              "      height: 32px;\n",
              "      padding: 0 0 0 0;\n",
              "      width: 32px;\n",
              "    }\n",
              "\n",
              "    .colab-df-convert:hover {\n",
              "      background-color: #E2EBFA;\n",
              "      box-shadow: 0px 1px 2px rgba(60, 64, 67, 0.3), 0px 1px 3px 1px rgba(60, 64, 67, 0.15);\n",
              "      fill: #174EA6;\n",
              "    }\n",
              "\n",
              "    .colab-df-buttons div {\n",
              "      margin-bottom: 4px;\n",
              "    }\n",
              "\n",
              "    [theme=dark] .colab-df-convert {\n",
              "      background-color: #3B4455;\n",
              "      fill: #D2E3FC;\n",
              "    }\n",
              "\n",
              "    [theme=dark] .colab-df-convert:hover {\n",
              "      background-color: #434B5C;\n",
              "      box-shadow: 0px 1px 3px 1px rgba(0, 0, 0, 0.15);\n",
              "      filter: drop-shadow(0px 1px 2px rgba(0, 0, 0, 0.3));\n",
              "      fill: #FFFFFF;\n",
              "    }\n",
              "  </style>\n",
              "\n",
              "    <script>\n",
              "      const buttonEl =\n",
              "        document.querySelector('#df-c780aad9-7b12-4700-9676-9a2f67ae8c75 button.colab-df-convert');\n",
              "      buttonEl.style.display =\n",
              "        google.colab.kernel.accessAllowed ? 'block' : 'none';\n",
              "\n",
              "      async function convertToInteractive(key) {\n",
              "        const element = document.querySelector('#df-c780aad9-7b12-4700-9676-9a2f67ae8c75');\n",
              "        const dataTable =\n",
              "          await google.colab.kernel.invokeFunction('convertToInteractive',\n",
              "                                                    [key], {});\n",
              "        if (!dataTable) return;\n",
              "\n",
              "        const docLinkHtml = 'Like what you see? Visit the ' +\n",
              "          '<a target=\"_blank\" href=https://colab.research.google.com/notebooks/data_table.ipynb>data table notebook</a>'\n",
              "          + ' to learn more about interactive tables.';\n",
              "        element.innerHTML = '';\n",
              "        dataTable['output_type'] = 'display_data';\n",
              "        await google.colab.output.renderOutput(dataTable, element);\n",
              "        const docLink = document.createElement('div');\n",
              "        docLink.innerHTML = docLinkHtml;\n",
              "        element.appendChild(docLink);\n",
              "      }\n",
              "    </script>\n",
              "  </div>\n",
              "\n",
              "\n",
              "<div id=\"df-e9c35e1a-899f-4f01-8459-c800dcc1e7f4\">\n",
              "  <button class=\"colab-df-quickchart\" onclick=\"quickchart('df-e9c35e1a-899f-4f01-8459-c800dcc1e7f4')\"\n",
              "            title=\"Suggest charts\"\n",
              "            style=\"display:none;\">\n",
              "\n",
              "<svg xmlns=\"http://www.w3.org/2000/svg\" height=\"24px\"viewBox=\"0 0 24 24\"\n",
              "     width=\"24px\">\n",
              "    <g>\n",
              "        <path d=\"M19 3H5c-1.1 0-2 .9-2 2v14c0 1.1.9 2 2 2h14c1.1 0 2-.9 2-2V5c0-1.1-.9-2-2-2zM9 17H7v-7h2v7zm4 0h-2V7h2v10zm4 0h-2v-4h2v4z\"/>\n",
              "    </g>\n",
              "</svg>\n",
              "  </button>\n",
              "\n",
              "<style>\n",
              "  .colab-df-quickchart {\n",
              "      --bg-color: #E8F0FE;\n",
              "      --fill-color: #1967D2;\n",
              "      --hover-bg-color: #E2EBFA;\n",
              "      --hover-fill-color: #174EA6;\n",
              "      --disabled-fill-color: #AAA;\n",
              "      --disabled-bg-color: #DDD;\n",
              "  }\n",
              "\n",
              "  [theme=dark] .colab-df-quickchart {\n",
              "      --bg-color: #3B4455;\n",
              "      --fill-color: #D2E3FC;\n",
              "      --hover-bg-color: #434B5C;\n",
              "      --hover-fill-color: #FFFFFF;\n",
              "      --disabled-bg-color: #3B4455;\n",
              "      --disabled-fill-color: #666;\n",
              "  }\n",
              "\n",
              "  .colab-df-quickchart {\n",
              "    background-color: var(--bg-color);\n",
              "    border: none;\n",
              "    border-radius: 50%;\n",
              "    cursor: pointer;\n",
              "    display: none;\n",
              "    fill: var(--fill-color);\n",
              "    height: 32px;\n",
              "    padding: 0;\n",
              "    width: 32px;\n",
              "  }\n",
              "\n",
              "  .colab-df-quickchart:hover {\n",
              "    background-color: var(--hover-bg-color);\n",
              "    box-shadow: 0 1px 2px rgba(60, 64, 67, 0.3), 0 1px 3px 1px rgba(60, 64, 67, 0.15);\n",
              "    fill: var(--button-hover-fill-color);\n",
              "  }\n",
              "\n",
              "  .colab-df-quickchart-complete:disabled,\n",
              "  .colab-df-quickchart-complete:disabled:hover {\n",
              "    background-color: var(--disabled-bg-color);\n",
              "    fill: var(--disabled-fill-color);\n",
              "    box-shadow: none;\n",
              "  }\n",
              "\n",
              "  .colab-df-spinner {\n",
              "    border: 2px solid var(--fill-color);\n",
              "    border-color: transparent;\n",
              "    border-bottom-color: var(--fill-color);\n",
              "    animation:\n",
              "      spin 1s steps(1) infinite;\n",
              "  }\n",
              "\n",
              "  @keyframes spin {\n",
              "    0% {\n",
              "      border-color: transparent;\n",
              "      border-bottom-color: var(--fill-color);\n",
              "      border-left-color: var(--fill-color);\n",
              "    }\n",
              "    20% {\n",
              "      border-color: transparent;\n",
              "      border-left-color: var(--fill-color);\n",
              "      border-top-color: var(--fill-color);\n",
              "    }\n",
              "    30% {\n",
              "      border-color: transparent;\n",
              "      border-left-color: var(--fill-color);\n",
              "      border-top-color: var(--fill-color);\n",
              "      border-right-color: var(--fill-color);\n",
              "    }\n",
              "    40% {\n",
              "      border-color: transparent;\n",
              "      border-right-color: var(--fill-color);\n",
              "      border-top-color: var(--fill-color);\n",
              "    }\n",
              "    60% {\n",
              "      border-color: transparent;\n",
              "      border-right-color: var(--fill-color);\n",
              "    }\n",
              "    80% {\n",
              "      border-color: transparent;\n",
              "      border-right-color: var(--fill-color);\n",
              "      border-bottom-color: var(--fill-color);\n",
              "    }\n",
              "    90% {\n",
              "      border-color: transparent;\n",
              "      border-bottom-color: var(--fill-color);\n",
              "    }\n",
              "  }\n",
              "</style>\n",
              "\n",
              "  <script>\n",
              "    async function quickchart(key) {\n",
              "      const quickchartButtonEl =\n",
              "        document.querySelector('#' + key + ' button');\n",
              "      quickchartButtonEl.disabled = true;  // To prevent multiple clicks.\n",
              "      quickchartButtonEl.classList.add('colab-df-spinner');\n",
              "      try {\n",
              "        const charts = await google.colab.kernel.invokeFunction(\n",
              "            'suggestCharts', [key], {});\n",
              "      } catch (error) {\n",
              "        console.error('Error during call to suggestCharts:', error);\n",
              "      }\n",
              "      quickchartButtonEl.classList.remove('colab-df-spinner');\n",
              "      quickchartButtonEl.classList.add('colab-df-quickchart-complete');\n",
              "    }\n",
              "    (() => {\n",
              "      let quickchartButtonEl =\n",
              "        document.querySelector('#df-e9c35e1a-899f-4f01-8459-c800dcc1e7f4 button');\n",
              "      quickchartButtonEl.style.display =\n",
              "        google.colab.kernel.accessAllowed ? 'block' : 'none';\n",
              "    })();\n",
              "  </script>\n",
              "</div>\n",
              "\n",
              "    </div>\n",
              "  </div>\n"
            ],
            "application/vnd.google.colaboratory.intrinsic+json": {
              "type": "dataframe",
              "summary": "{\n  \"name\": \"rulefit\",\n  \"rows\": 28,\n  \"fields\": [\n    {\n      \"column\": \"rule\",\n      \"properties\": {\n        \"dtype\": \"string\",\n        \"num_unique_values\": 28,\n        \"samples\": [\n          \"X2 > -0.49692 and X9 <= 0.85929\",\n          \"X11 <= -0.14918 and X12 <= 0.29433 and X9 <= 0.62974 and X9 > -0.28845\",\n          \"X10 <= 0.13868\"\n        ],\n        \"semantic_type\": \"\",\n        \"description\": \"\"\n      }\n    },\n    {\n      \"column\": \"coef\",\n      \"properties\": {\n        \"dtype\": \"number\",\n        \"std\": 0.46282817614631094,\n        \"min\": -1.01,\n        \"max\": 0.89,\n        \"num_unique_values\": 25,\n        \"samples\": [\n          -0.2,\n          -0.0,\n          -0.35\n        ],\n        \"semantic_type\": \"\",\n        \"description\": \"\"\n      }\n    }\n  ]\n}"
            }
          },
          "metadata": {},
          "execution_count": 74
        }
      ]
    },
    {
      "cell_type": "markdown",
      "source": [
        "*   Positive coefficients such as sex(X2) > -0.49692 and exang (X9) <= 0.85929 correspond to a coefficient of 0.41 indicating that these rules help to predict the likelihood of heart disease.\n",
        "*   Negative coefficients such as ca(X12) > 0.29433 and exang(X9) > -0.42618 corresponding to a coefficient of -1.0 indicate that these rules are associated with a lower incidence of heart disease."
      ],
      "metadata": {
        "id": "FnJdsiMmKNmi"
      }
    },
    {
      "cell_type": "code",
      "source": [
        "# Confusion matrix\n",
        "conf_matrix = confusion_matrix(y_test, y_pred_rulefit)\n",
        "\n",
        "# Plotting the confusion matrix\n",
        "disp = ConfusionMatrixDisplay(confusion_matrix=conf_matrix)\n",
        "plt.figure(figsize=(5, 5))\n",
        "disp.plot(cmap=plt.cm.Blues)\n",
        "plt.title('Confusion Matrix')\n",
        "\n",
        "# Pie chart for 'exang' feature with smaller figure size\n",
        "exang_counts = df['exang'].value_counts()\n",
        "\n",
        "plt.figure(figsize=(5, 4))\n",
        "plt.pie(exang_counts, labels=['No Angina', 'Angina'], autopct='%1.1f%%', colors=['lightblue', 'lightgreen'], startangle=90)\n",
        "plt.title('Exercise Induced Angina (exang)')\n",
        "plt.axis('equal')  # Equal aspect ratio ensures that pie is drawn as a circle.\n",
        "\n",
        "# Pair plot for some features with smaller figure size\n",
        "plt.figure(figsize=(4, 4))  #\n",
        "sns.pairplot(df[['age', 'sex', 'exang', 'target']], hue='target', palette='coolwarm')\n",
        "plt.show()\n",
        "\n"
      ],
      "metadata": {
        "colab": {
          "base_uri": "https://localhost:8080/",
          "height": 1000
        },
        "id": "V9OEVU_rGEBI",
        "outputId": "0277a9bc-c197-4844-bf03-2fbf9e68da19"
      },
      "execution_count": 75,
      "outputs": [
        {
          "output_type": "stream",
          "name": "stderr",
          "text": [
            "/usr/local/lib/python3.10/dist-packages/ipykernel/ipkernel.py:283: DeprecationWarning: `should_run_async` will not call `transform_cell` automatically in the future. Please pass the result to `transformed_cell` argument and any exception that happen during thetransform in `preprocessing_exc_tuple` in IPython 7.17 and above.\n",
            "  and should_run_async(code)\n"
          ]
        },
        {
          "output_type": "display_data",
          "data": {
            "text/plain": [
              "<Figure size 500x500 with 0 Axes>"
            ]
          },
          "metadata": {}
        },
        {
          "output_type": "display_data",
          "data": {
            "text/plain": [
              "<Figure size 640x480 with 2 Axes>"
            ],
            "image/png": "[encoded data removed]"
          },
          "metadata": {}
        },
        {
          "output_type": "display_data",
          "data": {
            "text/plain": [
              "<Figure size 500x400 with 1 Axes>"
            ],
            "image/png": "[encoded data removed]"
          },
          "metadata": {}
        },
        {
          "output_type": "display_data",
          "data": {
            "text/plain": [
              "<Figure size 400x400 with 0 Axes>"
            ]
          },
          "metadata": {}
        },
        {
          "output_type": "display_data",
          "data": {
            "text/plain": [
              "<Figure size 808.875x750 with 12 Axes>"
            ],
            "image/png": "[encoded data removed]"
          },
          "metadata": {}
        }
      ]
    },
    {
      "cell_type": "markdown",
      "source": [
        "\n",
        "\n",
        "*   According to the Confusion matrix, my model is performing fairly well, as the majority of predictions are in the correct categories (36 TN and 39 TP).\n",
        "*   The pie chart shows that 67.3% of individuals do not experience exercise-induced angina, while 32.7% do. The majority of the dataset is made up of people who do not have this condition during exercise.\n",
        "\n",
        "*   This pair plot suggests that individuals with exercise-induced angina (exang = 1) are more likely to have heart disease (target = 1). Additionally, while age distributions are similar across both groups, males make up the majority of the dataset.\n",
        "\n",
        "\n",
        "\n",
        "\n"
      ],
      "metadata": {
        "id": "MMOONOnfH3wt"
      }
    },
    {
      "cell_type": "markdown",
      "source": [
        "**Summary:**\n",
        "\n",
        "The advantage of RuleFit is that it not only generates predictive models, but also interpretable rules. The overall accuracy is 82%, indicating that the model can correctly predict the majority of samples on the test set. We can clearly see which features have the greatest impact on the results. For example, the rules for sex and exang (exercise induced angina) appear in multiple combinations, indicating that they are important features. age also appears in multiple complex rules, indicating its importance to model decisions. These features (e.g., age, sex, exercise-induced angina, etc.) have different effects on heart disease prediction depending on the combination of rules, and the model-generated rules and coefficients help us to understand which combinations of features are most helpful in predicting outcomes.\n",
        "\n"
      ],
      "metadata": {
        "id": "_Y0TNI-aHTe7"
      }
    },
    {
      "cell_type": "markdown",
      "source": [
        "# Greedy tree sums (FIGS)"
      ],
      "metadata": {
        "id": "sPn1lVLoD6wT"
      }
    },
    {
      "cell_type": "markdown",
      "source": [
        "FIGS generates fewer trees and makes decisions with the fewest combinations of features. This is particularly effective in predicting heart disease in my dataset, as I don't want the model to be overly complex, especially if some of the relationships between the variables are more straightforward. In addition, it handles interaction effects between variables well, such as the relationship between heart rate and exercise-induced angina."
      ],
      "metadata": {
        "id": "OMGGMj8wMC7Q"
      }
    },
    {
      "cell_type": "code",
      "source": [
        "# training and evaluation of a FIGSClassifier model\n",
        "from imodels import FIGSClassifier\n",
        "figs = FIGSClassifier()\n",
        "figs.fit(X_train_scaled, y_train)\n",
        "y_pred_figs = figs.predict(X_test_scaled)\n",
        "print('FIGSClassifier Accuracy:', accuracy_score(y_test, y_pred_figs))"
      ],
      "metadata": {
        "id": "kd5BDIlruXZ9",
        "colab": {
          "base_uri": "https://localhost:8080/"
        },
        "outputId": "1f5da4df-8c03-429a-e7b6-8b5fa2f7e198"
      },
      "execution_count": 76,
      "outputs": [
        {
          "output_type": "stream",
          "name": "stderr",
          "text": [
            "/usr/local/lib/python3.10/dist-packages/ipykernel/ipkernel.py:283: DeprecationWarning: `should_run_async` will not call `transform_cell` automatically in the future. Please pass the result to `transformed_cell` argument and any exception that happen during thetransform in `preprocessing_exc_tuple` in IPython 7.17 and above.\n",
            "  and should_run_async(code)\n"
          ]
        },
        {
          "output_type": "stream",
          "name": "stdout",
          "text": [
            "FIGSClassifier Accuracy: 0.7912087912087912\n"
          ]
        }
      ]
    },
    {
      "cell_type": "code",
      "source": [
        "# classification report\n",
        "print(classification_report(y_test, y_pred_figs))"
      ],
      "metadata": {
        "colab": {
          "base_uri": "https://localhost:8080/"
        },
        "id": "CwH1MORSdFq-",
        "outputId": "7e5ea951-7caa-4de7-966c-425a59c6bc0a"
      },
      "execution_count": 77,
      "outputs": [
        {
          "output_type": "stream",
          "name": "stdout",
          "text": [
            "              precision    recall  f1-score   support\n",
            "\n",
            "           0       0.75      0.80      0.78        41\n",
            "           1       0.83      0.78      0.80        50\n",
            "\n",
            "    accuracy                           0.79        91\n",
            "   macro avg       0.79      0.79      0.79        91\n",
            "weighted avg       0.79      0.79      0.79        91\n",
            "\n"
          ]
        },
        {
          "output_type": "stream",
          "name": "stderr",
          "text": [
            "/usr/local/lib/python3.10/dist-packages/ipykernel/ipkernel.py:283: DeprecationWarning: `should_run_async` will not call `transform_cell` automatically in the future. Please pass the result to `transformed_cell` argument and any exception that happen during thetransform in `preprocessing_exc_tuple` in IPython 7.17 and above.\n",
            "  and should_run_async(code)\n"
          ]
        }
      ]
    },
    {
      "cell_type": "markdown",
      "source": [
        "\n",
        "*   Overall accuracy of 79%, indicating that the model is able to predict heart disease with or without heart disease relatively well.\n",
        "\n",
        "*   The model's performance in predicting having heart disease (category 1) and not having heart disease (category 0) is more balanced, with precision and recall close to 80%.\n"
      ],
      "metadata": {
        "id": "nglb2QLYMVKL"
      }
    },
    {
      "cell_type": "code",
      "source": [
        "# Exporting rules from FIGSClassifier\n",
        "for i, tree in enumerate(figs.trees_):\n",
        "    print(f\"Tree {i+1} Rules:\")\n",
        "    print(tree)\n",
        "    print(\"-\" * 50)"
      ],
      "metadata": {
        "colab": {
          "base_uri": "https://localhost:8080/"
        },
        "id": "V1lhE52fLJGJ",
        "outputId": "3dd02a79-ce59-44d1-eae1-2cbddf32f83f"
      },
      "execution_count": 78,
      "outputs": [
        {
          "output_type": "stream",
          "name": "stdout",
          "text": [
            "Tree 1 Rules:\n",
            "X_11 <= -0.149 (Tree #0 root)\n",
            "--------------------------------------------------\n",
            "Tree 2 Rules:\n",
            "X_12 <= 0.294 (Tree #1 root)\n",
            "--------------------------------------------------\n",
            "Tree 3 Rules:\n",
            "X_2 <= -0.497 (Tree #2 root)\n",
            "--------------------------------------------------\n"
          ]
        },
        {
          "output_type": "stream",
          "name": "stderr",
          "text": [
            "/usr/local/lib/python3.10/dist-packages/ipykernel/ipkernel.py:283: DeprecationWarning: `should_run_async` will not call `transform_cell` automatically in the future. Please pass the result to `transformed_cell` argument and any exception that happen during thetransform in `preprocessing_exc_tuple` in IPython 7.17 and above.\n",
            "  and should_run_async(code)\n"
          ]
        }
      ]
    },
    {
      "cell_type": "markdown",
      "source": [
        "\n",
        "\n",
        "*   Each decision tree is partitioned based on different features: slope(X_11), ca(X_12), sex(X_2), and the rules at the root of the tree determine the main decision basis of the model.\n",
        "*   A threshold for each feature (e.g., X_11 <= -0.149) is the key point used by the model to distinguish between different classes.\n"
      ],
      "metadata": {
        "id": "7mjGB4RYNuAM"
      }
    },
    {
      "cell_type": "code",
      "source": [
        "# Confusion matrix for FIGSClassifier\n",
        "conf_matrix_figs = confusion_matrix(y_test, y_pred_figs)\n",
        "\n",
        "# Plotting the confusion matrix\n",
        "plt.figure(figsize=(4, 4))\n",
        "disp = ConfusionMatrixDisplay(confusion_matrix=conf_matrix_figs)\n",
        "disp.plot(cmap=plt.cm.Blues)\n",
        "plt.title('Confusion Matrix - FIGSClassifier')\n",
        "\n",
        "# Compute ROC curve and ROC area for FIGSClassifier\n",
        "y_prob_figs = figs.predict_proba(X_test_scaled)[:, 1]\n",
        "fpr, tpr, _ = roc_curve(y_test, y_prob_figs)\n",
        "roc_auc = auc(fpr, tpr)\n",
        "\n",
        "# Plotting the ROC Curve\n",
        "plt.figure(figsize=(4, 4))\n",
        "plt.plot(fpr, tpr, color='darkorange', lw=2, label=f'ROC curve (area = {roc_auc:.2f})')\n",
        "plt.plot([0, 1], [0, 1], color='navy', lw=2, linestyle='--')\n",
        "plt.xlim([0.0, 1.0])\n",
        "plt.ylim([0.0, 1.05])\n",
        "plt.xlabel('False Positive Rate')\n",
        "plt.ylabel('True Positive Rate')\n",
        "plt.title('Receiver Operating Characteristic - FIGSClassifier')\n",
        "plt.legend(loc='lower right')\n",
        "plt.show()\n",
        "\n",
        "# Compute ROC curve and ROC area for FIGSClassifier\n",
        "y_prob_figs = figs.predict_proba(X_test_scaled)[:, 1]\n",
        "fpr, tpr, _ = roc_curve(y_test, y_prob_figs)\n",
        "roc_auc = auc(fpr, tpr)\n",
        "print(f'ROC AUC: {roc_auc}')"
      ],
      "metadata": {
        "colab": {
          "base_uri": "https://localhost:8080/",
          "height": 956
        },
        "id": "RjMfptUoLaJr",
        "outputId": "93153875-5afe-4cf7-a2f9-43b83960f16f"
      },
      "execution_count": 79,
      "outputs": [
        {
          "output_type": "stream",
          "name": "stderr",
          "text": [
            "/usr/local/lib/python3.10/dist-packages/ipykernel/ipkernel.py:283: DeprecationWarning: `should_run_async` will not call `transform_cell` automatically in the future. Please pass the result to `transformed_cell` argument and any exception that happen during thetransform in `preprocessing_exc_tuple` in IPython 7.17 and above.\n",
            "  and should_run_async(code)\n"
          ]
        },
        {
          "output_type": "display_data",
          "data": {
            "text/plain": [
              "<Figure size 400x400 with 0 Axes>"
            ]
          },
          "metadata": {}
        },
        {
          "output_type": "display_data",
          "data": {
            "text/plain": [
              "<Figure size 640x480 with 2 Axes>"
            ],
            "image/png": "[encoded data removed]"
          },
          "metadata": {}
        },
        {
          "output_type": "display_data",
          "data": {
            "text/plain": [
              "<Figure size 400x400 with 1 Axes>"
            ],
            "image/png": "[encoded data removed]"
          },
          "metadata": {}
        },
        {
          "output_type": "stream",
          "name": "stdout",
          "text": [
            "ROC AUC: 0.8685365853658537\n"
          ]
        }
      ]
    },
    {
      "cell_type": "markdown",
      "source": [
        "\n",
        "\n",
        "*   According to the confusion matrix, The model is able to correctly classify most of the positive and negative examples, as seen by the higher counts in the true positive (39) and true negative (33) cells.\n",
        "*   The AUC of 0.87 suggests that the FIGSClassifier is performing well at distinguishing between the positive and negative classes, significantly better than random guessing.\n",
        "\n"
      ],
      "metadata": {
        "id": "cjkjlVVHLeaK"
      }
    },
    {
      "cell_type": "markdown",
      "source": [
        "**Summary:**\n",
        "\n",
        "The model generated by FIGS consists of a set of simple decision trees, each with easy to understand rules. With these trees, the user can see how the model makes decisions based on specific features (e.g. sex, slope, ca, etc.).\n"
      ],
      "metadata": {
        "id": "IUvKIyIdOAXv"
      }
    },
    {
      "cell_type": "markdown",
      "source": [
        "# Greedy rule tree (CART)"
      ],
      "metadata": {
        "id": "w0S-F58uAjMy"
      }
    },
    {
      "cell_type": "markdown",
      "source": [
        "\n",
        "\n",
        "*   CART generates a decision tree through a greedy strategy and the output is a tree model. The branches of the tree directly show how each decision was made, e.g., judgments based on blood pressure and age. This is of great practical value in the clinical assessment of cardiac risk, as physicians can clearly see the key risk factors affecting each patient.\n",
        "*   The CART algorithm is well suited to binary problems, and since “target” in my dataset is a dichotomous variable (0 means no heart disease, 1 means heart disease), CART can be used very effectively to predict a patient's health status.\n",
        "\n"
      ],
      "metadata": {
        "id": "vCTudIZFOuAB"
      }
    },
    {
      "cell_type": "code",
      "source": [
        "class GreedyTreeClassifier(DecisionTreeClassifier):\n",
        "    \"\"\"Wrapper around sklearn greedy tree classifier\"\"\"\n",
        "\n",
        "    def fit(self, X, y, feature_names=None, sample_weight=None, check_input=True):\n",
        "        # Check input arguments and set feature names properly\n",
        "        X, y, feature_names = check_fit_arguments(self, X, y, feature_names)\n",
        "\n",
        "        # Fit the tree using the parent class's method\n",
        "        super().fit(X, y, sample_weight=sample_weight, check_input=check_input)\n",
        "\n",
        "        # Calculate tree complexity (custom method)\n",
        "        self._set_complexity()\n",
        "\n",
        "    def _set_complexity(self):\n",
        "        \"\"\"Set the tree's complexity as the number of non-leaf nodes.\"\"\"\n",
        "        self.complexity_ = compute_tree_complexity(self.tree_)\n",
        "\n",
        "    def __str__(self):\n",
        "        s = '> ------------------------------\\n'\n",
        "        s += '> Greedy CART Tree:\\n'\n",
        "        s += '> \\tPrediction is made by looking at the value in the appropriate leaf of the tree\\n'\n",
        "        s += '> ------------------------------\\n'\n",
        "\n",
        "        # Include feature names in the output if available\n",
        "        if hasattr(self, 'feature_names') and self.feature_names is not None:\n",
        "            return s + export_text(self, feature_names=self.feature_names, show_weights=True)\n",
        "        else:\n",
        "            return s + export_text(self, show_weights=True)\n"
      ],
      "metadata": {
        "colab": {
          "base_uri": "https://localhost:8080/"
        },
        "id": "v8LvtYyCw6dR",
        "outputId": "5e92426f-4fbc-4c4d-a231-3a4840f546b2"
      },
      "execution_count": 80,
      "outputs": [
        {
          "output_type": "stream",
          "name": "stderr",
          "text": [
            "/usr/local/lib/python3.10/dist-packages/ipykernel/ipkernel.py:283: DeprecationWarning: `should_run_async` will not call `transform_cell` automatically in the future. Please pass the result to `transformed_cell` argument and any exception that happen during thetransform in `preprocessing_exc_tuple` in IPython 7.17 and above.\n",
            "  and should_run_async(code)\n"
          ]
        }
      ]
    },
    {
      "cell_type": "code",
      "source": [
        "# Initialize the custom GreedyTreeClassifier\n",
        "greedy_tree_model = GreedyTreeClassifier()\n",
        "\n",
        "# Train (fit) the model on the training data\n",
        "greedy_tree_model.fit(X_train, y_train, feature_names=X.columns)\n",
        "\n",
        "# Predict on the test data\n",
        "y_pred = greedy_tree_model.predict(X_test)\n",
        "\n",
        "# Calculate the accuracy of the model\n",
        "accuracy = accuracy_score(y_test, y_pred)\n",
        "\n",
        "# Print the accuracy\n",
        "print(f\"Model Accuracy: {accuracy:.2f}\")\n",
        "\n",
        "# Print the structure of the decision tree\n",
        "print(greedy_tree_model)\n"
      ],
      "metadata": {
        "colab": {
          "base_uri": "https://localhost:8080/"
        },
        "id": "w0HQboialBa5",
        "outputId": "3883d00c-0d84-4a06-a4b2-03e5b964466c"
      },
      "execution_count": 81,
      "outputs": [
        {
          "output_type": "stream",
          "name": "stdout",
          "text": [
            "Model Accuracy: 0.71\n",
            "> ------------------------------\n",
            "> Greedy CART Tree:\n",
            "> \tPrediction is made by looking at the value in the appropriate leaf of the tree\n",
            "> ------------------------------\n",
            "|--- feature_11 <= 0.50\n",
            "|   |--- feature_12 <= 2.50\n",
            "|   |   |--- feature_9 <= 1.70\n",
            "|   |   |   |--- feature_3 <= 167.00\n",
            "|   |   |   |   |--- feature_0 <= 60.50\n",
            "|   |   |   |   |   |--- feature_3 <= 109.00\n",
            "|   |   |   |   |   |   |--- feature_1 <= 0.50\n",
            "|   |   |   |   |   |   |   |--- weights: [0.00, 4.00] class: 1.0\n",
            "|   |   |   |   |   |   |--- feature_1 >  0.50\n",
            "|   |   |   |   |   |   |   |--- weights: [1.00, 0.00] class: 0.0\n",
            "|   |   |   |   |   |--- feature_3 >  109.00\n",
            "|   |   |   |   |   |   |--- weights: [0.00, 62.00] class: 1.0\n",
            "|   |   |   |   |--- feature_0 >  60.50\n",
            "|   |   |   |   |   |--- feature_9 <= 0.20\n",
            "|   |   |   |   |   |   |--- feature_3 <= 132.50\n",
            "|   |   |   |   |   |   |   |--- feature_4 <= 203.00\n",
            "|   |   |   |   |   |   |   |   |--- weights: [1.00, 0.00] class: 0.0\n",
            "|   |   |   |   |   |   |   |--- feature_4 >  203.00\n",
            "|   |   |   |   |   |   |   |   |--- feature_6 <= 0.50\n",
            "|   |   |   |   |   |   |   |   |   |--- weights: [1.00, 0.00] class: 0.0\n",
            "|   |   |   |   |   |   |   |   |--- feature_6 >  0.50\n",
            "|   |   |   |   |   |   |   |   |   |--- weights: [0.00, 1.00] class: 1.0\n",
            "|   |   |   |   |   |   |--- feature_3 >  132.50\n",
            "|   |   |   |   |   |   |   |--- weights: [0.00, 2.00] class: 1.0\n",
            "|   |   |   |   |   |--- feature_9 >  0.20\n",
            "|   |   |   |   |   |   |--- weights: [0.00, 7.00] class: 1.0\n",
            "|   |   |   |--- feature_3 >  167.00\n",
            "|   |   |   |   |--- feature_10 <= 1.50\n",
            "|   |   |   |   |   |--- weights: [1.00, 0.00] class: 0.0\n",
            "|   |   |   |   |--- feature_10 >  1.50\n",
            "|   |   |   |   |   |--- weights: [0.00, 1.00] class: 1.0\n",
            "|   |   |--- feature_9 >  1.70\n",
            "|   |   |   |--- feature_0 <= 61.50\n",
            "|   |   |   |   |--- feature_7 <= 173.50\n",
            "|   |   |   |   |   |--- weights: [5.00, 0.00] class: 0.0\n",
            "|   |   |   |   |--- feature_7 >  173.50\n",
            "|   |   |   |   |   |--- weights: [0.00, 1.00] class: 1.0\n",
            "|   |   |   |--- feature_0 >  61.50\n",
            "|   |   |   |   |--- weights: [0.00, 3.00] class: 1.0\n",
            "|   |--- feature_12 >  2.50\n",
            "|   |   |--- feature_8 <= 0.50\n",
            "|   |   |   |--- feature_0 <= 50.00\n",
            "|   |   |   |   |--- feature_5 <= 0.50\n",
            "|   |   |   |   |   |--- weights: [6.00, 0.00] class: 0.0\n",
            "|   |   |   |   |--- feature_5 >  0.50\n",
            "|   |   |   |   |   |--- weights: [0.00, 2.00] class: 1.0\n",
            "|   |   |   |--- feature_0 >  50.00\n",
            "|   |   |   |   |--- feature_7 <= 153.00\n",
            "|   |   |   |   |   |--- feature_3 <= 122.00\n",
            "|   |   |   |   |   |   |--- weights: [0.00, 2.00] class: 1.0\n",
            "|   |   |   |   |   |--- feature_3 >  122.00\n",
            "|   |   |   |   |   |   |--- feature_7 <= 137.00\n",
            "|   |   |   |   |   |   |   |--- weights: [0.00, 1.00] class: 1.0\n",
            "|   |   |   |   |   |   |--- feature_7 >  137.00\n",
            "|   |   |   |   |   |   |   |--- weights: [2.00, 0.00] class: 0.0\n",
            "|   |   |   |   |--- feature_7 >  153.00\n",
            "|   |   |   |   |   |--- weights: [0.00, 8.00] class: 1.0\n",
            "|   |   |--- feature_8 >  0.50\n",
            "|   |   |   |--- feature_9 <= 0.10\n",
            "|   |   |   |   |--- feature_4 <= 254.00\n",
            "|   |   |   |   |   |--- weights: [0.00, 2.00] class: 1.0\n",
            "|   |   |   |   |--- feature_4 >  254.00\n",
            "|   |   |   |   |   |--- weights: [1.00, 0.00] class: 0.0\n",
            "|   |   |   |--- feature_9 >  0.10\n",
            "|   |   |   |   |--- weights: [15.00, 0.00] class: 0.0\n",
            "|--- feature_11 >  0.50\n",
            "|   |--- feature_2 <= 0.50\n",
            "|   |   |--- feature_3 <= 109.00\n",
            "|   |   |   |--- feature_0 <= 55.00\n",
            "|   |   |   |   |--- weights: [0.00, 1.00] class: 1.0\n",
            "|   |   |   |--- feature_0 >  55.00\n",
            "|   |   |   |   |--- weights: [3.00, 0.00] class: 0.0\n",
            "|   |   |--- feature_3 >  109.00\n",
            "|   |   |   |--- feature_1 <= 0.50\n",
            "|   |   |   |   |--- feature_4 <= 298.50\n",
            "|   |   |   |   |   |--- weights: [5.00, 0.00] class: 0.0\n",
            "|   |   |   |   |--- feature_4 >  298.50\n",
            "|   |   |   |   |   |--- feature_3 <= 140.00\n",
            "|   |   |   |   |   |   |--- weights: [0.00, 1.00] class: 1.0\n",
            "|   |   |   |   |   |--- feature_3 >  140.00\n",
            "|   |   |   |   |   |   |--- weights: [1.00, 0.00] class: 0.0\n",
            "|   |   |   |--- feature_1 >  0.50\n",
            "|   |   |   |   |--- weights: [38.00, 0.00] class: 0.0\n",
            "|   |--- feature_2 >  0.50\n",
            "|   |   |--- feature_10 <= 1.50\n",
            "|   |   |   |--- feature_0 <= 61.50\n",
            "|   |   |   |   |--- weights: [7.00, 0.00] class: 0.0\n",
            "|   |   |   |--- feature_0 >  61.50\n",
            "|   |   |   |   |--- feature_7 <= 125.50\n",
            "|   |   |   |   |   |--- weights: [4.00, 0.00] class: 0.0\n",
            "|   |   |   |   |--- feature_7 >  125.50\n",
            "|   |   |   |   |   |--- feature_4 <= 280.00\n",
            "|   |   |   |   |   |   |--- weights: [0.00, 3.00] class: 1.0\n",
            "|   |   |   |   |   |--- feature_4 >  280.00\n",
            "|   |   |   |   |   |   |--- weights: [1.00, 0.00] class: 0.0\n",
            "|   |   |--- feature_10 >  1.50\n",
            "|   |   |   |--- feature_11 <= 1.50\n",
            "|   |   |   |   |--- feature_3 <= 176.00\n",
            "|   |   |   |   |   |--- weights: [0.00, 10.00] class: 1.0\n",
            "|   |   |   |   |--- feature_3 >  176.00\n",
            "|   |   |   |   |   |--- weights: [1.00, 0.00] class: 0.0\n",
            "|   |   |   |--- feature_11 >  1.50\n",
            "|   |   |   |   |--- feature_7 <= 167.50\n",
            "|   |   |   |   |   |--- weights: [3.00, 0.00] class: 0.0\n",
            "|   |   |   |   |--- feature_7 >  167.50\n",
            "|   |   |   |   |   |--- feature_9 <= 2.00\n",
            "|   |   |   |   |   |   |--- weights: [0.00, 4.00] class: 1.0\n",
            "|   |   |   |   |   |--- feature_9 >  2.00\n",
            "|   |   |   |   |   |   |--- weights: [1.00, 0.00] class: 0.0\n",
            "\n"
          ]
        },
        {
          "output_type": "stream",
          "name": "stderr",
          "text": [
            "/usr/local/lib/python3.10/dist-packages/ipykernel/ipkernel.py:283: DeprecationWarning: `should_run_async` will not call `transform_cell` automatically in the future. Please pass the result to `transformed_cell` argument and any exception that happen during thetransform in `preprocessing_exc_tuple` in IPython 7.17 and above.\n",
            "  and should_run_async(code)\n",
            "/usr/local/lib/python3.10/dist-packages/sklearn/base.py:486: UserWarning: X has feature names, but GreedyTreeClassifier was fitted without feature names\n",
            "  warnings.warn(\n"
          ]
        }
      ]
    },
    {
      "cell_type": "code",
      "source": [
        "# Visualize the tree using graphviz\n",
        "dot_data = export_graphviz(greedy_tree_model, out_file=None,\n",
        "                           feature_names=X.columns,\n",
        "                           class_names=['0', '1'],  # Assuming binary classification\n",
        "                           filled=True, rounded=True,\n",
        "                           special_characters=True)\n",
        "\n",
        "graph = graphviz.Source(dot_data)\n",
        "graph.render(\"greedy_tree\")\n",
        "graph"
      ],
      "metadata": {
        "colab": {
          "base_uri": "https://localhost:8080/",
          "height": 1000
        },
        "id": "X8unIFMeMOxD",
        "outputId": "8f5768b1-f3d6-4246-d0fe-c9c2c8076319"
      },
      "execution_count": 82,
      "outputs": [
        {
          "output_type": "stream",
          "name": "stderr",
          "text": [
            "/usr/local/lib/python3.10/dist-packages/ipykernel/ipkernel.py:283: DeprecationWarning: `should_run_async` will not call `transform_cell` automatically in the future. Please pass the result to `transformed_cell` argument and any exception that happen during thetransform in `preprocessing_exc_tuple` in IPython 7.17 and above.\n",
            "  and should_run_async(code)\n"
          ]
        },
        {
          "output_type": "execute_result",
          "data": {
            "image/svg+xml": "<?xml version=\"1.0\" encoding=\"UTF-8\" standalone=\"no\"?>\n<!DOCTYPE svg PUBLIC \"-//W3C//DTD SVG 1.1//EN\"\n \"http://www.w3.org/Graphics/SVG/1.1/DTD/svg11.dtd\">\n<!-- Generated by graphviz version 2.43.0 (0)\n -->\n<!-- Title: Tree Pages: 1 -->\n<svg width=\"2744pt\" height=\"1147pt\"\n viewBox=\"0.00 0.00 2744.00 1147.00\" xmlns=\"http://www.w3.org/2000/svg\" xmlns:xlink=\"http://www.w3.org/1999/xlink\">\n<g id=\"graph0\" class=\"graph\" transform=\"scale(1 1) rotate(0) translate(4 1143)\">\n<title>Tree</title>\n<polygon fill=\"white\" stroke=\"transparent\" points=\"-4,4 -4,-1143 2740,-1143 2740,4 -4,4\"/>\n<!-- 0 -->\n<g id=\"node1\" class=\"node\">\n<title>0</title>\n<path fill=\"#e0f0fb\" stroke=\"black\" d=\"M1558.5,-1139C1558.5,-1139 1442.5,-1139 1442.5,-1139 1436.5,-1139 1430.5,-1133 1430.5,-1127 1430.5,-1127 1430.5,-1068 1430.5,-1068 1430.5,-1062 1436.5,-1056 1442.5,-1056 1442.5,-1056 1558.5,-1056 1558.5,-1056 1564.5,-1056 1570.5,-1062 1570.5,-1068 1570.5,-1068 1570.5,-1127 1570.5,-1127 1570.5,-1133 1564.5,-1139 1558.5,-1139\"/>\n<text text-anchor=\"start\" x=\"1476\" y=\"-1123.8\" font-family=\"Helvetica,sans-Serif\" font-size=\"14.00\">ca ≤ 0.5</text>\n<text text-anchor=\"start\" x=\"1465\" y=\"-1108.8\" font-family=\"Helvetica,sans-Serif\" font-size=\"14.00\">gini = 0.496</text>\n<text text-anchor=\"start\" x=\"1455.5\" y=\"-1093.8\" font-family=\"Helvetica,sans-Serif\" font-size=\"14.00\">samples = 212</text>\n<text text-anchor=\"start\" x=\"1438.5\" y=\"-1078.8\" font-family=\"Helvetica,sans-Serif\" font-size=\"14.00\">value = [97.0, 115.0]</text>\n<text text-anchor=\"start\" x=\"1473\" y=\"-1063.8\" font-family=\"Helvetica,sans-Serif\" font-size=\"14.00\">class = 1</text>\n</g>\n<!-- 1 -->\n<g id=\"node2\" class=\"node\">\n<title>1</title>\n<path fill=\"#7dbfee\" stroke=\"black\" d=\"M1311.5,-1020C1311.5,-1020 1225.5,-1020 1225.5,-1020 1219.5,-1020 1213.5,-1014 1213.5,-1008 1213.5,-1008 1213.5,-949 1213.5,-949 1213.5,-943 1219.5,-937 1225.5,-937 1225.5,-937 1311.5,-937 1311.5,-937 1317.5,-937 1323.5,-943 1323.5,-949 1323.5,-949 1323.5,-1008 1323.5,-1008 1323.5,-1014 1317.5,-1020 1311.5,-1020\"/>\n<text text-anchor=\"start\" x=\"1240.5\" y=\"-1004.8\" font-family=\"Helvetica,sans-Serif\" font-size=\"14.00\">thal ≤ 2.5</text>\n<text text-anchor=\"start\" x=\"1233\" y=\"-989.8\" font-family=\"Helvetica,sans-Serif\" font-size=\"14.00\">gini = 0.381</text>\n<text text-anchor=\"start\" x=\"1223.5\" y=\"-974.8\" font-family=\"Helvetica,sans-Serif\" font-size=\"14.00\">samples = 129</text>\n<text text-anchor=\"start\" x=\"1221.5\" y=\"-959.8\" font-family=\"Helvetica,sans-Serif\" font-size=\"14.00\">value = [33, 96]</text>\n<text text-anchor=\"start\" x=\"1241\" y=\"-944.8\" font-family=\"Helvetica,sans-Serif\" font-size=\"14.00\">class = 1</text>\n</g>\n<!-- 0&#45;&gt;1 -->\n<g id=\"edge1\" class=\"edge\">\n<title>0&#45;&gt;1</title>\n<path fill=\"none\" stroke=\"black\" d=\"M1430.26,-1061.08C1399.32,-1045.47 1363.21,-1027.26 1332.96,-1012.01\"/>\n<polygon fill=\"black\" stroke=\"black\" points=\"1334.28,-1008.75 1323.78,-1007.38 1331.13,-1015 1334.28,-1008.75\"/>\n<text text-anchor=\"middle\" x=\"1331.6\" y=\"-1027.42\" font-family=\"Helvetica,sans-Serif\" font-size=\"14.00\">True</text>\n</g>\n<!-- 44 -->\n<g id=\"node45\" class=\"node\">\n<title>44</title>\n<path fill=\"#eda674\" stroke=\"black\" d=\"M1803.5,-1020C1803.5,-1020 1717.5,-1020 1717.5,-1020 1711.5,-1020 1705.5,-1014 1705.5,-1008 1705.5,-1008 1705.5,-949 1705.5,-949 1705.5,-943 1711.5,-937 1717.5,-937 1717.5,-937 1803.5,-937 1803.5,-937 1809.5,-937 1815.5,-943 1815.5,-949 1815.5,-949 1815.5,-1008 1815.5,-1008 1815.5,-1014 1809.5,-1020 1803.5,-1020\"/>\n<text text-anchor=\"start\" x=\"1736\" y=\"-1004.8\" font-family=\"Helvetica,sans-Serif\" font-size=\"14.00\">cp ≤ 0.5</text>\n<text text-anchor=\"start\" x=\"1725\" y=\"-989.8\" font-family=\"Helvetica,sans-Serif\" font-size=\"14.00\">gini = 0.353</text>\n<text text-anchor=\"start\" x=\"1719.5\" y=\"-974.8\" font-family=\"Helvetica,sans-Serif\" font-size=\"14.00\">samples = 83</text>\n<text text-anchor=\"start\" x=\"1713.5\" y=\"-959.8\" font-family=\"Helvetica,sans-Serif\" font-size=\"14.00\">value = [64, 19]</text>\n<text text-anchor=\"start\" x=\"1733\" y=\"-944.8\" font-family=\"Helvetica,sans-Serif\" font-size=\"14.00\">class = 0</text>\n</g>\n<!-- 0&#45;&gt;44 -->\n<g id=\"edge44\" class=\"edge\">\n<title>0&#45;&gt;44</title>\n<path fill=\"none\" stroke=\"black\" d=\"M1570.52,-1064.99C1609.48,-1047.46 1657.65,-1025.78 1695.73,-1008.64\"/>\n<polygon fill=\"black\" stroke=\"black\" points=\"1697.51,-1011.69 1705.19,-1004.39 1694.63,-1005.3 1697.51,-1011.69\"/>\n<text text-anchor=\"middle\" x=\"1696.32\" y=\"-1024.07\" font-family=\"Helvetica,sans-Serif\" font-size=\"14.00\">False</text>\n</g>\n<!-- 2 -->\n<g id=\"node3\" class=\"node\">\n<title>2</title>\n<path fill=\"#4fa8e8\" stroke=\"black\" d=\"M778.5,-901C778.5,-901 700.5,-901 700.5,-901 694.5,-901 688.5,-895 688.5,-889 688.5,-889 688.5,-830 688.5,-830 688.5,-824 694.5,-818 700.5,-818 700.5,-818 778.5,-818 778.5,-818 784.5,-818 790.5,-824 790.5,-830 790.5,-830 790.5,-889 790.5,-889 790.5,-895 784.5,-901 778.5,-901\"/>\n<text text-anchor=\"start\" x=\"698.5\" y=\"-885.8\" font-family=\"Helvetica,sans-Serif\" font-size=\"14.00\">oldpeak ≤ 1.7</text>\n<text text-anchor=\"start\" x=\"707.5\" y=\"-870.8\" font-family=\"Helvetica,sans-Serif\" font-size=\"14.00\">gini = 0.18</text>\n<text text-anchor=\"start\" x=\"698.5\" y=\"-855.8\" font-family=\"Helvetica,sans-Serif\" font-size=\"14.00\">samples = 90</text>\n<text text-anchor=\"start\" x=\"696.5\" y=\"-840.8\" font-family=\"Helvetica,sans-Serif\" font-size=\"14.00\">value = [9, 81]</text>\n<text text-anchor=\"start\" x=\"712\" y=\"-825.8\" font-family=\"Helvetica,sans-Serif\" font-size=\"14.00\">class = 1</text>\n</g>\n<!-- 1&#45;&gt;2 -->\n<g id=\"edge2\" class=\"edge\">\n<title>1&#45;&gt;2</title>\n<path fill=\"none\" stroke=\"black\" d=\"M1213.38,-965.31C1113.76,-943.28 904.44,-896.98 800.6,-874.01\"/>\n<polygon fill=\"black\" stroke=\"black\" points=\"801.1,-870.54 790.58,-871.8 799.59,-877.38 801.1,-870.54\"/>\n</g>\n<!-- 27 -->\n<g id=\"node28\" class=\"node\">\n<title>27</title>\n<path fill=\"#f5d0b5\" stroke=\"black\" d=\"M1311.5,-901C1311.5,-901 1225.5,-901 1225.5,-901 1219.5,-901 1213.5,-895 1213.5,-889 1213.5,-889 1213.5,-830 1213.5,-830 1213.5,-824 1219.5,-818 1225.5,-818 1225.5,-818 1311.5,-818 1311.5,-818 1317.5,-818 1323.5,-824 1323.5,-830 1323.5,-830 1323.5,-889 1323.5,-889 1323.5,-895 1317.5,-901 1311.5,-901\"/>\n<text text-anchor=\"start\" x=\"1233\" y=\"-885.8\" font-family=\"Helvetica,sans-Serif\" font-size=\"14.00\">exang ≤ 0.5</text>\n<text text-anchor=\"start\" x=\"1233\" y=\"-870.8\" font-family=\"Helvetica,sans-Serif\" font-size=\"14.00\">gini = 0.473</text>\n<text text-anchor=\"start\" x=\"1227.5\" y=\"-855.8\" font-family=\"Helvetica,sans-Serif\" font-size=\"14.00\">samples = 39</text>\n<text text-anchor=\"start\" x=\"1221.5\" y=\"-840.8\" font-family=\"Helvetica,sans-Serif\" font-size=\"14.00\">value = [24, 15]</text>\n<text text-anchor=\"start\" x=\"1241\" y=\"-825.8\" font-family=\"Helvetica,sans-Serif\" font-size=\"14.00\">class = 0</text>\n</g>\n<!-- 1&#45;&gt;27 -->\n<g id=\"edge27\" class=\"edge\">\n<title>1&#45;&gt;27</title>\n<path fill=\"none\" stroke=\"black\" d=\"M1268.5,-936.91C1268.5,-928.65 1268.5,-919.86 1268.5,-911.3\"/>\n<polygon fill=\"black\" stroke=\"black\" points=\"1272,-911.02 1268.5,-901.02 1265,-911.02 1272,-911.02\"/>\n</g>\n<!-- 3 -->\n<g id=\"node4\" class=\"node\">\n<title>3</title>\n<path fill=\"#43a2e6\" stroke=\"black\" d=\"M603,-782C603,-782 514,-782 514,-782 508,-782 502,-776 502,-770 502,-770 502,-711 502,-711 502,-705 508,-699 514,-699 514,-699 603,-699 603,-699 609,-699 615,-705 615,-711 615,-711 615,-770 615,-770 615,-776 609,-782 603,-782\"/>\n<text text-anchor=\"start\" x=\"510\" y=\"-766.8\" font-family=\"Helvetica,sans-Serif\" font-size=\"14.00\">trestbps ≤ 167.0</text>\n<text text-anchor=\"start\" x=\"523\" y=\"-751.8\" font-family=\"Helvetica,sans-Serif\" font-size=\"14.00\">gini = 0.094</text>\n<text text-anchor=\"start\" x=\"517.5\" y=\"-736.8\" font-family=\"Helvetica,sans-Serif\" font-size=\"14.00\">samples = 81</text>\n<text text-anchor=\"start\" x=\"515.5\" y=\"-721.8\" font-family=\"Helvetica,sans-Serif\" font-size=\"14.00\">value = [4, 77]</text>\n<text text-anchor=\"start\" x=\"531\" y=\"-706.8\" font-family=\"Helvetica,sans-Serif\" font-size=\"14.00\">class = 1</text>\n</g>\n<!-- 2&#45;&gt;3 -->\n<g id=\"edge3\" class=\"edge\">\n<title>2&#45;&gt;3</title>\n<path fill=\"none\" stroke=\"black\" d=\"M688.12,-825.29C668.09,-812.34 644.9,-797.35 623.72,-783.66\"/>\n<polygon fill=\"black\" stroke=\"black\" points=\"625.39,-780.57 615.09,-778.08 621.59,-786.45 625.39,-780.57\"/>\n</g>\n<!-- 22 -->\n<g id=\"node23\" class=\"node\">\n<title>22</title>\n<path fill=\"#fae6d7\" stroke=\"black\" d=\"M775,-782C775,-782 704,-782 704,-782 698,-782 692,-776 692,-770 692,-770 692,-711 692,-711 692,-705 698,-699 704,-699 704,-699 775,-699 775,-699 781,-699 787,-705 787,-711 787,-711 787,-770 787,-770 787,-776 781,-782 775,-782\"/>\n<text text-anchor=\"start\" x=\"707.5\" y=\"-766.8\" font-family=\"Helvetica,sans-Serif\" font-size=\"14.00\">age ≤ 61.5</text>\n<text text-anchor=\"start\" x=\"704\" y=\"-751.8\" font-family=\"Helvetica,sans-Serif\" font-size=\"14.00\">gini = 0.494</text>\n<text text-anchor=\"start\" x=\"702\" y=\"-736.8\" font-family=\"Helvetica,sans-Serif\" font-size=\"14.00\">samples = 9</text>\n<text text-anchor=\"start\" x=\"700\" y=\"-721.8\" font-family=\"Helvetica,sans-Serif\" font-size=\"14.00\">value = [5, 4]</text>\n<text text-anchor=\"start\" x=\"712\" y=\"-706.8\" font-family=\"Helvetica,sans-Serif\" font-size=\"14.00\">class = 0</text>\n</g>\n<!-- 2&#45;&gt;22 -->\n<g id=\"edge22\" class=\"edge\">\n<title>2&#45;&gt;22</title>\n<path fill=\"none\" stroke=\"black\" d=\"M739.5,-817.91C739.5,-809.65 739.5,-800.86 739.5,-792.3\"/>\n<polygon fill=\"black\" stroke=\"black\" points=\"743,-792.02 739.5,-782.02 736,-792.02 743,-792.02\"/>\n</g>\n<!-- 4 -->\n<g id=\"node5\" class=\"node\">\n<title>4</title>\n<path fill=\"#41a1e6\" stroke=\"black\" d=\"M385.5,-663C385.5,-663 307.5,-663 307.5,-663 301.5,-663 295.5,-657 295.5,-651 295.5,-651 295.5,-592 295.5,-592 295.5,-586 301.5,-580 307.5,-580 307.5,-580 385.5,-580 385.5,-580 391.5,-580 397.5,-586 397.5,-592 397.5,-592 397.5,-651 397.5,-651 397.5,-657 391.5,-663 385.5,-663\"/>\n<text text-anchor=\"start\" x=\"314.5\" y=\"-647.8\" font-family=\"Helvetica,sans-Serif\" font-size=\"14.00\">age ≤ 60.5</text>\n<text text-anchor=\"start\" x=\"311\" y=\"-632.8\" font-family=\"Helvetica,sans-Serif\" font-size=\"14.00\">gini = 0.073</text>\n<text text-anchor=\"start\" x=\"305.5\" y=\"-617.8\" font-family=\"Helvetica,sans-Serif\" font-size=\"14.00\">samples = 79</text>\n<text text-anchor=\"start\" x=\"303.5\" y=\"-602.8\" font-family=\"Helvetica,sans-Serif\" font-size=\"14.00\">value = [3, 76]</text>\n<text text-anchor=\"start\" x=\"319\" y=\"-587.8\" font-family=\"Helvetica,sans-Serif\" font-size=\"14.00\">class = 1</text>\n</g>\n<!-- 3&#45;&gt;4 -->\n<g id=\"edge4\" class=\"edge\">\n<title>3&#45;&gt;4</title>\n<path fill=\"none\" stroke=\"black\" d=\"M501.97,-708.3C472.62,-692.1 436.75,-672.31 406.87,-655.82\"/>\n<polygon fill=\"black\" stroke=\"black\" points=\"408.24,-652.58 397.8,-650.81 404.86,-658.71 408.24,-652.58\"/>\n</g>\n<!-- 19 -->\n<g id=\"node20\" class=\"node\">\n<title>19</title>\n<path fill=\"#ffffff\" stroke=\"black\" d=\"M594,-663C594,-663 523,-663 523,-663 517,-663 511,-657 511,-651 511,-651 511,-592 511,-592 511,-586 517,-580 523,-580 523,-580 594,-580 594,-580 600,-580 606,-586 606,-592 606,-592 606,-651 606,-651 606,-657 600,-663 594,-663\"/>\n<text text-anchor=\"start\" x=\"525\" y=\"-647.8\" font-family=\"Helvetica,sans-Serif\" font-size=\"14.00\">slope ≤ 1.5</text>\n<text text-anchor=\"start\" x=\"530.5\" y=\"-632.8\" font-family=\"Helvetica,sans-Serif\" font-size=\"14.00\">gini = 0.5</text>\n<text text-anchor=\"start\" x=\"521\" y=\"-617.8\" font-family=\"Helvetica,sans-Serif\" font-size=\"14.00\">samples = 2</text>\n<text text-anchor=\"start\" x=\"519\" y=\"-602.8\" font-family=\"Helvetica,sans-Serif\" font-size=\"14.00\">value = [1, 1]</text>\n<text text-anchor=\"start\" x=\"531\" y=\"-587.8\" font-family=\"Helvetica,sans-Serif\" font-size=\"14.00\">class = 0</text>\n</g>\n<!-- 3&#45;&gt;19 -->\n<g id=\"edge19\" class=\"edge\">\n<title>3&#45;&gt;19</title>\n<path fill=\"none\" stroke=\"black\" d=\"M558.5,-698.91C558.5,-690.65 558.5,-681.86 558.5,-673.3\"/>\n<polygon fill=\"black\" stroke=\"black\" points=\"562,-673.02 558.5,-663.02 555,-673.02 562,-673.02\"/>\n</g>\n<!-- 5 -->\n<g id=\"node6\" class=\"node\">\n<title>5</title>\n<path fill=\"#3c9ee5\" stroke=\"black\" d=\"M265,-544C265,-544 176,-544 176,-544 170,-544 164,-538 164,-532 164,-532 164,-473 164,-473 164,-467 170,-461 176,-461 176,-461 265,-461 265,-461 271,-461 277,-467 277,-473 277,-473 277,-532 277,-532 277,-538 271,-544 265,-544\"/>\n<text text-anchor=\"start\" x=\"172\" y=\"-528.8\" font-family=\"Helvetica,sans-Serif\" font-size=\"14.00\">trestbps ≤ 109.0</text>\n<text text-anchor=\"start\" x=\"185\" y=\"-513.8\" font-family=\"Helvetica,sans-Serif\" font-size=\"14.00\">gini = 0.029</text>\n<text text-anchor=\"start\" x=\"179.5\" y=\"-498.8\" font-family=\"Helvetica,sans-Serif\" font-size=\"14.00\">samples = 67</text>\n<text text-anchor=\"start\" x=\"177.5\" y=\"-483.8\" font-family=\"Helvetica,sans-Serif\" font-size=\"14.00\">value = [1, 66]</text>\n<text text-anchor=\"start\" x=\"193\" y=\"-468.8\" font-family=\"Helvetica,sans-Serif\" font-size=\"14.00\">class = 1</text>\n</g>\n<!-- 4&#45;&gt;5 -->\n<g id=\"edge5\" class=\"edge\">\n<title>4&#45;&gt;5</title>\n<path fill=\"none\" stroke=\"black\" d=\"M302.78,-579.91C292.72,-570.56 281.93,-560.54 271.58,-550.93\"/>\n<polygon fill=\"black\" stroke=\"black\" points=\"273.85,-548.26 264.14,-544.02 269.08,-553.39 273.85,-548.26\"/>\n</g>\n<!-- 10 -->\n<g id=\"node11\" class=\"node\">\n<title>10</title>\n<path fill=\"#61b1ea\" stroke=\"black\" d=\"M385.5,-544C385.5,-544 307.5,-544 307.5,-544 301.5,-544 295.5,-538 295.5,-532 295.5,-532 295.5,-473 295.5,-473 295.5,-467 301.5,-461 307.5,-461 307.5,-461 385.5,-461 385.5,-461 391.5,-461 397.5,-467 397.5,-473 397.5,-473 397.5,-532 397.5,-532 397.5,-538 391.5,-544 385.5,-544\"/>\n<text text-anchor=\"start\" x=\"305.5\" y=\"-528.8\" font-family=\"Helvetica,sans-Serif\" font-size=\"14.00\">oldpeak ≤ 0.2</text>\n<text text-anchor=\"start\" x=\"311\" y=\"-513.8\" font-family=\"Helvetica,sans-Serif\" font-size=\"14.00\">gini = 0.278</text>\n<text text-anchor=\"start\" x=\"305.5\" y=\"-498.8\" font-family=\"Helvetica,sans-Serif\" font-size=\"14.00\">samples = 12</text>\n<text text-anchor=\"start\" x=\"303.5\" y=\"-483.8\" font-family=\"Helvetica,sans-Serif\" font-size=\"14.00\">value = [2, 10]</text>\n<text text-anchor=\"start\" x=\"319\" y=\"-468.8\" font-family=\"Helvetica,sans-Serif\" font-size=\"14.00\">class = 1</text>\n</g>\n<!-- 4&#45;&gt;10 -->\n<g id=\"edge10\" class=\"edge\">\n<title>4&#45;&gt;10</title>\n<path fill=\"none\" stroke=\"black\" d=\"M346.5,-579.91C346.5,-571.65 346.5,-562.86 346.5,-554.3\"/>\n<polygon fill=\"black\" stroke=\"black\" points=\"350,-554.02 346.5,-544.02 343,-554.02 350,-554.02\"/>\n</g>\n<!-- 6 -->\n<g id=\"node7\" class=\"node\">\n<title>6</title>\n<path fill=\"#6ab6ec\" stroke=\"black\" d=\"M139,-425C139,-425 68,-425 68,-425 62,-425 56,-419 56,-413 56,-413 56,-354 56,-354 56,-348 62,-342 68,-342 68,-342 139,-342 139,-342 145,-342 151,-348 151,-354 151,-354 151,-413 151,-413 151,-419 145,-425 139,-425\"/>\n<text text-anchor=\"start\" x=\"76\" y=\"-409.8\" font-family=\"Helvetica,sans-Serif\" font-size=\"14.00\">sex ≤ 0.5</text>\n<text text-anchor=\"start\" x=\"71.5\" y=\"-394.8\" font-family=\"Helvetica,sans-Serif\" font-size=\"14.00\">gini = 0.32</text>\n<text text-anchor=\"start\" x=\"66\" y=\"-379.8\" font-family=\"Helvetica,sans-Serif\" font-size=\"14.00\">samples = 5</text>\n<text text-anchor=\"start\" x=\"64\" y=\"-364.8\" font-family=\"Helvetica,sans-Serif\" font-size=\"14.00\">value = [1, 4]</text>\n<text text-anchor=\"start\" x=\"76\" y=\"-349.8\" font-family=\"Helvetica,sans-Serif\" font-size=\"14.00\">class = 1</text>\n</g>\n<!-- 5&#45;&gt;6 -->\n<g id=\"edge6\" class=\"edge\">\n<title>5&#45;&gt;6</title>\n<path fill=\"none\" stroke=\"black\" d=\"M179.91,-460.91C170.65,-451.65 160.73,-441.73 151.21,-432.21\"/>\n<polygon fill=\"black\" stroke=\"black\" points=\"153.57,-429.62 144.02,-425.02 148.62,-434.57 153.57,-429.62\"/>\n</g>\n<!-- 9 -->\n<g id=\"node10\" class=\"node\">\n<title>9</title>\n<path fill=\"#399de5\" stroke=\"black\" d=\"M259.5,-417.5C259.5,-417.5 181.5,-417.5 181.5,-417.5 175.5,-417.5 169.5,-411.5 169.5,-405.5 169.5,-405.5 169.5,-361.5 169.5,-361.5 169.5,-355.5 175.5,-349.5 181.5,-349.5 181.5,-349.5 259.5,-349.5 259.5,-349.5 265.5,-349.5 271.5,-355.5 271.5,-361.5 271.5,-361.5 271.5,-405.5 271.5,-405.5 271.5,-411.5 265.5,-417.5 259.5,-417.5\"/>\n<text text-anchor=\"start\" x=\"192.5\" y=\"-402.3\" font-family=\"Helvetica,sans-Serif\" font-size=\"14.00\">gini = 0.0</text>\n<text text-anchor=\"start\" x=\"179.5\" y=\"-387.3\" font-family=\"Helvetica,sans-Serif\" font-size=\"14.00\">samples = 62</text>\n<text text-anchor=\"start\" x=\"177.5\" y=\"-372.3\" font-family=\"Helvetica,sans-Serif\" font-size=\"14.00\">value = [0, 62]</text>\n<text text-anchor=\"start\" x=\"193\" y=\"-357.3\" font-family=\"Helvetica,sans-Serif\" font-size=\"14.00\">class = 1</text>\n</g>\n<!-- 5&#45;&gt;9 -->\n<g id=\"edge9\" class=\"edge\">\n<title>5&#45;&gt;9</title>\n<path fill=\"none\" stroke=\"black\" d=\"M220.5,-460.91C220.5,-450.2 220.5,-438.62 220.5,-427.78\"/>\n<polygon fill=\"black\" stroke=\"black\" points=\"224,-427.67 220.5,-417.67 217,-427.67 224,-427.67\"/>\n</g>\n<!-- 7 -->\n<g id=\"node8\" class=\"node\">\n<title>7</title>\n<path fill=\"#399de5\" stroke=\"black\" d=\"M83,-298.5C83,-298.5 12,-298.5 12,-298.5 6,-298.5 0,-292.5 0,-286.5 0,-286.5 0,-242.5 0,-242.5 0,-236.5 6,-230.5 12,-230.5 12,-230.5 83,-230.5 83,-230.5 89,-230.5 95,-236.5 95,-242.5 95,-242.5 95,-286.5 95,-286.5 95,-292.5 89,-298.5 83,-298.5\"/>\n<text text-anchor=\"start\" x=\"19.5\" y=\"-283.3\" font-family=\"Helvetica,sans-Serif\" font-size=\"14.00\">gini = 0.0</text>\n<text text-anchor=\"start\" x=\"10\" y=\"-268.3\" font-family=\"Helvetica,sans-Serif\" font-size=\"14.00\">samples = 4</text>\n<text text-anchor=\"start\" x=\"8\" y=\"-253.3\" font-family=\"Helvetica,sans-Serif\" font-size=\"14.00\">value = [0, 4]</text>\n<text text-anchor=\"start\" x=\"20\" y=\"-238.3\" font-family=\"Helvetica,sans-Serif\" font-size=\"14.00\">class = 1</text>\n</g>\n<!-- 6&#45;&gt;7 -->\n<g id=\"edge7\" class=\"edge\">\n<title>6&#45;&gt;7</title>\n<path fill=\"none\" stroke=\"black\" d=\"M84.07,-341.91C78.79,-330.87 73.06,-318.9 67.73,-307.77\"/>\n<polygon fill=\"black\" stroke=\"black\" points=\"70.85,-306.18 63.37,-298.67 64.54,-309.2 70.85,-306.18\"/>\n</g>\n<!-- 8 -->\n<g id=\"node9\" class=\"node\">\n<title>8</title>\n<path fill=\"#e58139\" stroke=\"black\" d=\"M196,-298.5C196,-298.5 125,-298.5 125,-298.5 119,-298.5 113,-292.5 113,-286.5 113,-286.5 113,-242.5 113,-242.5 113,-236.5 119,-230.5 125,-230.5 125,-230.5 196,-230.5 196,-230.5 202,-230.5 208,-236.5 208,-242.5 208,-242.5 208,-286.5 208,-286.5 208,-292.5 202,-298.5 196,-298.5\"/>\n<text text-anchor=\"start\" x=\"132.5\" y=\"-283.3\" font-family=\"Helvetica,sans-Serif\" font-size=\"14.00\">gini = 0.0</text>\n<text text-anchor=\"start\" x=\"123\" y=\"-268.3\" font-family=\"Helvetica,sans-Serif\" font-size=\"14.00\">samples = 1</text>\n<text text-anchor=\"start\" x=\"121\" y=\"-253.3\" font-family=\"Helvetica,sans-Serif\" font-size=\"14.00\">value = [1, 0]</text>\n<text text-anchor=\"start\" x=\"133\" y=\"-238.3\" font-family=\"Helvetica,sans-Serif\" font-size=\"14.00\">class = 0</text>\n</g>\n<!-- 6&#45;&gt;8 -->\n<g id=\"edge8\" class=\"edge\">\n<title>6&#45;&gt;8</title>\n<path fill=\"none\" stroke=\"black\" d=\"M123.28,-341.91C128.65,-330.87 134.49,-318.9 139.91,-307.77\"/>\n<polygon fill=\"black\" stroke=\"black\" points=\"143.11,-309.19 144.34,-298.67 136.82,-306.12 143.11,-309.19\"/>\n</g>\n<!-- 11 -->\n<g id=\"node12\" class=\"node\">\n<title>11</title>\n<path fill=\"#bddef6\" stroke=\"black\" d=\"M391,-425C391,-425 302,-425 302,-425 296,-425 290,-419 290,-413 290,-413 290,-354 290,-354 290,-348 296,-342 302,-342 302,-342 391,-342 391,-342 397,-342 403,-348 403,-354 403,-354 403,-413 403,-413 403,-419 397,-425 391,-425\"/>\n<text text-anchor=\"start\" x=\"298\" y=\"-409.8\" font-family=\"Helvetica,sans-Serif\" font-size=\"14.00\">trestbps ≤ 132.5</text>\n<text text-anchor=\"start\" x=\"314.5\" y=\"-394.8\" font-family=\"Helvetica,sans-Serif\" font-size=\"14.00\">gini = 0.48</text>\n<text text-anchor=\"start\" x=\"309\" y=\"-379.8\" font-family=\"Helvetica,sans-Serif\" font-size=\"14.00\">samples = 5</text>\n<text text-anchor=\"start\" x=\"307\" y=\"-364.8\" font-family=\"Helvetica,sans-Serif\" font-size=\"14.00\">value = [2, 3]</text>\n<text text-anchor=\"start\" x=\"319\" y=\"-349.8\" font-family=\"Helvetica,sans-Serif\" font-size=\"14.00\">class = 1</text>\n</g>\n<!-- 10&#45;&gt;11 -->\n<g id=\"edge11\" class=\"edge\">\n<title>10&#45;&gt;11</title>\n<path fill=\"none\" stroke=\"black\" d=\"M346.5,-460.91C346.5,-452.65 346.5,-443.86 346.5,-435.3\"/>\n<polygon fill=\"black\" stroke=\"black\" points=\"350,-435.02 346.5,-425.02 343,-435.02 350,-435.02\"/>\n</g>\n<!-- 18 -->\n<g id=\"node19\" class=\"node\">\n<title>18</title>\n<path fill=\"#399de5\" stroke=\"black\" d=\"M504,-417.5C504,-417.5 433,-417.5 433,-417.5 427,-417.5 421,-411.5 421,-405.5 421,-405.5 421,-361.5 421,-361.5 421,-355.5 427,-349.5 433,-349.5 433,-349.5 504,-349.5 504,-349.5 510,-349.5 516,-355.5 516,-361.5 516,-361.5 516,-405.5 516,-405.5 516,-411.5 510,-417.5 504,-417.5\"/>\n<text text-anchor=\"start\" x=\"440.5\" y=\"-402.3\" font-family=\"Helvetica,sans-Serif\" font-size=\"14.00\">gini = 0.0</text>\n<text text-anchor=\"start\" x=\"431\" y=\"-387.3\" font-family=\"Helvetica,sans-Serif\" font-size=\"14.00\">samples = 7</text>\n<text text-anchor=\"start\" x=\"429\" y=\"-372.3\" font-family=\"Helvetica,sans-Serif\" font-size=\"14.00\">value = [0, 7]</text>\n<text text-anchor=\"start\" x=\"441\" y=\"-357.3\" font-family=\"Helvetica,sans-Serif\" font-size=\"14.00\">class = 1</text>\n</g>\n<!-- 10&#45;&gt;18 -->\n<g id=\"edge18\" class=\"edge\">\n<title>10&#45;&gt;18</title>\n<path fill=\"none\" stroke=\"black\" d=\"M388.83,-460.91C401.02,-449.21 414.32,-436.46 426.5,-424.78\"/>\n<polygon fill=\"black\" stroke=\"black\" points=\"429.12,-427.11 433.92,-417.67 424.28,-422.06 429.12,-427.11\"/>\n</g>\n<!-- 12 -->\n<g id=\"node13\" class=\"node\">\n<title>12</title>\n<path fill=\"#f2c09c\" stroke=\"black\" d=\"M346,-306C346,-306 275,-306 275,-306 269,-306 263,-300 263,-294 263,-294 263,-235 263,-235 263,-229 269,-223 275,-223 275,-223 346,-223 346,-223 352,-223 358,-229 358,-235 358,-235 358,-294 358,-294 358,-300 352,-306 346,-306\"/>\n<text text-anchor=\"start\" x=\"273.5\" y=\"-290.8\" font-family=\"Helvetica,sans-Serif\" font-size=\"14.00\">chol ≤ 203.0</text>\n<text text-anchor=\"start\" x=\"275\" y=\"-275.8\" font-family=\"Helvetica,sans-Serif\" font-size=\"14.00\">gini = 0.444</text>\n<text text-anchor=\"start\" x=\"273\" y=\"-260.8\" font-family=\"Helvetica,sans-Serif\" font-size=\"14.00\">samples = 3</text>\n<text text-anchor=\"start\" x=\"271\" y=\"-245.8\" font-family=\"Helvetica,sans-Serif\" font-size=\"14.00\">value = [2, 1]</text>\n<text text-anchor=\"start\" x=\"283\" y=\"-230.8\" font-family=\"Helvetica,sans-Serif\" font-size=\"14.00\">class = 0</text>\n</g>\n<!-- 11&#45;&gt;12 -->\n<g id=\"edge12\" class=\"edge\">\n<title>11&#45;&gt;12</title>\n<path fill=\"none\" stroke=\"black\" d=\"M334.01,-341.91C331.41,-333.47 328.65,-324.48 325.96,-315.74\"/>\n<polygon fill=\"black\" stroke=\"black\" points=\"329.25,-314.55 322.97,-306.02 322.56,-316.61 329.25,-314.55\"/>\n</g>\n<!-- 17 -->\n<g id=\"node18\" class=\"node\">\n<title>17</title>\n<path fill=\"#399de5\" stroke=\"black\" d=\"M459,-298.5C459,-298.5 388,-298.5 388,-298.5 382,-298.5 376,-292.5 376,-286.5 376,-286.5 376,-242.5 376,-242.5 376,-236.5 382,-230.5 388,-230.5 388,-230.5 459,-230.5 459,-230.5 465,-230.5 471,-236.5 471,-242.5 471,-242.5 471,-286.5 471,-286.5 471,-292.5 465,-298.5 459,-298.5\"/>\n<text text-anchor=\"start\" x=\"395.5\" y=\"-283.3\" font-family=\"Helvetica,sans-Serif\" font-size=\"14.00\">gini = 0.0</text>\n<text text-anchor=\"start\" x=\"386\" y=\"-268.3\" font-family=\"Helvetica,sans-Serif\" font-size=\"14.00\">samples = 2</text>\n<text text-anchor=\"start\" x=\"384\" y=\"-253.3\" font-family=\"Helvetica,sans-Serif\" font-size=\"14.00\">value = [0, 2]</text>\n<text text-anchor=\"start\" x=\"396\" y=\"-238.3\" font-family=\"Helvetica,sans-Serif\" font-size=\"14.00\">class = 1</text>\n</g>\n<!-- 11&#45;&gt;17 -->\n<g id=\"edge17\" class=\"edge\">\n<title>11&#45;&gt;17</title>\n<path fill=\"none\" stroke=\"black\" d=\"M373.21,-341.91C380.62,-330.65 388.67,-318.42 396.12,-307.11\"/>\n<polygon fill=\"black\" stroke=\"black\" points=\"399.1,-308.94 401.67,-298.67 393.25,-305.1 399.1,-308.94\"/>\n</g>\n<!-- 13 -->\n<g id=\"node14\" class=\"node\">\n<title>13</title>\n<path fill=\"#e58139\" stroke=\"black\" d=\"M290,-179.5C290,-179.5 219,-179.5 219,-179.5 213,-179.5 207,-173.5 207,-167.5 207,-167.5 207,-123.5 207,-123.5 207,-117.5 213,-111.5 219,-111.5 219,-111.5 290,-111.5 290,-111.5 296,-111.5 302,-117.5 302,-123.5 302,-123.5 302,-167.5 302,-167.5 302,-173.5 296,-179.5 290,-179.5\"/>\n<text text-anchor=\"start\" x=\"226.5\" y=\"-164.3\" font-family=\"Helvetica,sans-Serif\" font-size=\"14.00\">gini = 0.0</text>\n<text text-anchor=\"start\" x=\"217\" y=\"-149.3\" font-family=\"Helvetica,sans-Serif\" font-size=\"14.00\">samples = 1</text>\n<text text-anchor=\"start\" x=\"215\" y=\"-134.3\" font-family=\"Helvetica,sans-Serif\" font-size=\"14.00\">value = [1, 0]</text>\n<text text-anchor=\"start\" x=\"227\" y=\"-119.3\" font-family=\"Helvetica,sans-Serif\" font-size=\"14.00\">class = 0</text>\n</g>\n<!-- 12&#45;&gt;13 -->\n<g id=\"edge13\" class=\"edge\">\n<title>12&#45;&gt;13</title>\n<path fill=\"none\" stroke=\"black\" d=\"M291.07,-222.91C285.79,-211.87 280.06,-199.9 274.73,-188.77\"/>\n<polygon fill=\"black\" stroke=\"black\" points=\"277.85,-187.18 270.37,-179.67 271.54,-190.2 277.85,-187.18\"/>\n</g>\n<!-- 14 -->\n<g id=\"node15\" class=\"node\">\n<title>14</title>\n<path fill=\"#ffffff\" stroke=\"black\" d=\"M403,-187C403,-187 332,-187 332,-187 326,-187 320,-181 320,-175 320,-175 320,-116 320,-116 320,-110 326,-104 332,-104 332,-104 403,-104 403,-104 409,-104 415,-110 415,-116 415,-116 415,-175 415,-175 415,-181 409,-187 403,-187\"/>\n<text text-anchor=\"start\" x=\"328\" y=\"-171.8\" font-family=\"Helvetica,sans-Serif\" font-size=\"14.00\">restecg ≤ 0.5</text>\n<text text-anchor=\"start\" x=\"339.5\" y=\"-156.8\" font-family=\"Helvetica,sans-Serif\" font-size=\"14.00\">gini = 0.5</text>\n<text text-anchor=\"start\" x=\"330\" y=\"-141.8\" font-family=\"Helvetica,sans-Serif\" font-size=\"14.00\">samples = 2</text>\n<text text-anchor=\"start\" x=\"328\" y=\"-126.8\" font-family=\"Helvetica,sans-Serif\" font-size=\"14.00\">value = [1, 1]</text>\n<text text-anchor=\"start\" x=\"340\" y=\"-111.8\" font-family=\"Helvetica,sans-Serif\" font-size=\"14.00\">class = 0</text>\n</g>\n<!-- 12&#45;&gt;14 -->\n<g id=\"edge14\" class=\"edge\">\n<title>12&#45;&gt;14</title>\n<path fill=\"none\" stroke=\"black\" d=\"M330.28,-222.91C334.48,-214.29 338.96,-205.09 343.3,-196.17\"/>\n<polygon fill=\"black\" stroke=\"black\" points=\"346.53,-197.54 347.76,-187.02 340.23,-194.48 346.53,-197.54\"/>\n</g>\n<!-- 15 -->\n<g id=\"node16\" class=\"node\">\n<title>15</title>\n<path fill=\"#e58139\" stroke=\"black\" d=\"M346,-68C346,-68 275,-68 275,-68 269,-68 263,-62 263,-56 263,-56 263,-12 263,-12 263,-6 269,0 275,0 275,0 346,0 346,0 352,0 358,-6 358,-12 358,-12 358,-56 358,-56 358,-62 352,-68 346,-68\"/>\n<text text-anchor=\"start\" x=\"282.5\" y=\"-52.8\" font-family=\"Helvetica,sans-Serif\" font-size=\"14.00\">gini = 0.0</text>\n<text text-anchor=\"start\" x=\"273\" y=\"-37.8\" font-family=\"Helvetica,sans-Serif\" font-size=\"14.00\">samples = 1</text>\n<text text-anchor=\"start\" x=\"271\" y=\"-22.8\" font-family=\"Helvetica,sans-Serif\" font-size=\"14.00\">value = [1, 0]</text>\n<text text-anchor=\"start\" x=\"283\" y=\"-7.8\" font-family=\"Helvetica,sans-Serif\" font-size=\"14.00\">class = 0</text>\n</g>\n<!-- 14&#45;&gt;15 -->\n<g id=\"edge15\" class=\"edge\">\n<title>14&#45;&gt;15</title>\n<path fill=\"none\" stroke=\"black\" d=\"M346.28,-103.73C341.76,-95.06 336.99,-85.9 332.46,-77.18\"/>\n<polygon fill=\"black\" stroke=\"black\" points=\"335.56,-75.55 327.83,-68.3 329.35,-78.79 335.56,-75.55\"/>\n</g>\n<!-- 16 -->\n<g id=\"node17\" class=\"node\">\n<title>16</title>\n<path fill=\"#399de5\" stroke=\"black\" d=\"M459,-68C459,-68 388,-68 388,-68 382,-68 376,-62 376,-56 376,-56 376,-12 376,-12 376,-6 382,0 388,0 388,0 459,0 459,0 465,0 471,-6 471,-12 471,-12 471,-56 471,-56 471,-62 465,-68 459,-68\"/>\n<text text-anchor=\"start\" x=\"395.5\" y=\"-52.8\" font-family=\"Helvetica,sans-Serif\" font-size=\"14.00\">gini = 0.0</text>\n<text text-anchor=\"start\" x=\"386\" y=\"-37.8\" font-family=\"Helvetica,sans-Serif\" font-size=\"14.00\">samples = 1</text>\n<text text-anchor=\"start\" x=\"384\" y=\"-22.8\" font-family=\"Helvetica,sans-Serif\" font-size=\"14.00\">value = [0, 1]</text>\n<text text-anchor=\"start\" x=\"396\" y=\"-7.8\" font-family=\"Helvetica,sans-Serif\" font-size=\"14.00\">class = 1</text>\n</g>\n<!-- 14&#45;&gt;16 -->\n<g id=\"edge16\" class=\"edge\">\n<title>14&#45;&gt;16</title>\n<path fill=\"none\" stroke=\"black\" d=\"M388.35,-103.73C392.74,-95.15 397.37,-86.09 401.79,-77.46\"/>\n<polygon fill=\"black\" stroke=\"black\" points=\"405.03,-78.8 406.47,-68.3 398.8,-75.61 405.03,-78.8\"/>\n</g>\n<!-- 20 -->\n<g id=\"node21\" class=\"node\">\n<title>20</title>\n<path fill=\"#e58139\" stroke=\"black\" d=\"M499,-536.5C499,-536.5 428,-536.5 428,-536.5 422,-536.5 416,-530.5 416,-524.5 416,-524.5 416,-480.5 416,-480.5 416,-474.5 422,-468.5 428,-468.5 428,-468.5 499,-468.5 499,-468.5 505,-468.5 511,-474.5 511,-480.5 511,-480.5 511,-524.5 511,-524.5 511,-530.5 505,-536.5 499,-536.5\"/>\n<text text-anchor=\"start\" x=\"435.5\" y=\"-521.3\" font-family=\"Helvetica,sans-Serif\" font-size=\"14.00\">gini = 0.0</text>\n<text text-anchor=\"start\" x=\"426\" y=\"-506.3\" font-family=\"Helvetica,sans-Serif\" font-size=\"14.00\">samples = 1</text>\n<text text-anchor=\"start\" x=\"424\" y=\"-491.3\" font-family=\"Helvetica,sans-Serif\" font-size=\"14.00\">value = [1, 0]</text>\n<text text-anchor=\"start\" x=\"436\" y=\"-476.3\" font-family=\"Helvetica,sans-Serif\" font-size=\"14.00\">class = 0</text>\n</g>\n<!-- 19&#45;&gt;20 -->\n<g id=\"edge20\" class=\"edge\">\n<title>19&#45;&gt;20</title>\n<path fill=\"none\" stroke=\"black\" d=\"M525.54,-579.91C516.22,-568.43 506.08,-555.94 496.74,-544.44\"/>\n<polygon fill=\"black\" stroke=\"black\" points=\"499.45,-542.22 490.43,-536.67 494.02,-546.64 499.45,-542.22\"/>\n</g>\n<!-- 21 -->\n<g id=\"node22\" class=\"node\">\n<title>21</title>\n<path fill=\"#399de5\" stroke=\"black\" d=\"M612,-536.5C612,-536.5 541,-536.5 541,-536.5 535,-536.5 529,-530.5 529,-524.5 529,-524.5 529,-480.5 529,-480.5 529,-474.5 535,-468.5 541,-468.5 541,-468.5 612,-468.5 612,-468.5 618,-468.5 624,-474.5 624,-480.5 624,-480.5 624,-524.5 624,-524.5 624,-530.5 618,-536.5 612,-536.5\"/>\n<text text-anchor=\"start\" x=\"548.5\" y=\"-521.3\" font-family=\"Helvetica,sans-Serif\" font-size=\"14.00\">gini = 0.0</text>\n<text text-anchor=\"start\" x=\"539\" y=\"-506.3\" font-family=\"Helvetica,sans-Serif\" font-size=\"14.00\">samples = 1</text>\n<text text-anchor=\"start\" x=\"537\" y=\"-491.3\" font-family=\"Helvetica,sans-Serif\" font-size=\"14.00\">value = [0, 1]</text>\n<text text-anchor=\"start\" x=\"549\" y=\"-476.3\" font-family=\"Helvetica,sans-Serif\" font-size=\"14.00\">class = 1</text>\n</g>\n<!-- 19&#45;&gt;21 -->\n<g id=\"edge21\" class=\"edge\">\n<title>19&#45;&gt;21</title>\n<path fill=\"none\" stroke=\"black\" d=\"M564.75,-579.91C566.39,-569.2 568.17,-557.62 569.84,-546.78\"/>\n<polygon fill=\"black\" stroke=\"black\" points=\"573.34,-547.08 571.4,-536.67 566.42,-546.02 573.34,-547.08\"/>\n</g>\n<!-- 23 -->\n<g id=\"node24\" class=\"node\">\n<title>23</title>\n<path fill=\"#ea9a61\" stroke=\"black\" d=\"M751,-663C751,-663 666,-663 666,-663 660,-663 654,-657 654,-651 654,-651 654,-592 654,-592 654,-586 660,-580 666,-580 666,-580 751,-580 751,-580 757,-580 763,-586 763,-592 763,-592 763,-651 763,-651 763,-657 757,-663 751,-663\"/>\n<text text-anchor=\"start\" x=\"662\" y=\"-647.8\" font-family=\"Helvetica,sans-Serif\" font-size=\"14.00\">thalach ≤ 173.5</text>\n<text text-anchor=\"start\" x=\"673\" y=\"-632.8\" font-family=\"Helvetica,sans-Serif\" font-size=\"14.00\">gini = 0.278</text>\n<text text-anchor=\"start\" x=\"671\" y=\"-617.8\" font-family=\"Helvetica,sans-Serif\" font-size=\"14.00\">samples = 6</text>\n<text text-anchor=\"start\" x=\"669\" y=\"-602.8\" font-family=\"Helvetica,sans-Serif\" font-size=\"14.00\">value = [5, 1]</text>\n<text text-anchor=\"start\" x=\"681\" y=\"-587.8\" font-family=\"Helvetica,sans-Serif\" font-size=\"14.00\">class = 0</text>\n</g>\n<!-- 22&#45;&gt;23 -->\n<g id=\"edge23\" class=\"edge\">\n<title>22&#45;&gt;23</title>\n<path fill=\"none\" stroke=\"black\" d=\"M728.74,-698.91C726.51,-690.47 724.13,-681.48 721.81,-672.74\"/>\n<polygon fill=\"black\" stroke=\"black\" points=\"725.18,-671.79 719.24,-663.02 718.41,-673.58 725.18,-671.79\"/>\n</g>\n<!-- 26 -->\n<g id=\"node27\" class=\"node\">\n<title>26</title>\n<path fill=\"#399de5\" stroke=\"black\" d=\"M864,-655.5C864,-655.5 793,-655.5 793,-655.5 787,-655.5 781,-649.5 781,-643.5 781,-643.5 781,-599.5 781,-599.5 781,-593.5 787,-587.5 793,-587.5 793,-587.5 864,-587.5 864,-587.5 870,-587.5 876,-593.5 876,-599.5 876,-599.5 876,-643.5 876,-643.5 876,-649.5 870,-655.5 864,-655.5\"/>\n<text text-anchor=\"start\" x=\"800.5\" y=\"-640.3\" font-family=\"Helvetica,sans-Serif\" font-size=\"14.00\">gini = 0.0</text>\n<text text-anchor=\"start\" x=\"791\" y=\"-625.3\" font-family=\"Helvetica,sans-Serif\" font-size=\"14.00\">samples = 3</text>\n<text text-anchor=\"start\" x=\"789\" y=\"-610.3\" font-family=\"Helvetica,sans-Serif\" font-size=\"14.00\">value = [0, 3]</text>\n<text text-anchor=\"start\" x=\"801\" y=\"-595.3\" font-family=\"Helvetica,sans-Serif\" font-size=\"14.00\">class = 1</text>\n</g>\n<!-- 22&#45;&gt;26 -->\n<g id=\"edge26\" class=\"edge\">\n<title>22&#45;&gt;26</title>\n<path fill=\"none\" stroke=\"black\" d=\"M770.38,-698.91C779.02,-687.54 788.43,-675.18 797.1,-663.77\"/>\n<polygon fill=\"black\" stroke=\"black\" points=\"800,-665.74 803.27,-655.67 794.43,-661.51 800,-665.74\"/>\n</g>\n<!-- 24 -->\n<g id=\"node25\" class=\"node\">\n<title>24</title>\n<path fill=\"#e58139\" stroke=\"black\" d=\"M725,-536.5C725,-536.5 654,-536.5 654,-536.5 648,-536.5 642,-530.5 642,-524.5 642,-524.5 642,-480.5 642,-480.5 642,-474.5 648,-468.5 654,-468.5 654,-468.5 725,-468.5 725,-468.5 731,-468.5 737,-474.5 737,-480.5 737,-480.5 737,-524.5 737,-524.5 737,-530.5 731,-536.5 725,-536.5\"/>\n<text text-anchor=\"start\" x=\"661.5\" y=\"-521.3\" font-family=\"Helvetica,sans-Serif\" font-size=\"14.00\">gini = 0.0</text>\n<text text-anchor=\"start\" x=\"652\" y=\"-506.3\" font-family=\"Helvetica,sans-Serif\" font-size=\"14.00\">samples = 5</text>\n<text text-anchor=\"start\" x=\"650\" y=\"-491.3\" font-family=\"Helvetica,sans-Serif\" font-size=\"14.00\">value = [5, 0]</text>\n<text text-anchor=\"start\" x=\"662\" y=\"-476.3\" font-family=\"Helvetica,sans-Serif\" font-size=\"14.00\">class = 0</text>\n</g>\n<!-- 23&#45;&gt;24 -->\n<g id=\"edge24\" class=\"edge\">\n<title>23&#45;&gt;24</title>\n<path fill=\"none\" stroke=\"black\" d=\"M701.91,-579.91C700.17,-569.2 698.29,-557.62 696.53,-546.78\"/>\n<polygon fill=\"black\" stroke=\"black\" points=\"699.94,-545.98 694.89,-536.67 693.03,-547.1 699.94,-545.98\"/>\n</g>\n<!-- 25 -->\n<g id=\"node26\" class=\"node\">\n<title>25</title>\n<path fill=\"#399de5\" stroke=\"black\" d=\"M838,-536.5C838,-536.5 767,-536.5 767,-536.5 761,-536.5 755,-530.5 755,-524.5 755,-524.5 755,-480.5 755,-480.5 755,-474.5 761,-468.5 767,-468.5 767,-468.5 838,-468.5 838,-468.5 844,-468.5 850,-474.5 850,-480.5 850,-480.5 850,-524.5 850,-524.5 850,-530.5 844,-536.5 838,-536.5\"/>\n<text text-anchor=\"start\" x=\"774.5\" y=\"-521.3\" font-family=\"Helvetica,sans-Serif\" font-size=\"14.00\">gini = 0.0</text>\n<text text-anchor=\"start\" x=\"765\" y=\"-506.3\" font-family=\"Helvetica,sans-Serif\" font-size=\"14.00\">samples = 1</text>\n<text text-anchor=\"start\" x=\"763\" y=\"-491.3\" font-family=\"Helvetica,sans-Serif\" font-size=\"14.00\">value = [0, 1]</text>\n<text text-anchor=\"start\" x=\"775\" y=\"-476.3\" font-family=\"Helvetica,sans-Serif\" font-size=\"14.00\">class = 1</text>\n</g>\n<!-- 23&#45;&gt;25 -->\n<g id=\"edge25\" class=\"edge\">\n<title>23&#45;&gt;25</title>\n<path fill=\"none\" stroke=\"black\" d=\"M741.11,-579.91C750.24,-568.54 760.18,-556.18 769.34,-544.77\"/>\n<polygon fill=\"black\" stroke=\"black\" points=\"772.32,-546.65 775.85,-536.67 766.86,-542.27 772.32,-546.65\"/>\n</g>\n<!-- 28 -->\n<g id=\"node29\" class=\"node\">\n<title>28</title>\n<path fill=\"#b3d9f5\" stroke=\"black\" d=\"M1218.5,-782C1218.5,-782 1140.5,-782 1140.5,-782 1134.5,-782 1128.5,-776 1128.5,-770 1128.5,-770 1128.5,-711 1128.5,-711 1128.5,-705 1134.5,-699 1140.5,-699 1140.5,-699 1218.5,-699 1218.5,-699 1224.5,-699 1230.5,-705 1230.5,-711 1230.5,-711 1230.5,-770 1230.5,-770 1230.5,-776 1224.5,-782 1218.5,-782\"/>\n<text text-anchor=\"start\" x=\"1147.5\" y=\"-766.8\" font-family=\"Helvetica,sans-Serif\" font-size=\"14.00\">age ≤ 50.0</text>\n<text text-anchor=\"start\" x=\"1144\" y=\"-751.8\" font-family=\"Helvetica,sans-Serif\" font-size=\"14.00\">gini = 0.472</text>\n<text text-anchor=\"start\" x=\"1138.5\" y=\"-736.8\" font-family=\"Helvetica,sans-Serif\" font-size=\"14.00\">samples = 21</text>\n<text text-anchor=\"start\" x=\"1136.5\" y=\"-721.8\" font-family=\"Helvetica,sans-Serif\" font-size=\"14.00\">value = [8, 13]</text>\n<text text-anchor=\"start\" x=\"1152\" y=\"-706.8\" font-family=\"Helvetica,sans-Serif\" font-size=\"14.00\">class = 1</text>\n</g>\n<!-- 27&#45;&gt;28 -->\n<g id=\"edge28\" class=\"edge\">\n<title>27&#45;&gt;28</title>\n<path fill=\"none\" stroke=\"black\" d=\"M1237.62,-817.91C1230.79,-808.92 1223.48,-799.32 1216.43,-790.05\"/>\n<polygon fill=\"black\" stroke=\"black\" points=\"1219.16,-787.86 1210.32,-782.02 1213.59,-792.1 1219.16,-787.86\"/>\n</g>\n<!-- 39 -->\n<g id=\"node40\" class=\"node\">\n<title>39</title>\n<path fill=\"#e89152\" stroke=\"black\" d=\"M1395.5,-782C1395.5,-782 1317.5,-782 1317.5,-782 1311.5,-782 1305.5,-776 1305.5,-770 1305.5,-770 1305.5,-711 1305.5,-711 1305.5,-705 1311.5,-699 1317.5,-699 1317.5,-699 1395.5,-699 1395.5,-699 1401.5,-699 1407.5,-705 1407.5,-711 1407.5,-711 1407.5,-770 1407.5,-770 1407.5,-776 1401.5,-782 1395.5,-782\"/>\n<text text-anchor=\"start\" x=\"1315.5\" y=\"-766.8\" font-family=\"Helvetica,sans-Serif\" font-size=\"14.00\">oldpeak ≤ 0.1</text>\n<text text-anchor=\"start\" x=\"1321\" y=\"-751.8\" font-family=\"Helvetica,sans-Serif\" font-size=\"14.00\">gini = 0.198</text>\n<text text-anchor=\"start\" x=\"1315.5\" y=\"-736.8\" font-family=\"Helvetica,sans-Serif\" font-size=\"14.00\">samples = 18</text>\n<text text-anchor=\"start\" x=\"1313.5\" y=\"-721.8\" font-family=\"Helvetica,sans-Serif\" font-size=\"14.00\">value = [16, 2]</text>\n<text text-anchor=\"start\" x=\"1329\" y=\"-706.8\" font-family=\"Helvetica,sans-Serif\" font-size=\"14.00\">class = 0</text>\n</g>\n<!-- 27&#45;&gt;39 -->\n<g id=\"edge39\" class=\"edge\">\n<title>27&#45;&gt;39</title>\n<path fill=\"none\" stroke=\"black\" d=\"M1299.03,-817.91C1305.79,-808.92 1313.02,-799.32 1319.98,-790.05\"/>\n<polygon fill=\"black\" stroke=\"black\" points=\"1322.81,-792.12 1326.02,-782.02 1317.21,-787.91 1322.81,-792.12\"/>\n</g>\n<!-- 29 -->\n<g id=\"node30\" class=\"node\">\n<title>29</title>\n<path fill=\"#eeab7b\" stroke=\"black\" d=\"M1064,-663C1064,-663 993,-663 993,-663 987,-663 981,-657 981,-651 981,-651 981,-592 981,-592 981,-586 987,-580 993,-580 993,-580 1064,-580 1064,-580 1070,-580 1076,-586 1076,-592 1076,-592 1076,-651 1076,-651 1076,-657 1070,-663 1064,-663\"/>\n<text text-anchor=\"start\" x=\"1002.5\" y=\"-647.8\" font-family=\"Helvetica,sans-Serif\" font-size=\"14.00\">fbs ≤ 0.5</text>\n<text text-anchor=\"start\" x=\"993\" y=\"-632.8\" font-family=\"Helvetica,sans-Serif\" font-size=\"14.00\">gini = 0.375</text>\n<text text-anchor=\"start\" x=\"991\" y=\"-617.8\" font-family=\"Helvetica,sans-Serif\" font-size=\"14.00\">samples = 8</text>\n<text text-anchor=\"start\" x=\"989\" y=\"-602.8\" font-family=\"Helvetica,sans-Serif\" font-size=\"14.00\">value = [6, 2]</text>\n<text text-anchor=\"start\" x=\"1001\" y=\"-587.8\" font-family=\"Helvetica,sans-Serif\" font-size=\"14.00\">class = 0</text>\n</g>\n<!-- 28&#45;&gt;29 -->\n<g id=\"edge29\" class=\"edge\">\n<title>28&#45;&gt;29</title>\n<path fill=\"none\" stroke=\"black\" d=\"M1128.38,-699.89C1114.08,-688.81 1098.48,-676.73 1083.95,-665.47\"/>\n<polygon fill=\"black\" stroke=\"black\" points=\"1086.05,-662.67 1076.01,-659.31 1081.77,-668.2 1086.05,-662.67\"/>\n</g>\n<!-- 32 -->\n<g id=\"node33\" class=\"node\">\n<title>32</title>\n<path fill=\"#5dafea\" stroke=\"black\" d=\"M1222,-663C1222,-663 1137,-663 1137,-663 1131,-663 1125,-657 1125,-651 1125,-651 1125,-592 1125,-592 1125,-586 1131,-580 1137,-580 1137,-580 1222,-580 1222,-580 1228,-580 1234,-586 1234,-592 1234,-592 1234,-651 1234,-651 1234,-657 1228,-663 1222,-663\"/>\n<text text-anchor=\"start\" x=\"1133\" y=\"-647.8\" font-family=\"Helvetica,sans-Serif\" font-size=\"14.00\">thalach ≤ 153.0</text>\n<text text-anchor=\"start\" x=\"1147.5\" y=\"-632.8\" font-family=\"Helvetica,sans-Serif\" font-size=\"14.00\">gini = 0.26</text>\n<text text-anchor=\"start\" x=\"1138.5\" y=\"-617.8\" font-family=\"Helvetica,sans-Serif\" font-size=\"14.00\">samples = 13</text>\n<text text-anchor=\"start\" x=\"1136.5\" y=\"-602.8\" font-family=\"Helvetica,sans-Serif\" font-size=\"14.00\">value = [2, 11]</text>\n<text text-anchor=\"start\" x=\"1152\" y=\"-587.8\" font-family=\"Helvetica,sans-Serif\" font-size=\"14.00\">class = 1</text>\n</g>\n<!-- 28&#45;&gt;32 -->\n<g id=\"edge32\" class=\"edge\">\n<title>28&#45;&gt;32</title>\n<path fill=\"none\" stroke=\"black\" d=\"M1179.5,-698.91C1179.5,-690.65 1179.5,-681.86 1179.5,-673.3\"/>\n<polygon fill=\"black\" stroke=\"black\" points=\"1183,-673.02 1179.5,-663.02 1176,-673.02 1183,-673.02\"/>\n</g>\n<!-- 30 -->\n<g id=\"node31\" class=\"node\">\n<title>30</title>\n<path fill=\"#e58139\" stroke=\"black\" d=\"M951,-536.5C951,-536.5 880,-536.5 880,-536.5 874,-536.5 868,-530.5 868,-524.5 868,-524.5 868,-480.5 868,-480.5 868,-474.5 874,-468.5 880,-468.5 880,-468.5 951,-468.5 951,-468.5 957,-468.5 963,-474.5 963,-480.5 963,-480.5 963,-524.5 963,-524.5 963,-530.5 957,-536.5 951,-536.5\"/>\n<text text-anchor=\"start\" x=\"887.5\" y=\"-521.3\" font-family=\"Helvetica,sans-Serif\" font-size=\"14.00\">gini = 0.0</text>\n<text text-anchor=\"start\" x=\"878\" y=\"-506.3\" font-family=\"Helvetica,sans-Serif\" font-size=\"14.00\">samples = 6</text>\n<text text-anchor=\"start\" x=\"876\" y=\"-491.3\" font-family=\"Helvetica,sans-Serif\" font-size=\"14.00\">value = [6, 0]</text>\n<text text-anchor=\"start\" x=\"888\" y=\"-476.3\" font-family=\"Helvetica,sans-Serif\" font-size=\"14.00\">class = 0</text>\n</g>\n<!-- 29&#45;&gt;30 -->\n<g id=\"edge30\" class=\"edge\">\n<title>29&#45;&gt;30</title>\n<path fill=\"none\" stroke=\"black\" d=\"M989.3,-579.91C978.11,-568.32 965.91,-555.7 954.72,-544.11\"/>\n<polygon fill=\"black\" stroke=\"black\" points=\"957,-541.43 947.53,-536.67 951.96,-546.29 957,-541.43\"/>\n</g>\n<!-- 31 -->\n<g id=\"node32\" class=\"node\">\n<title>31</title>\n<path fill=\"#399de5\" stroke=\"black\" d=\"M1064,-536.5C1064,-536.5 993,-536.5 993,-536.5 987,-536.5 981,-530.5 981,-524.5 981,-524.5 981,-480.5 981,-480.5 981,-474.5 987,-468.5 993,-468.5 993,-468.5 1064,-468.5 1064,-468.5 1070,-468.5 1076,-474.5 1076,-480.5 1076,-480.5 1076,-524.5 1076,-524.5 1076,-530.5 1070,-536.5 1064,-536.5\"/>\n<text text-anchor=\"start\" x=\"1000.5\" y=\"-521.3\" font-family=\"Helvetica,sans-Serif\" font-size=\"14.00\">gini = 0.0</text>\n<text text-anchor=\"start\" x=\"991\" y=\"-506.3\" font-family=\"Helvetica,sans-Serif\" font-size=\"14.00\">samples = 2</text>\n<text text-anchor=\"start\" x=\"989\" y=\"-491.3\" font-family=\"Helvetica,sans-Serif\" font-size=\"14.00\">value = [0, 2]</text>\n<text text-anchor=\"start\" x=\"1001\" y=\"-476.3\" font-family=\"Helvetica,sans-Serif\" font-size=\"14.00\">class = 1</text>\n</g>\n<!-- 29&#45;&gt;31 -->\n<g id=\"edge31\" class=\"edge\">\n<title>29&#45;&gt;31</title>\n<path fill=\"none\" stroke=\"black\" d=\"M1028.5,-579.91C1028.5,-569.2 1028.5,-557.62 1028.5,-546.78\"/>\n<polygon fill=\"black\" stroke=\"black\" points=\"1032,-546.67 1028.5,-536.67 1025,-546.67 1032,-546.67\"/>\n</g>\n<!-- 33 -->\n<g id=\"node34\" class=\"node\">\n<title>33</title>\n<path fill=\"#bddef6\" stroke=\"black\" d=\"M1195,-544C1195,-544 1106,-544 1106,-544 1100,-544 1094,-538 1094,-532 1094,-532 1094,-473 1094,-473 1094,-467 1100,-461 1106,-461 1106,-461 1195,-461 1195,-461 1201,-461 1207,-467 1207,-473 1207,-473 1207,-532 1207,-532 1207,-538 1201,-544 1195,-544\"/>\n<text text-anchor=\"start\" x=\"1102\" y=\"-528.8\" font-family=\"Helvetica,sans-Serif\" font-size=\"14.00\">trestbps ≤ 122.0</text>\n<text text-anchor=\"start\" x=\"1118.5\" y=\"-513.8\" font-family=\"Helvetica,sans-Serif\" font-size=\"14.00\">gini = 0.48</text>\n<text text-anchor=\"start\" x=\"1113\" y=\"-498.8\" font-family=\"Helvetica,sans-Serif\" font-size=\"14.00\">samples = 5</text>\n<text text-anchor=\"start\" x=\"1111\" y=\"-483.8\" font-family=\"Helvetica,sans-Serif\" font-size=\"14.00\">value = [2, 3]</text>\n<text text-anchor=\"start\" x=\"1123\" y=\"-468.8\" font-family=\"Helvetica,sans-Serif\" font-size=\"14.00\">class = 1</text>\n</g>\n<!-- 32&#45;&gt;33 -->\n<g id=\"edge33\" class=\"edge\">\n<title>32&#45;&gt;33</title>\n<path fill=\"none\" stroke=\"black\" d=\"M1169.44,-579.91C1167.35,-571.47 1165.12,-562.48 1162.95,-553.74\"/>\n<polygon fill=\"black\" stroke=\"black\" points=\"1166.35,-552.89 1160.54,-544.02 1159.55,-554.57 1166.35,-552.89\"/>\n</g>\n<!-- 38 -->\n<g id=\"node39\" class=\"node\">\n<title>38</title>\n<path fill=\"#399de5\" stroke=\"black\" d=\"M1308,-536.5C1308,-536.5 1237,-536.5 1237,-536.5 1231,-536.5 1225,-530.5 1225,-524.5 1225,-524.5 1225,-480.5 1225,-480.5 1225,-474.5 1231,-468.5 1237,-468.5 1237,-468.5 1308,-468.5 1308,-468.5 1314,-468.5 1320,-474.5 1320,-480.5 1320,-480.5 1320,-524.5 1320,-524.5 1320,-530.5 1314,-536.5 1308,-536.5\"/>\n<text text-anchor=\"start\" x=\"1244.5\" y=\"-521.3\" font-family=\"Helvetica,sans-Serif\" font-size=\"14.00\">gini = 0.0</text>\n<text text-anchor=\"start\" x=\"1235\" y=\"-506.3\" font-family=\"Helvetica,sans-Serif\" font-size=\"14.00\">samples = 8</text>\n<text text-anchor=\"start\" x=\"1233\" y=\"-491.3\" font-family=\"Helvetica,sans-Serif\" font-size=\"14.00\">value = [0, 8]</text>\n<text text-anchor=\"start\" x=\"1245\" y=\"-476.3\" font-family=\"Helvetica,sans-Serif\" font-size=\"14.00\">class = 1</text>\n</g>\n<!-- 32&#45;&gt;38 -->\n<g id=\"edge38\" class=\"edge\">\n<title>32&#45;&gt;38</title>\n<path fill=\"none\" stroke=\"black\" d=\"M1211.77,-579.91C1220.8,-568.54 1230.63,-556.18 1239.69,-544.77\"/>\n<polygon fill=\"black\" stroke=\"black\" points=\"1242.65,-546.67 1246.14,-536.67 1237.17,-542.32 1242.65,-546.67\"/>\n</g>\n<!-- 34 -->\n<g id=\"node35\" class=\"node\">\n<title>34</title>\n<path fill=\"#399de5\" stroke=\"black\" d=\"M1126,-417.5C1126,-417.5 1055,-417.5 1055,-417.5 1049,-417.5 1043,-411.5 1043,-405.5 1043,-405.5 1043,-361.5 1043,-361.5 1043,-355.5 1049,-349.5 1055,-349.5 1055,-349.5 1126,-349.5 1126,-349.5 1132,-349.5 1138,-355.5 1138,-361.5 1138,-361.5 1138,-405.5 1138,-405.5 1138,-411.5 1132,-417.5 1126,-417.5\"/>\n<text text-anchor=\"start\" x=\"1062.5\" y=\"-402.3\" font-family=\"Helvetica,sans-Serif\" font-size=\"14.00\">gini = 0.0</text>\n<text text-anchor=\"start\" x=\"1053\" y=\"-387.3\" font-family=\"Helvetica,sans-Serif\" font-size=\"14.00\">samples = 2</text>\n<text text-anchor=\"start\" x=\"1051\" y=\"-372.3\" font-family=\"Helvetica,sans-Serif\" font-size=\"14.00\">value = [0, 2]</text>\n<text text-anchor=\"start\" x=\"1063\" y=\"-357.3\" font-family=\"Helvetica,sans-Serif\" font-size=\"14.00\">class = 1</text>\n</g>\n<!-- 33&#45;&gt;34 -->\n<g id=\"edge34\" class=\"edge\">\n<title>33&#45;&gt;34</title>\n<path fill=\"none\" stroke=\"black\" d=\"M1129.68,-460.91C1124.02,-449.87 1117.88,-437.9 1112.18,-426.77\"/>\n<polygon fill=\"black\" stroke=\"black\" points=\"1115.19,-424.97 1107.51,-417.67 1108.96,-428.16 1115.19,-424.97\"/>\n</g>\n<!-- 35 -->\n<g id=\"node36\" class=\"node\">\n<title>35</title>\n<path fill=\"#f2c09c\" stroke=\"black\" d=\"M1253,-425C1253,-425 1168,-425 1168,-425 1162,-425 1156,-419 1156,-413 1156,-413 1156,-354 1156,-354 1156,-348 1162,-342 1168,-342 1168,-342 1253,-342 1253,-342 1259,-342 1265,-348 1265,-354 1265,-354 1265,-413 1265,-413 1265,-419 1259,-425 1253,-425\"/>\n<text text-anchor=\"start\" x=\"1164\" y=\"-409.8\" font-family=\"Helvetica,sans-Serif\" font-size=\"14.00\">thalach ≤ 137.0</text>\n<text text-anchor=\"start\" x=\"1175\" y=\"-394.8\" font-family=\"Helvetica,sans-Serif\" font-size=\"14.00\">gini = 0.444</text>\n<text text-anchor=\"start\" x=\"1173\" y=\"-379.8\" font-family=\"Helvetica,sans-Serif\" font-size=\"14.00\">samples = 3</text>\n<text text-anchor=\"start\" x=\"1171\" y=\"-364.8\" font-family=\"Helvetica,sans-Serif\" font-size=\"14.00\">value = [2, 1]</text>\n<text text-anchor=\"start\" x=\"1183\" y=\"-349.8\" font-family=\"Helvetica,sans-Serif\" font-size=\"14.00\">class = 0</text>\n</g>\n<!-- 33&#45;&gt;35 -->\n<g id=\"edge35\" class=\"edge\">\n<title>33&#45;&gt;35</title>\n<path fill=\"none\" stroke=\"black\" d=\"M1171.32,-460.91C1175.74,-452.29 1180.45,-443.09 1185.03,-434.17\"/>\n<polygon fill=\"black\" stroke=\"black\" points=\"1188.27,-435.52 1189.72,-425.02 1182.04,-432.32 1188.27,-435.52\"/>\n</g>\n<!-- 36 -->\n<g id=\"node37\" class=\"node\">\n<title>36</title>\n<path fill=\"#399de5\" stroke=\"black\" d=\"M1189,-298.5C1189,-298.5 1118,-298.5 1118,-298.5 1112,-298.5 1106,-292.5 1106,-286.5 1106,-286.5 1106,-242.5 1106,-242.5 1106,-236.5 1112,-230.5 1118,-230.5 1118,-230.5 1189,-230.5 1189,-230.5 1195,-230.5 1201,-236.5 1201,-242.5 1201,-242.5 1201,-286.5 1201,-286.5 1201,-292.5 1195,-298.5 1189,-298.5\"/>\n<text text-anchor=\"start\" x=\"1125.5\" y=\"-283.3\" font-family=\"Helvetica,sans-Serif\" font-size=\"14.00\">gini = 0.0</text>\n<text text-anchor=\"start\" x=\"1116\" y=\"-268.3\" font-family=\"Helvetica,sans-Serif\" font-size=\"14.00\">samples = 1</text>\n<text text-anchor=\"start\" x=\"1114\" y=\"-253.3\" font-family=\"Helvetica,sans-Serif\" font-size=\"14.00\">value = [0, 1]</text>\n<text text-anchor=\"start\" x=\"1126\" y=\"-238.3\" font-family=\"Helvetica,sans-Serif\" font-size=\"14.00\">class = 1</text>\n</g>\n<!-- 35&#45;&gt;36 -->\n<g id=\"edge36\" class=\"edge\">\n<title>35&#45;&gt;36</title>\n<path fill=\"none\" stroke=\"black\" d=\"M1190.72,-341.91C1185.35,-330.87 1179.51,-318.9 1174.09,-307.77\"/>\n<polygon fill=\"black\" stroke=\"black\" points=\"1177.18,-306.12 1169.66,-298.67 1170.89,-309.19 1177.18,-306.12\"/>\n</g>\n<!-- 37 -->\n<g id=\"node38\" class=\"node\">\n<title>37</title>\n<path fill=\"#e58139\" stroke=\"black\" d=\"M1302,-298.5C1302,-298.5 1231,-298.5 1231,-298.5 1225,-298.5 1219,-292.5 1219,-286.5 1219,-286.5 1219,-242.5 1219,-242.5 1219,-236.5 1225,-230.5 1231,-230.5 1231,-230.5 1302,-230.5 1302,-230.5 1308,-230.5 1314,-236.5 1314,-242.5 1314,-242.5 1314,-286.5 1314,-286.5 1314,-292.5 1308,-298.5 1302,-298.5\"/>\n<text text-anchor=\"start\" x=\"1238.5\" y=\"-283.3\" font-family=\"Helvetica,sans-Serif\" font-size=\"14.00\">gini = 0.0</text>\n<text text-anchor=\"start\" x=\"1229\" y=\"-268.3\" font-family=\"Helvetica,sans-Serif\" font-size=\"14.00\">samples = 2</text>\n<text text-anchor=\"start\" x=\"1227\" y=\"-253.3\" font-family=\"Helvetica,sans-Serif\" font-size=\"14.00\">value = [2, 0]</text>\n<text text-anchor=\"start\" x=\"1239\" y=\"-238.3\" font-family=\"Helvetica,sans-Serif\" font-size=\"14.00\">class = 0</text>\n</g>\n<!-- 35&#45;&gt;37 -->\n<g id=\"edge37\" class=\"edge\">\n<title>35&#45;&gt;37</title>\n<path fill=\"none\" stroke=\"black\" d=\"M1229.93,-341.91C1235.21,-330.87 1240.94,-318.9 1246.27,-307.77\"/>\n<polygon fill=\"black\" stroke=\"black\" points=\"1249.46,-309.2 1250.63,-298.67 1243.15,-306.18 1249.46,-309.2\"/>\n</g>\n<!-- 40 -->\n<g id=\"node41\" class=\"node\">\n<title>40</title>\n<path fill=\"#9ccef2\" stroke=\"black\" d=\"M1392,-663C1392,-663 1321,-663 1321,-663 1315,-663 1309,-657 1309,-651 1309,-651 1309,-592 1309,-592 1309,-586 1315,-580 1321,-580 1321,-580 1392,-580 1392,-580 1398,-580 1404,-586 1404,-592 1404,-592 1404,-651 1404,-651 1404,-657 1398,-663 1392,-663\"/>\n<text text-anchor=\"start\" x=\"1319.5\" y=\"-647.8\" font-family=\"Helvetica,sans-Serif\" font-size=\"14.00\">chol ≤ 254.0</text>\n<text text-anchor=\"start\" x=\"1321\" y=\"-632.8\" font-family=\"Helvetica,sans-Serif\" font-size=\"14.00\">gini = 0.444</text>\n<text text-anchor=\"start\" x=\"1319\" y=\"-617.8\" font-family=\"Helvetica,sans-Serif\" font-size=\"14.00\">samples = 3</text>\n<text text-anchor=\"start\" x=\"1317\" y=\"-602.8\" font-family=\"Helvetica,sans-Serif\" font-size=\"14.00\">value = [1, 2]</text>\n<text text-anchor=\"start\" x=\"1329\" y=\"-587.8\" font-family=\"Helvetica,sans-Serif\" font-size=\"14.00\">class = 1</text>\n</g>\n<!-- 39&#45;&gt;40 -->\n<g id=\"edge40\" class=\"edge\">\n<title>39&#45;&gt;40</title>\n<path fill=\"none\" stroke=\"black\" d=\"M1356.5,-698.91C1356.5,-690.65 1356.5,-681.86 1356.5,-673.3\"/>\n<polygon fill=\"black\" stroke=\"black\" points=\"1360,-673.02 1356.5,-663.02 1353,-673.02 1360,-673.02\"/>\n</g>\n<!-- 43 -->\n<g id=\"node44\" class=\"node\">\n<title>43</title>\n<path fill=\"#e58139\" stroke=\"black\" d=\"M1512.5,-655.5C1512.5,-655.5 1434.5,-655.5 1434.5,-655.5 1428.5,-655.5 1422.5,-649.5 1422.5,-643.5 1422.5,-643.5 1422.5,-599.5 1422.5,-599.5 1422.5,-593.5 1428.5,-587.5 1434.5,-587.5 1434.5,-587.5 1512.5,-587.5 1512.5,-587.5 1518.5,-587.5 1524.5,-593.5 1524.5,-599.5 1524.5,-599.5 1524.5,-643.5 1524.5,-643.5 1524.5,-649.5 1518.5,-655.5 1512.5,-655.5\"/>\n<text text-anchor=\"start\" x=\"1445.5\" y=\"-640.3\" font-family=\"Helvetica,sans-Serif\" font-size=\"14.00\">gini = 0.0</text>\n<text text-anchor=\"start\" x=\"1432.5\" y=\"-625.3\" font-family=\"Helvetica,sans-Serif\" font-size=\"14.00\">samples = 15</text>\n<text text-anchor=\"start\" x=\"1430.5\" y=\"-610.3\" font-family=\"Helvetica,sans-Serif\" font-size=\"14.00\">value = [15, 0]</text>\n<text text-anchor=\"start\" x=\"1446\" y=\"-595.3\" font-family=\"Helvetica,sans-Serif\" font-size=\"14.00\">class = 0</text>\n</g>\n<!-- 39&#45;&gt;43 -->\n<g id=\"edge43\" class=\"edge\">\n<title>39&#45;&gt;43</title>\n<path fill=\"none\" stroke=\"black\" d=\"M1397.09,-698.91C1408.79,-687.21 1421.54,-674.46 1433.22,-662.78\"/>\n<polygon fill=\"black\" stroke=\"black\" points=\"1435.74,-665.21 1440.33,-655.67 1430.79,-660.26 1435.74,-665.21\"/>\n</g>\n<!-- 41 -->\n<g id=\"node42\" class=\"node\">\n<title>41</title>\n<path fill=\"#399de5\" stroke=\"black\" d=\"M1421,-536.5C1421,-536.5 1350,-536.5 1350,-536.5 1344,-536.5 1338,-530.5 1338,-524.5 1338,-524.5 1338,-480.5 1338,-480.5 1338,-474.5 1344,-468.5 1350,-468.5 1350,-468.5 1421,-468.5 1421,-468.5 1427,-468.5 1433,-474.5 1433,-480.5 1433,-480.5 1433,-524.5 1433,-524.5 1433,-530.5 1427,-536.5 1421,-536.5\"/>\n<text text-anchor=\"start\" x=\"1357.5\" y=\"-521.3\" font-family=\"Helvetica,sans-Serif\" font-size=\"14.00\">gini = 0.0</text>\n<text text-anchor=\"start\" x=\"1348\" y=\"-506.3\" font-family=\"Helvetica,sans-Serif\" font-size=\"14.00\">samples = 2</text>\n<text text-anchor=\"start\" x=\"1346\" y=\"-491.3\" font-family=\"Helvetica,sans-Serif\" font-size=\"14.00\">value = [0, 2]</text>\n<text text-anchor=\"start\" x=\"1358\" y=\"-476.3\" font-family=\"Helvetica,sans-Serif\" font-size=\"14.00\">class = 1</text>\n</g>\n<!-- 40&#45;&gt;41 -->\n<g id=\"edge41\" class=\"edge\">\n<title>40&#45;&gt;41</title>\n<path fill=\"none\" stroke=\"black\" d=\"M1366.56,-579.91C1369.24,-569.09 1372.15,-557.38 1374.86,-546.44\"/>\n<polygon fill=\"black\" stroke=\"black\" points=\"1378.27,-547.22 1377.28,-536.67 1371.48,-545.53 1378.27,-547.22\"/>\n</g>\n<!-- 42 -->\n<g id=\"node43\" class=\"node\">\n<title>42</title>\n<path fill=\"#e58139\" stroke=\"black\" d=\"M1534,-536.5C1534,-536.5 1463,-536.5 1463,-536.5 1457,-536.5 1451,-530.5 1451,-524.5 1451,-524.5 1451,-480.5 1451,-480.5 1451,-474.5 1457,-468.5 1463,-468.5 1463,-468.5 1534,-468.5 1534,-468.5 1540,-468.5 1546,-474.5 1546,-480.5 1546,-480.5 1546,-524.5 1546,-524.5 1546,-530.5 1540,-536.5 1534,-536.5\"/>\n<text text-anchor=\"start\" x=\"1470.5\" y=\"-521.3\" font-family=\"Helvetica,sans-Serif\" font-size=\"14.00\">gini = 0.0</text>\n<text text-anchor=\"start\" x=\"1461\" y=\"-506.3\" font-family=\"Helvetica,sans-Serif\" font-size=\"14.00\">samples = 1</text>\n<text text-anchor=\"start\" x=\"1459\" y=\"-491.3\" font-family=\"Helvetica,sans-Serif\" font-size=\"14.00\">value = [1, 0]</text>\n<text text-anchor=\"start\" x=\"1471\" y=\"-476.3\" font-family=\"Helvetica,sans-Serif\" font-size=\"14.00\">class = 0</text>\n</g>\n<!-- 40&#45;&gt;42 -->\n<g id=\"edge42\" class=\"edge\">\n<title>40&#45;&gt;42</title>\n<path fill=\"none\" stroke=\"black\" d=\"M1404.18,-581.22C1419,-569 1435.34,-555.54 1450.21,-543.29\"/>\n<polygon fill=\"black\" stroke=\"black\" points=\"1452.8,-545.69 1458.29,-536.63 1448.35,-540.29 1452.8,-545.69\"/>\n</g>\n<!-- 45 -->\n<g id=\"node46\" class=\"node\">\n<title>45</title>\n<path fill=\"#e68641\" stroke=\"black\" d=\"M1811,-901C1811,-901 1710,-901 1710,-901 1704,-901 1698,-895 1698,-889 1698,-889 1698,-830 1698,-830 1698,-824 1704,-818 1710,-818 1710,-818 1811,-818 1811,-818 1817,-818 1823,-824 1823,-830 1823,-830 1823,-889 1823,-889 1823,-895 1817,-901 1811,-901\"/>\n<text text-anchor=\"start\" x=\"1712\" y=\"-885.8\" font-family=\"Helvetica,sans-Serif\" font-size=\"14.00\">trestbps ≤ 109.0</text>\n<text text-anchor=\"start\" x=\"1725\" y=\"-870.8\" font-family=\"Helvetica,sans-Serif\" font-size=\"14.00\">gini = 0.078</text>\n<text text-anchor=\"start\" x=\"1719.5\" y=\"-855.8\" font-family=\"Helvetica,sans-Serif\" font-size=\"14.00\">samples = 49</text>\n<text text-anchor=\"start\" x=\"1706\" y=\"-840.8\" font-family=\"Helvetica,sans-Serif\" font-size=\"14.00\">value = [47.0, 2.0]</text>\n<text text-anchor=\"start\" x=\"1733\" y=\"-825.8\" font-family=\"Helvetica,sans-Serif\" font-size=\"14.00\">class = 0</text>\n</g>\n<!-- 44&#45;&gt;45 -->\n<g id=\"edge45\" class=\"edge\">\n<title>44&#45;&gt;45</title>\n<path fill=\"none\" stroke=\"black\" d=\"M1760.5,-936.91C1760.5,-928.65 1760.5,-919.86 1760.5,-911.3\"/>\n<polygon fill=\"black\" stroke=\"black\" points=\"1764,-911.02 1760.5,-901.02 1757,-911.02 1764,-911.02\"/>\n</g>\n<!-- 56 -->\n<g id=\"node57\" class=\"node\">\n<title>56</title>\n<path fill=\"#ffffff\" stroke=\"black\" d=\"M2153.5,-901C2153.5,-901 2067.5,-901 2067.5,-901 2061.5,-901 2055.5,-895 2055.5,-889 2055.5,-889 2055.5,-830 2055.5,-830 2055.5,-824 2061.5,-818 2067.5,-818 2067.5,-818 2153.5,-818 2153.5,-818 2159.5,-818 2165.5,-824 2165.5,-830 2165.5,-830 2165.5,-889 2165.5,-889 2165.5,-895 2159.5,-901 2153.5,-901\"/>\n<text text-anchor=\"start\" x=\"2077\" y=\"-885.8\" font-family=\"Helvetica,sans-Serif\" font-size=\"14.00\">slope ≤ 1.5</text>\n<text text-anchor=\"start\" x=\"2082.5\" y=\"-870.8\" font-family=\"Helvetica,sans-Serif\" font-size=\"14.00\">gini = 0.5</text>\n<text text-anchor=\"start\" x=\"2069.5\" y=\"-855.8\" font-family=\"Helvetica,sans-Serif\" font-size=\"14.00\">samples = 34</text>\n<text text-anchor=\"start\" x=\"2063.5\" y=\"-840.8\" font-family=\"Helvetica,sans-Serif\" font-size=\"14.00\">value = [17, 17]</text>\n<text text-anchor=\"start\" x=\"2083\" y=\"-825.8\" font-family=\"Helvetica,sans-Serif\" font-size=\"14.00\">class = 0</text>\n</g>\n<!-- 44&#45;&gt;56 -->\n<g id=\"edge56\" class=\"edge\">\n<title>44&#45;&gt;56</title>\n<path fill=\"none\" stroke=\"black\" d=\"M1815.57,-959.09C1878.05,-938.2 1979.82,-904.18 2045.97,-882.07\"/>\n<polygon fill=\"black\" stroke=\"black\" points=\"2047.09,-885.39 2055.46,-878.9 2044.87,-878.75 2047.09,-885.39\"/>\n</g>\n<!-- 46 -->\n<g id=\"node47\" class=\"node\">\n<title>46</title>\n<path fill=\"#eeab7b\" stroke=\"black\" d=\"M1737,-782C1737,-782 1666,-782 1666,-782 1660,-782 1654,-776 1654,-770 1654,-770 1654,-711 1654,-711 1654,-705 1660,-699 1666,-699 1666,-699 1737,-699 1737,-699 1743,-699 1749,-705 1749,-711 1749,-711 1749,-770 1749,-770 1749,-776 1743,-782 1737,-782\"/>\n<text text-anchor=\"start\" x=\"1669.5\" y=\"-766.8\" font-family=\"Helvetica,sans-Serif\" font-size=\"14.00\">age ≤ 55.0</text>\n<text text-anchor=\"start\" x=\"1666\" y=\"-751.8\" font-family=\"Helvetica,sans-Serif\" font-size=\"14.00\">gini = 0.375</text>\n<text text-anchor=\"start\" x=\"1664\" y=\"-736.8\" font-family=\"Helvetica,sans-Serif\" font-size=\"14.00\">samples = 4</text>\n<text text-anchor=\"start\" x=\"1662\" y=\"-721.8\" font-family=\"Helvetica,sans-Serif\" font-size=\"14.00\">value = [3, 1]</text>\n<text text-anchor=\"start\" x=\"1674\" y=\"-706.8\" font-family=\"Helvetica,sans-Serif\" font-size=\"14.00\">class = 0</text>\n</g>\n<!-- 45&#45;&gt;46 -->\n<g id=\"edge46\" class=\"edge\">\n<title>45&#45;&gt;46</title>\n<path fill=\"none\" stroke=\"black\" d=\"M1740.03,-817.91C1735.68,-809.29 1731.05,-800.09 1726.55,-791.17\"/>\n<polygon fill=\"black\" stroke=\"black\" points=\"1729.56,-789.37 1721.93,-782.02 1723.31,-792.53 1729.56,-789.37\"/>\n</g>\n<!-- 49 -->\n<g id=\"node50\" class=\"node\">\n<title>49</title>\n<path fill=\"#e6843d\" stroke=\"black\" d=\"M1857.5,-782C1857.5,-782 1779.5,-782 1779.5,-782 1773.5,-782 1767.5,-776 1767.5,-770 1767.5,-770 1767.5,-711 1767.5,-711 1767.5,-705 1773.5,-699 1779.5,-699 1779.5,-699 1857.5,-699 1857.5,-699 1863.5,-699 1869.5,-705 1869.5,-711 1869.5,-711 1869.5,-770 1869.5,-770 1869.5,-776 1863.5,-782 1857.5,-782\"/>\n<text text-anchor=\"start\" x=\"1791\" y=\"-766.8\" font-family=\"Helvetica,sans-Serif\" font-size=\"14.00\">sex ≤ 0.5</text>\n<text text-anchor=\"start\" x=\"1783\" y=\"-751.8\" font-family=\"Helvetica,sans-Serif\" font-size=\"14.00\">gini = 0.043</text>\n<text text-anchor=\"start\" x=\"1777.5\" y=\"-736.8\" font-family=\"Helvetica,sans-Serif\" font-size=\"14.00\">samples = 45</text>\n<text text-anchor=\"start\" x=\"1775.5\" y=\"-721.8\" font-family=\"Helvetica,sans-Serif\" font-size=\"14.00\">value = [44, 1]</text>\n<text text-anchor=\"start\" x=\"1791\" y=\"-706.8\" font-family=\"Helvetica,sans-Serif\" font-size=\"14.00\">class = 0</text>\n</g>\n<!-- 45&#45;&gt;49 -->\n<g id=\"edge49\" class=\"edge\">\n<title>45&#45;&gt;49</title>\n<path fill=\"none\" stroke=\"black\" d=\"M1780.62,-817.91C1784.9,-809.29 1789.46,-800.09 1793.87,-791.17\"/>\n<polygon fill=\"black\" stroke=\"black\" points=\"1797.11,-792.53 1798.41,-782.02 1790.84,-789.43 1797.11,-792.53\"/>\n</g>\n<!-- 47 -->\n<g id=\"node48\" class=\"node\">\n<title>47</title>\n<path fill=\"#399de5\" stroke=\"black\" d=\"M1626,-655.5C1626,-655.5 1555,-655.5 1555,-655.5 1549,-655.5 1543,-649.5 1543,-643.5 1543,-643.5 1543,-599.5 1543,-599.5 1543,-593.5 1549,-587.5 1555,-587.5 1555,-587.5 1626,-587.5 1626,-587.5 1632,-587.5 1638,-593.5 1638,-599.5 1638,-599.5 1638,-643.5 1638,-643.5 1638,-649.5 1632,-655.5 1626,-655.5\"/>\n<text text-anchor=\"start\" x=\"1562.5\" y=\"-640.3\" font-family=\"Helvetica,sans-Serif\" font-size=\"14.00\">gini = 0.0</text>\n<text text-anchor=\"start\" x=\"1553\" y=\"-625.3\" font-family=\"Helvetica,sans-Serif\" font-size=\"14.00\">samples = 1</text>\n<text text-anchor=\"start\" x=\"1551\" y=\"-610.3\" font-family=\"Helvetica,sans-Serif\" font-size=\"14.00\">value = [0, 1]</text>\n<text text-anchor=\"start\" x=\"1563\" y=\"-595.3\" font-family=\"Helvetica,sans-Serif\" font-size=\"14.00\">class = 1</text>\n</g>\n<!-- 46&#45;&gt;47 -->\n<g id=\"edge47\" class=\"edge\">\n<title>46&#45;&gt;47</title>\n<path fill=\"none\" stroke=\"black\" d=\"M1662.99,-698.91C1652,-687.32 1640.02,-674.7 1629.03,-663.11\"/>\n<polygon fill=\"black\" stroke=\"black\" points=\"1631.39,-660.51 1621.97,-655.67 1626.31,-665.33 1631.39,-660.51\"/>\n</g>\n<!-- 48 -->\n<g id=\"node49\" class=\"node\">\n<title>48</title>\n<path fill=\"#e58139\" stroke=\"black\" d=\"M1739,-655.5C1739,-655.5 1668,-655.5 1668,-655.5 1662,-655.5 1656,-649.5 1656,-643.5 1656,-643.5 1656,-599.5 1656,-599.5 1656,-593.5 1662,-587.5 1668,-587.5 1668,-587.5 1739,-587.5 1739,-587.5 1745,-587.5 1751,-593.5 1751,-599.5 1751,-599.5 1751,-643.5 1751,-643.5 1751,-649.5 1745,-655.5 1739,-655.5\"/>\n<text text-anchor=\"start\" x=\"1675.5\" y=\"-640.3\" font-family=\"Helvetica,sans-Serif\" font-size=\"14.00\">gini = 0.0</text>\n<text text-anchor=\"start\" x=\"1666\" y=\"-625.3\" font-family=\"Helvetica,sans-Serif\" font-size=\"14.00\">samples = 3</text>\n<text text-anchor=\"start\" x=\"1664\" y=\"-610.3\" font-family=\"Helvetica,sans-Serif\" font-size=\"14.00\">value = [3, 0]</text>\n<text text-anchor=\"start\" x=\"1676\" y=\"-595.3\" font-family=\"Helvetica,sans-Serif\" font-size=\"14.00\">class = 0</text>\n</g>\n<!-- 46&#45;&gt;48 -->\n<g id=\"edge48\" class=\"edge\">\n<title>46&#45;&gt;48</title>\n<path fill=\"none\" stroke=\"black\" d=\"M1702.19,-698.91C1702.38,-688.2 1702.57,-676.62 1702.76,-665.78\"/>\n<polygon fill=\"black\" stroke=\"black\" points=\"1706.26,-665.73 1702.93,-655.67 1699.26,-665.61 1706.26,-665.73\"/>\n</g>\n<!-- 50 -->\n<g id=\"node51\" class=\"node\">\n<title>50</title>\n<path fill=\"#e9965a\" stroke=\"black\" d=\"M1852,-663C1852,-663 1781,-663 1781,-663 1775,-663 1769,-657 1769,-651 1769,-651 1769,-592 1769,-592 1769,-586 1775,-580 1781,-580 1781,-580 1852,-580 1852,-580 1858,-580 1864,-586 1864,-592 1864,-592 1864,-651 1864,-651 1864,-657 1858,-663 1852,-663\"/>\n<text text-anchor=\"start\" x=\"1779.5\" y=\"-647.8\" font-family=\"Helvetica,sans-Serif\" font-size=\"14.00\">chol ≤ 298.5</text>\n<text text-anchor=\"start\" x=\"1781\" y=\"-632.8\" font-family=\"Helvetica,sans-Serif\" font-size=\"14.00\">gini = 0.245</text>\n<text text-anchor=\"start\" x=\"1779\" y=\"-617.8\" font-family=\"Helvetica,sans-Serif\" font-size=\"14.00\">samples = 7</text>\n<text text-anchor=\"start\" x=\"1777\" y=\"-602.8\" font-family=\"Helvetica,sans-Serif\" font-size=\"14.00\">value = [6, 1]</text>\n<text text-anchor=\"start\" x=\"1789\" y=\"-587.8\" font-family=\"Helvetica,sans-Serif\" font-size=\"14.00\">class = 0</text>\n</g>\n<!-- 49&#45;&gt;50 -->\n<g id=\"edge50\" class=\"edge\">\n<title>49&#45;&gt;50</title>\n<path fill=\"none\" stroke=\"black\" d=\"M1817.81,-698.91C1817.66,-690.56 1817.51,-681.67 1817.36,-673.02\"/>\n<polygon fill=\"black\" stroke=\"black\" points=\"1820.86,-672.96 1817.19,-663.02 1813.86,-673.08 1820.86,-672.96\"/>\n</g>\n<!-- 55 -->\n<g id=\"node56\" class=\"node\">\n<title>55</title>\n<path fill=\"#e58139\" stroke=\"black\" d=\"M1972.5,-655.5C1972.5,-655.5 1894.5,-655.5 1894.5,-655.5 1888.5,-655.5 1882.5,-649.5 1882.5,-643.5 1882.5,-643.5 1882.5,-599.5 1882.5,-599.5 1882.5,-593.5 1888.5,-587.5 1894.5,-587.5 1894.5,-587.5 1972.5,-587.5 1972.5,-587.5 1978.5,-587.5 1984.5,-593.5 1984.5,-599.5 1984.5,-599.5 1984.5,-643.5 1984.5,-643.5 1984.5,-649.5 1978.5,-655.5 1972.5,-655.5\"/>\n<text text-anchor=\"start\" x=\"1905.5\" y=\"-640.3\" font-family=\"Helvetica,sans-Serif\" font-size=\"14.00\">gini = 0.0</text>\n<text text-anchor=\"start\" x=\"1892.5\" y=\"-625.3\" font-family=\"Helvetica,sans-Serif\" font-size=\"14.00\">samples = 38</text>\n<text text-anchor=\"start\" x=\"1890.5\" y=\"-610.3\" font-family=\"Helvetica,sans-Serif\" font-size=\"14.00\">value = [38, 0]</text>\n<text text-anchor=\"start\" x=\"1906\" y=\"-595.3\" font-family=\"Helvetica,sans-Serif\" font-size=\"14.00\">class = 0</text>\n</g>\n<!-- 49&#45;&gt;55 -->\n<g id=\"edge55\" class=\"edge\">\n<title>49&#45;&gt;55</title>\n<path fill=\"none\" stroke=\"black\" d=\"M1858.4,-698.91C1869.79,-687.32 1882.19,-674.7 1893.58,-663.11\"/>\n<polygon fill=\"black\" stroke=\"black\" points=\"1896.39,-665.25 1900.9,-655.67 1891.39,-660.35 1896.39,-665.25\"/>\n</g>\n<!-- 51 -->\n<g id=\"node52\" class=\"node\">\n<title>51</title>\n<path fill=\"#e58139\" stroke=\"black\" d=\"M1790,-536.5C1790,-536.5 1719,-536.5 1719,-536.5 1713,-536.5 1707,-530.5 1707,-524.5 1707,-524.5 1707,-480.5 1707,-480.5 1707,-474.5 1713,-468.5 1719,-468.5 1719,-468.5 1790,-468.5 1790,-468.5 1796,-468.5 1802,-474.5 1802,-480.5 1802,-480.5 1802,-524.5 1802,-524.5 1802,-530.5 1796,-536.5 1790,-536.5\"/>\n<text text-anchor=\"start\" x=\"1726.5\" y=\"-521.3\" font-family=\"Helvetica,sans-Serif\" font-size=\"14.00\">gini = 0.0</text>\n<text text-anchor=\"start\" x=\"1717\" y=\"-506.3\" font-family=\"Helvetica,sans-Serif\" font-size=\"14.00\">samples = 5</text>\n<text text-anchor=\"start\" x=\"1715\" y=\"-491.3\" font-family=\"Helvetica,sans-Serif\" font-size=\"14.00\">value = [5, 0]</text>\n<text text-anchor=\"start\" x=\"1727\" y=\"-476.3\" font-family=\"Helvetica,sans-Serif\" font-size=\"14.00\">class = 0</text>\n</g>\n<!-- 50&#45;&gt;51 -->\n<g id=\"edge51\" class=\"edge\">\n<title>50&#45;&gt;51</title>\n<path fill=\"none\" stroke=\"black\" d=\"M1794.99,-579.91C1789.14,-568.87 1782.8,-556.9 1776.9,-545.77\"/>\n<polygon fill=\"black\" stroke=\"black\" points=\"1779.85,-543.86 1772.08,-536.67 1773.67,-547.14 1779.85,-543.86\"/>\n</g>\n<!-- 52 -->\n<g id=\"node53\" class=\"node\">\n<title>52</title>\n<path fill=\"#ffffff\" stroke=\"black\" d=\"M1921,-544C1921,-544 1832,-544 1832,-544 1826,-544 1820,-538 1820,-532 1820,-532 1820,-473 1820,-473 1820,-467 1826,-461 1832,-461 1832,-461 1921,-461 1921,-461 1927,-461 1933,-467 1933,-473 1933,-473 1933,-532 1933,-532 1933,-538 1927,-544 1921,-544\"/>\n<text text-anchor=\"start\" x=\"1828\" y=\"-528.8\" font-family=\"Helvetica,sans-Serif\" font-size=\"14.00\">trestbps ≤ 140.0</text>\n<text text-anchor=\"start\" x=\"1848.5\" y=\"-513.8\" font-family=\"Helvetica,sans-Serif\" font-size=\"14.00\">gini = 0.5</text>\n<text text-anchor=\"start\" x=\"1839\" y=\"-498.8\" font-family=\"Helvetica,sans-Serif\" font-size=\"14.00\">samples = 2</text>\n<text text-anchor=\"start\" x=\"1837\" y=\"-483.8\" font-family=\"Helvetica,sans-Serif\" font-size=\"14.00\">value = [1, 1]</text>\n<text text-anchor=\"start\" x=\"1849\" y=\"-468.8\" font-family=\"Helvetica,sans-Serif\" font-size=\"14.00\">class = 0</text>\n</g>\n<!-- 50&#45;&gt;52 -->\n<g id=\"edge52\" class=\"edge\">\n<title>50&#45;&gt;52</title>\n<path fill=\"none\" stroke=\"black\" d=\"M1837.32,-579.91C1841.74,-571.29 1846.45,-562.09 1851.03,-553.17\"/>\n<polygon fill=\"black\" stroke=\"black\" points=\"1854.27,-554.52 1855.72,-544.02 1848.04,-551.32 1854.27,-554.52\"/>\n</g>\n<!-- 53 -->\n<g id=\"node54\" class=\"node\">\n<title>53</title>\n<path fill=\"#399de5\" stroke=\"black\" d=\"M1833,-417.5C1833,-417.5 1762,-417.5 1762,-417.5 1756,-417.5 1750,-411.5 1750,-405.5 1750,-405.5 1750,-361.5 1750,-361.5 1750,-355.5 1756,-349.5 1762,-349.5 1762,-349.5 1833,-349.5 1833,-349.5 1839,-349.5 1845,-355.5 1845,-361.5 1845,-361.5 1845,-405.5 1845,-405.5 1845,-411.5 1839,-417.5 1833,-417.5\"/>\n<text text-anchor=\"start\" x=\"1769.5\" y=\"-402.3\" font-family=\"Helvetica,sans-Serif\" font-size=\"14.00\">gini = 0.0</text>\n<text text-anchor=\"start\" x=\"1760\" y=\"-387.3\" font-family=\"Helvetica,sans-Serif\" font-size=\"14.00\">samples = 1</text>\n<text text-anchor=\"start\" x=\"1758\" y=\"-372.3\" font-family=\"Helvetica,sans-Serif\" font-size=\"14.00\">value = [0, 1]</text>\n<text text-anchor=\"start\" x=\"1770\" y=\"-357.3\" font-family=\"Helvetica,sans-Serif\" font-size=\"14.00\">class = 1</text>\n</g>\n<!-- 52&#45;&gt;53 -->\n<g id=\"edge53\" class=\"edge\">\n<title>52&#45;&gt;53</title>\n<path fill=\"none\" stroke=\"black\" d=\"M1849.09,-460.91C1841.49,-449.65 1833.23,-437.42 1825.59,-426.11\"/>\n<polygon fill=\"black\" stroke=\"black\" points=\"1828.39,-424 1819.89,-417.67 1822.59,-427.91 1828.39,-424\"/>\n</g>\n<!-- 54 -->\n<g id=\"node55\" class=\"node\">\n<title>54</title>\n<path fill=\"#e58139\" stroke=\"black\" d=\"M1946,-417.5C1946,-417.5 1875,-417.5 1875,-417.5 1869,-417.5 1863,-411.5 1863,-405.5 1863,-405.5 1863,-361.5 1863,-361.5 1863,-355.5 1869,-349.5 1875,-349.5 1875,-349.5 1946,-349.5 1946,-349.5 1952,-349.5 1958,-355.5 1958,-361.5 1958,-361.5 1958,-405.5 1958,-405.5 1958,-411.5 1952,-417.5 1946,-417.5\"/>\n<text text-anchor=\"start\" x=\"1882.5\" y=\"-402.3\" font-family=\"Helvetica,sans-Serif\" font-size=\"14.00\">gini = 0.0</text>\n<text text-anchor=\"start\" x=\"1873\" y=\"-387.3\" font-family=\"Helvetica,sans-Serif\" font-size=\"14.00\">samples = 1</text>\n<text text-anchor=\"start\" x=\"1871\" y=\"-372.3\" font-family=\"Helvetica,sans-Serif\" font-size=\"14.00\">value = [1, 0]</text>\n<text text-anchor=\"start\" x=\"1883\" y=\"-357.3\" font-family=\"Helvetica,sans-Serif\" font-size=\"14.00\">class = 0</text>\n</g>\n<!-- 52&#45;&gt;54 -->\n<g id=\"edge54\" class=\"edge\">\n<title>52&#45;&gt;54</title>\n<path fill=\"none\" stroke=\"black\" d=\"M1888.3,-460.91C1891.44,-450.09 1894.84,-438.38 1898.02,-427.44\"/>\n<polygon fill=\"black\" stroke=\"black\" points=\"1901.43,-428.25 1900.86,-417.67 1894.71,-426.29 1901.43,-428.25\"/>\n</g>\n<!-- 57 -->\n<g id=\"node58\" class=\"node\">\n<title>57</title>\n<path fill=\"#eca06a\" stroke=\"black\" d=\"M2149.5,-782C2149.5,-782 2071.5,-782 2071.5,-782 2065.5,-782 2059.5,-776 2059.5,-770 2059.5,-770 2059.5,-711 2059.5,-711 2059.5,-705 2065.5,-699 2071.5,-699 2071.5,-699 2149.5,-699 2149.5,-699 2155.5,-699 2161.5,-705 2161.5,-711 2161.5,-711 2161.5,-770 2161.5,-770 2161.5,-776 2155.5,-782 2149.5,-782\"/>\n<text text-anchor=\"start\" x=\"2078.5\" y=\"-766.8\" font-family=\"Helvetica,sans-Serif\" font-size=\"14.00\">age ≤ 61.5</text>\n<text text-anchor=\"start\" x=\"2078.5\" y=\"-751.8\" font-family=\"Helvetica,sans-Serif\" font-size=\"14.00\">gini = 0.32</text>\n<text text-anchor=\"start\" x=\"2069.5\" y=\"-736.8\" font-family=\"Helvetica,sans-Serif\" font-size=\"14.00\">samples = 15</text>\n<text text-anchor=\"start\" x=\"2067.5\" y=\"-721.8\" font-family=\"Helvetica,sans-Serif\" font-size=\"14.00\">value = [12, 3]</text>\n<text text-anchor=\"start\" x=\"2083\" y=\"-706.8\" font-family=\"Helvetica,sans-Serif\" font-size=\"14.00\">class = 0</text>\n</g>\n<!-- 56&#45;&gt;57 -->\n<g id=\"edge57\" class=\"edge\">\n<title>56&#45;&gt;57</title>\n<path fill=\"none\" stroke=\"black\" d=\"M2110.5,-817.91C2110.5,-809.65 2110.5,-800.86 2110.5,-792.3\"/>\n<polygon fill=\"black\" stroke=\"black\" points=\"2114,-792.02 2110.5,-782.02 2107,-792.02 2114,-792.02\"/>\n</g>\n<!-- 64 -->\n<g id=\"node65\" class=\"node\">\n<title>64</title>\n<path fill=\"#80c0ee\" stroke=\"black\" d=\"M2383.5,-782C2383.5,-782 2305.5,-782 2305.5,-782 2299.5,-782 2293.5,-776 2293.5,-770 2293.5,-770 2293.5,-711 2293.5,-711 2293.5,-705 2299.5,-699 2305.5,-699 2305.5,-699 2383.5,-699 2383.5,-699 2389.5,-699 2395.5,-705 2395.5,-711 2395.5,-711 2395.5,-770 2395.5,-770 2395.5,-776 2389.5,-782 2383.5,-782\"/>\n<text text-anchor=\"start\" x=\"2320\" y=\"-766.8\" font-family=\"Helvetica,sans-Serif\" font-size=\"14.00\">ca ≤ 1.5</text>\n<text text-anchor=\"start\" x=\"2309\" y=\"-751.8\" font-family=\"Helvetica,sans-Serif\" font-size=\"14.00\">gini = 0.388</text>\n<text text-anchor=\"start\" x=\"2303.5\" y=\"-736.8\" font-family=\"Helvetica,sans-Serif\" font-size=\"14.00\">samples = 19</text>\n<text text-anchor=\"start\" x=\"2301.5\" y=\"-721.8\" font-family=\"Helvetica,sans-Serif\" font-size=\"14.00\">value = [5, 14]</text>\n<text text-anchor=\"start\" x=\"2317\" y=\"-706.8\" font-family=\"Helvetica,sans-Serif\" font-size=\"14.00\">class = 1</text>\n</g>\n<!-- 56&#45;&gt;64 -->\n<g id=\"edge64\" class=\"edge\">\n<title>56&#45;&gt;64</title>\n<path fill=\"none\" stroke=\"black\" d=\"M2165.66,-830.92C2201.28,-813.11 2247.64,-789.93 2284.23,-771.63\"/>\n<polygon fill=\"black\" stroke=\"black\" points=\"2285.93,-774.7 2293.31,-767.09 2282.8,-768.43 2285.93,-774.7\"/>\n</g>\n<!-- 58 -->\n<g id=\"node59\" class=\"node\">\n<title>58</title>\n<path fill=\"#e58139\" stroke=\"black\" d=\"M2086,-655.5C2086,-655.5 2015,-655.5 2015,-655.5 2009,-655.5 2003,-649.5 2003,-643.5 2003,-643.5 2003,-599.5 2003,-599.5 2003,-593.5 2009,-587.5 2015,-587.5 2015,-587.5 2086,-587.5 2086,-587.5 2092,-587.5 2098,-593.5 2098,-599.5 2098,-599.5 2098,-643.5 2098,-643.5 2098,-649.5 2092,-655.5 2086,-655.5\"/>\n<text text-anchor=\"start\" x=\"2022.5\" y=\"-640.3\" font-family=\"Helvetica,sans-Serif\" font-size=\"14.00\">gini = 0.0</text>\n<text text-anchor=\"start\" x=\"2013\" y=\"-625.3\" font-family=\"Helvetica,sans-Serif\" font-size=\"14.00\">samples = 7</text>\n<text text-anchor=\"start\" x=\"2011\" y=\"-610.3\" font-family=\"Helvetica,sans-Serif\" font-size=\"14.00\">value = [7, 0]</text>\n<text text-anchor=\"start\" x=\"2023\" y=\"-595.3\" font-family=\"Helvetica,sans-Serif\" font-size=\"14.00\">class = 0</text>\n</g>\n<!-- 57&#45;&gt;58 -->\n<g id=\"edge58\" class=\"edge\">\n<title>57&#45;&gt;58</title>\n<path fill=\"none\" stroke=\"black\" d=\"M2089.68,-698.91C2084.02,-687.87 2077.88,-675.9 2072.18,-664.77\"/>\n<polygon fill=\"black\" stroke=\"black\" points=\"2075.19,-662.97 2067.51,-655.67 2068.96,-666.16 2075.19,-662.97\"/>\n</g>\n<!-- 59 -->\n<g id=\"node60\" class=\"node\">\n<title>59</title>\n<path fill=\"#f5cdb0\" stroke=\"black\" d=\"M2213,-663C2213,-663 2128,-663 2128,-663 2122,-663 2116,-657 2116,-651 2116,-651 2116,-592 2116,-592 2116,-586 2122,-580 2128,-580 2128,-580 2213,-580 2213,-580 2219,-580 2225,-586 2225,-592 2225,-592 2225,-651 2225,-651 2225,-657 2219,-663 2213,-663\"/>\n<text text-anchor=\"start\" x=\"2124\" y=\"-647.8\" font-family=\"Helvetica,sans-Serif\" font-size=\"14.00\">thalach ≤ 125.5</text>\n<text text-anchor=\"start\" x=\"2135\" y=\"-632.8\" font-family=\"Helvetica,sans-Serif\" font-size=\"14.00\">gini = 0.469</text>\n<text text-anchor=\"start\" x=\"2133\" y=\"-617.8\" font-family=\"Helvetica,sans-Serif\" font-size=\"14.00\">samples = 8</text>\n<text text-anchor=\"start\" x=\"2131\" y=\"-602.8\" font-family=\"Helvetica,sans-Serif\" font-size=\"14.00\">value = [5, 3]</text>\n<text text-anchor=\"start\" x=\"2143\" y=\"-587.8\" font-family=\"Helvetica,sans-Serif\" font-size=\"14.00\">class = 0</text>\n</g>\n<!-- 57&#45;&gt;59 -->\n<g id=\"edge59\" class=\"edge\">\n<title>57&#45;&gt;59</title>\n<path fill=\"none\" stroke=\"black\" d=\"M2131.32,-698.91C2135.74,-690.29 2140.45,-681.09 2145.03,-672.17\"/>\n<polygon fill=\"black\" stroke=\"black\" points=\"2148.27,-673.52 2149.72,-663.02 2142.04,-670.32 2148.27,-673.52\"/>\n</g>\n<!-- 60 -->\n<g id=\"node61\" class=\"node\">\n<title>60</title>\n<path fill=\"#e58139\" stroke=\"black\" d=\"M2093,-536.5C2093,-536.5 2022,-536.5 2022,-536.5 2016,-536.5 2010,-530.5 2010,-524.5 2010,-524.5 2010,-480.5 2010,-480.5 2010,-474.5 2016,-468.5 2022,-468.5 2022,-468.5 2093,-468.5 2093,-468.5 2099,-468.5 2105,-474.5 2105,-480.5 2105,-480.5 2105,-524.5 2105,-524.5 2105,-530.5 2099,-536.5 2093,-536.5\"/>\n<text text-anchor=\"start\" x=\"2029.5\" y=\"-521.3\" font-family=\"Helvetica,sans-Serif\" font-size=\"14.00\">gini = 0.0</text>\n<text text-anchor=\"start\" x=\"2020\" y=\"-506.3\" font-family=\"Helvetica,sans-Serif\" font-size=\"14.00\">samples = 4</text>\n<text text-anchor=\"start\" x=\"2018\" y=\"-491.3\" font-family=\"Helvetica,sans-Serif\" font-size=\"14.00\">value = [4, 0]</text>\n<text text-anchor=\"start\" x=\"2030\" y=\"-476.3\" font-family=\"Helvetica,sans-Serif\" font-size=\"14.00\">class = 0</text>\n</g>\n<!-- 59&#45;&gt;60 -->\n<g id=\"edge60\" class=\"edge\">\n<title>59&#45;&gt;60</title>\n<path fill=\"none\" stroke=\"black\" d=\"M2131.3,-579.91C2120.11,-568.32 2107.91,-555.7 2096.72,-544.11\"/>\n<polygon fill=\"black\" stroke=\"black\" points=\"2099,-541.43 2089.53,-536.67 2093.96,-546.29 2099,-541.43\"/>\n</g>\n<!-- 61 -->\n<g id=\"node62\" class=\"node\">\n<title>61</title>\n<path fill=\"#7bbeee\" stroke=\"black\" d=\"M2206,-544C2206,-544 2135,-544 2135,-544 2129,-544 2123,-538 2123,-532 2123,-532 2123,-473 2123,-473 2123,-467 2129,-461 2135,-461 2135,-461 2206,-461 2206,-461 2212,-461 2218,-467 2218,-473 2218,-473 2218,-532 2218,-532 2218,-538 2212,-544 2206,-544\"/>\n<text text-anchor=\"start\" x=\"2133.5\" y=\"-528.8\" font-family=\"Helvetica,sans-Serif\" font-size=\"14.00\">chol ≤ 280.0</text>\n<text text-anchor=\"start\" x=\"2135\" y=\"-513.8\" font-family=\"Helvetica,sans-Serif\" font-size=\"14.00\">gini = 0.375</text>\n<text text-anchor=\"start\" x=\"2133\" y=\"-498.8\" font-family=\"Helvetica,sans-Serif\" font-size=\"14.00\">samples = 4</text>\n<text text-anchor=\"start\" x=\"2131\" y=\"-483.8\" font-family=\"Helvetica,sans-Serif\" font-size=\"14.00\">value = [1, 3]</text>\n<text text-anchor=\"start\" x=\"2143\" y=\"-468.8\" font-family=\"Helvetica,sans-Serif\" font-size=\"14.00\">class = 1</text>\n</g>\n<!-- 59&#45;&gt;61 -->\n<g id=\"edge61\" class=\"edge\">\n<title>59&#45;&gt;61</title>\n<path fill=\"none\" stroke=\"black\" d=\"M2170.5,-579.91C2170.5,-571.65 2170.5,-562.86 2170.5,-554.3\"/>\n<polygon fill=\"black\" stroke=\"black\" points=\"2174,-554.02 2170.5,-544.02 2167,-554.02 2174,-554.02\"/>\n</g>\n<!-- 62 -->\n<g id=\"node63\" class=\"node\">\n<title>62</title>\n<path fill=\"#399de5\" stroke=\"black\" d=\"M2149,-417.5C2149,-417.5 2078,-417.5 2078,-417.5 2072,-417.5 2066,-411.5 2066,-405.5 2066,-405.5 2066,-361.5 2066,-361.5 2066,-355.5 2072,-349.5 2078,-349.5 2078,-349.5 2149,-349.5 2149,-349.5 2155,-349.5 2161,-355.5 2161,-361.5 2161,-361.5 2161,-405.5 2161,-405.5 2161,-411.5 2155,-417.5 2149,-417.5\"/>\n<text text-anchor=\"start\" x=\"2085.5\" y=\"-402.3\" font-family=\"Helvetica,sans-Serif\" font-size=\"14.00\">gini = 0.0</text>\n<text text-anchor=\"start\" x=\"2076\" y=\"-387.3\" font-family=\"Helvetica,sans-Serif\" font-size=\"14.00\">samples = 3</text>\n<text text-anchor=\"start\" x=\"2074\" y=\"-372.3\" font-family=\"Helvetica,sans-Serif\" font-size=\"14.00\">value = [0, 3]</text>\n<text text-anchor=\"start\" x=\"2086\" y=\"-357.3\" font-family=\"Helvetica,sans-Serif\" font-size=\"14.00\">class = 1</text>\n</g>\n<!-- 61&#45;&gt;62 -->\n<g id=\"edge62\" class=\"edge\">\n<title>61&#45;&gt;62</title>\n<path fill=\"none\" stroke=\"black\" d=\"M2150.72,-460.91C2145.35,-449.87 2139.51,-437.9 2134.09,-426.77\"/>\n<polygon fill=\"black\" stroke=\"black\" points=\"2137.18,-425.12 2129.66,-417.67 2130.89,-428.19 2137.18,-425.12\"/>\n</g>\n<!-- 63 -->\n<g id=\"node64\" class=\"node\">\n<title>63</title>\n<path fill=\"#e58139\" stroke=\"black\" d=\"M2262,-417.5C2262,-417.5 2191,-417.5 2191,-417.5 2185,-417.5 2179,-411.5 2179,-405.5 2179,-405.5 2179,-361.5 2179,-361.5 2179,-355.5 2185,-349.5 2191,-349.5 2191,-349.5 2262,-349.5 2262,-349.5 2268,-349.5 2274,-355.5 2274,-361.5 2274,-361.5 2274,-405.5 2274,-405.5 2274,-411.5 2268,-417.5 2262,-417.5\"/>\n<text text-anchor=\"start\" x=\"2198.5\" y=\"-402.3\" font-family=\"Helvetica,sans-Serif\" font-size=\"14.00\">gini = 0.0</text>\n<text text-anchor=\"start\" x=\"2189\" y=\"-387.3\" font-family=\"Helvetica,sans-Serif\" font-size=\"14.00\">samples = 1</text>\n<text text-anchor=\"start\" x=\"2187\" y=\"-372.3\" font-family=\"Helvetica,sans-Serif\" font-size=\"14.00\">value = [1, 0]</text>\n<text text-anchor=\"start\" x=\"2199\" y=\"-357.3\" font-family=\"Helvetica,sans-Serif\" font-size=\"14.00\">class = 0</text>\n</g>\n<!-- 61&#45;&gt;63 -->\n<g id=\"edge63\" class=\"edge\">\n<title>61&#45;&gt;63</title>\n<path fill=\"none\" stroke=\"black\" d=\"M2189.93,-460.91C2195.21,-449.87 2200.94,-437.9 2206.27,-426.77\"/>\n<polygon fill=\"black\" stroke=\"black\" points=\"2209.46,-428.2 2210.63,-417.67 2203.15,-425.18 2209.46,-428.2\"/>\n</g>\n<!-- 65 -->\n<g id=\"node66\" class=\"node\">\n<title>65</title>\n<path fill=\"#4da7e8\" stroke=\"black\" d=\"M2389,-663C2389,-663 2300,-663 2300,-663 2294,-663 2288,-657 2288,-651 2288,-651 2288,-592 2288,-592 2288,-586 2294,-580 2300,-580 2300,-580 2389,-580 2389,-580 2395,-580 2401,-586 2401,-592 2401,-592 2401,-651 2401,-651 2401,-657 2395,-663 2389,-663\"/>\n<text text-anchor=\"start\" x=\"2296\" y=\"-647.8\" font-family=\"Helvetica,sans-Serif\" font-size=\"14.00\">trestbps ≤ 176.0</text>\n<text text-anchor=\"start\" x=\"2309\" y=\"-632.8\" font-family=\"Helvetica,sans-Serif\" font-size=\"14.00\">gini = 0.165</text>\n<text text-anchor=\"start\" x=\"2303.5\" y=\"-617.8\" font-family=\"Helvetica,sans-Serif\" font-size=\"14.00\">samples = 11</text>\n<text text-anchor=\"start\" x=\"2301.5\" y=\"-602.8\" font-family=\"Helvetica,sans-Serif\" font-size=\"14.00\">value = [1, 10]</text>\n<text text-anchor=\"start\" x=\"2317\" y=\"-587.8\" font-family=\"Helvetica,sans-Serif\" font-size=\"14.00\">class = 1</text>\n</g>\n<!-- 64&#45;&gt;65 -->\n<g id=\"edge65\" class=\"edge\">\n<title>64&#45;&gt;65</title>\n<path fill=\"none\" stroke=\"black\" d=\"M2344.5,-698.91C2344.5,-690.65 2344.5,-681.86 2344.5,-673.3\"/>\n<polygon fill=\"black\" stroke=\"black\" points=\"2348,-673.02 2344.5,-663.02 2341,-673.02 2348,-673.02\"/>\n</g>\n<!-- 68 -->\n<g id=\"node69\" class=\"node\">\n<title>68</title>\n<path fill=\"#ffffff\" stroke=\"black\" d=\"M2560,-663C2560,-663 2475,-663 2475,-663 2469,-663 2463,-657 2463,-651 2463,-651 2463,-592 2463,-592 2463,-586 2469,-580 2475,-580 2475,-580 2560,-580 2560,-580 2566,-580 2572,-586 2572,-592 2572,-592 2572,-651 2572,-651 2572,-657 2566,-663 2560,-663\"/>\n<text text-anchor=\"start\" x=\"2471\" y=\"-647.8\" font-family=\"Helvetica,sans-Serif\" font-size=\"14.00\">thalach ≤ 167.5</text>\n<text text-anchor=\"start\" x=\"2489.5\" y=\"-632.8\" font-family=\"Helvetica,sans-Serif\" font-size=\"14.00\">gini = 0.5</text>\n<text text-anchor=\"start\" x=\"2480\" y=\"-617.8\" font-family=\"Helvetica,sans-Serif\" font-size=\"14.00\">samples = 8</text>\n<text text-anchor=\"start\" x=\"2478\" y=\"-602.8\" font-family=\"Helvetica,sans-Serif\" font-size=\"14.00\">value = [4, 4]</text>\n<text text-anchor=\"start\" x=\"2490\" y=\"-587.8\" font-family=\"Helvetica,sans-Serif\" font-size=\"14.00\">class = 0</text>\n</g>\n<!-- 64&#45;&gt;68 -->\n<g id=\"edge68\" class=\"edge\">\n<title>64&#45;&gt;68</title>\n<path fill=\"none\" stroke=\"black\" d=\"M2395.94,-704.71C2414.33,-692.27 2435.27,-678.11 2454.53,-665.09\"/>\n<polygon fill=\"black\" stroke=\"black\" points=\"2456.63,-667.89 2462.95,-659.39 2452.71,-662.09 2456.63,-667.89\"/>\n</g>\n<!-- 66 -->\n<g id=\"node67\" class=\"node\">\n<title>66</title>\n<path fill=\"#399de5\" stroke=\"black\" d=\"M2326.5,-536.5C2326.5,-536.5 2248.5,-536.5 2248.5,-536.5 2242.5,-536.5 2236.5,-530.5 2236.5,-524.5 2236.5,-524.5 2236.5,-480.5 2236.5,-480.5 2236.5,-474.5 2242.5,-468.5 2248.5,-468.5 2248.5,-468.5 2326.5,-468.5 2326.5,-468.5 2332.5,-468.5 2338.5,-474.5 2338.5,-480.5 2338.5,-480.5 2338.5,-524.5 2338.5,-524.5 2338.5,-530.5 2332.5,-536.5 2326.5,-536.5\"/>\n<text text-anchor=\"start\" x=\"2259.5\" y=\"-521.3\" font-family=\"Helvetica,sans-Serif\" font-size=\"14.00\">gini = 0.0</text>\n<text text-anchor=\"start\" x=\"2246.5\" y=\"-506.3\" font-family=\"Helvetica,sans-Serif\" font-size=\"14.00\">samples = 10</text>\n<text text-anchor=\"start\" x=\"2244.5\" y=\"-491.3\" font-family=\"Helvetica,sans-Serif\" font-size=\"14.00\">value = [0, 10]</text>\n<text text-anchor=\"start\" x=\"2260\" y=\"-476.3\" font-family=\"Helvetica,sans-Serif\" font-size=\"14.00\">class = 1</text>\n</g>\n<!-- 65&#45;&gt;66 -->\n<g id=\"edge66\" class=\"edge\">\n<title>65&#45;&gt;66</title>\n<path fill=\"none\" stroke=\"black\" d=\"M2324.72,-579.91C2319.35,-568.87 2313.51,-556.9 2308.09,-545.77\"/>\n<polygon fill=\"black\" stroke=\"black\" points=\"2311.18,-544.12 2303.66,-536.67 2304.89,-547.19 2311.18,-544.12\"/>\n</g>\n<!-- 67 -->\n<g id=\"node68\" class=\"node\">\n<title>67</title>\n<path fill=\"#e58139\" stroke=\"black\" d=\"M2440,-536.5C2440,-536.5 2369,-536.5 2369,-536.5 2363,-536.5 2357,-530.5 2357,-524.5 2357,-524.5 2357,-480.5 2357,-480.5 2357,-474.5 2363,-468.5 2369,-468.5 2369,-468.5 2440,-468.5 2440,-468.5 2446,-468.5 2452,-474.5 2452,-480.5 2452,-480.5 2452,-524.5 2452,-524.5 2452,-530.5 2446,-536.5 2440,-536.5\"/>\n<text text-anchor=\"start\" x=\"2376.5\" y=\"-521.3\" font-family=\"Helvetica,sans-Serif\" font-size=\"14.00\">gini = 0.0</text>\n<text text-anchor=\"start\" x=\"2367\" y=\"-506.3\" font-family=\"Helvetica,sans-Serif\" font-size=\"14.00\">samples = 1</text>\n<text text-anchor=\"start\" x=\"2365\" y=\"-491.3\" font-family=\"Helvetica,sans-Serif\" font-size=\"14.00\">value = [1, 0]</text>\n<text text-anchor=\"start\" x=\"2377\" y=\"-476.3\" font-family=\"Helvetica,sans-Serif\" font-size=\"14.00\">class = 0</text>\n</g>\n<!-- 65&#45;&gt;67 -->\n<g id=\"edge67\" class=\"edge\">\n<title>65&#45;&gt;67</title>\n<path fill=\"none\" stroke=\"black\" d=\"M2365.32,-579.91C2370.98,-568.87 2377.12,-556.9 2382.82,-545.77\"/>\n<polygon fill=\"black\" stroke=\"black\" points=\"2386.04,-547.16 2387.49,-536.67 2379.81,-543.97 2386.04,-547.16\"/>\n</g>\n<!-- 69 -->\n<g id=\"node70\" class=\"node\">\n<title>69</title>\n<path fill=\"#e58139\" stroke=\"black\" d=\"M2553,-536.5C2553,-536.5 2482,-536.5 2482,-536.5 2476,-536.5 2470,-530.5 2470,-524.5 2470,-524.5 2470,-480.5 2470,-480.5 2470,-474.5 2476,-468.5 2482,-468.5 2482,-468.5 2553,-468.5 2553,-468.5 2559,-468.5 2565,-474.5 2565,-480.5 2565,-480.5 2565,-524.5 2565,-524.5 2565,-530.5 2559,-536.5 2553,-536.5\"/>\n<text text-anchor=\"start\" x=\"2489.5\" y=\"-521.3\" font-family=\"Helvetica,sans-Serif\" font-size=\"14.00\">gini = 0.0</text>\n<text text-anchor=\"start\" x=\"2480\" y=\"-506.3\" font-family=\"Helvetica,sans-Serif\" font-size=\"14.00\">samples = 3</text>\n<text text-anchor=\"start\" x=\"2478\" y=\"-491.3\" font-family=\"Helvetica,sans-Serif\" font-size=\"14.00\">value = [3, 0]</text>\n<text text-anchor=\"start\" x=\"2490\" y=\"-476.3\" font-family=\"Helvetica,sans-Serif\" font-size=\"14.00\">class = 0</text>\n</g>\n<!-- 68&#45;&gt;69 -->\n<g id=\"edge69\" class=\"edge\">\n<title>68&#45;&gt;69</title>\n<path fill=\"none\" stroke=\"black\" d=\"M2517.5,-579.91C2517.5,-569.2 2517.5,-557.62 2517.5,-546.78\"/>\n<polygon fill=\"black\" stroke=\"black\" points=\"2521,-546.67 2517.5,-536.67 2514,-546.67 2521,-546.67\"/>\n</g>\n<!-- 70 -->\n<g id=\"node71\" class=\"node\">\n<title>70</title>\n<path fill=\"#6ab6ec\" stroke=\"black\" d=\"M2669.5,-544C2669.5,-544 2595.5,-544 2595.5,-544 2589.5,-544 2583.5,-538 2583.5,-532 2583.5,-532 2583.5,-473 2583.5,-473 2583.5,-467 2589.5,-461 2595.5,-461 2595.5,-461 2669.5,-461 2669.5,-461 2675.5,-461 2681.5,-467 2681.5,-473 2681.5,-473 2681.5,-532 2681.5,-532 2681.5,-538 2675.5,-544 2669.5,-544\"/>\n<text text-anchor=\"start\" x=\"2591.5\" y=\"-528.8\" font-family=\"Helvetica,sans-Serif\" font-size=\"14.00\">oldpeak ≤ 2.0</text>\n<text text-anchor=\"start\" x=\"2600.5\" y=\"-513.8\" font-family=\"Helvetica,sans-Serif\" font-size=\"14.00\">gini = 0.32</text>\n<text text-anchor=\"start\" x=\"2595\" y=\"-498.8\" font-family=\"Helvetica,sans-Serif\" font-size=\"14.00\">samples = 5</text>\n<text text-anchor=\"start\" x=\"2593\" y=\"-483.8\" font-family=\"Helvetica,sans-Serif\" font-size=\"14.00\">value = [1, 4]</text>\n<text text-anchor=\"start\" x=\"2605\" y=\"-468.8\" font-family=\"Helvetica,sans-Serif\" font-size=\"14.00\">class = 1</text>\n</g>\n<!-- 68&#45;&gt;70 -->\n<g id=\"edge70\" class=\"edge\">\n<title>68&#45;&gt;70</title>\n<path fill=\"none\" stroke=\"black\" d=\"M2557.4,-579.91C2566.5,-570.65 2576.25,-560.73 2585.61,-551.21\"/>\n<polygon fill=\"black\" stroke=\"black\" points=\"2588.16,-553.61 2592.67,-544.02 2583.17,-548.7 2588.16,-553.61\"/>\n</g>\n<!-- 71 -->\n<g id=\"node72\" class=\"node\">\n<title>71</title>\n<path fill=\"#399de5\" stroke=\"black\" d=\"M2611,-417.5C2611,-417.5 2540,-417.5 2540,-417.5 2534,-417.5 2528,-411.5 2528,-405.5 2528,-405.5 2528,-361.5 2528,-361.5 2528,-355.5 2534,-349.5 2540,-349.5 2540,-349.5 2611,-349.5 2611,-349.5 2617,-349.5 2623,-355.5 2623,-361.5 2623,-361.5 2623,-405.5 2623,-405.5 2623,-411.5 2617,-417.5 2611,-417.5\"/>\n<text text-anchor=\"start\" x=\"2547.5\" y=\"-402.3\" font-family=\"Helvetica,sans-Serif\" font-size=\"14.00\">gini = 0.0</text>\n<text text-anchor=\"start\" x=\"2538\" y=\"-387.3\" font-family=\"Helvetica,sans-Serif\" font-size=\"14.00\">samples = 4</text>\n<text text-anchor=\"start\" x=\"2536\" y=\"-372.3\" font-family=\"Helvetica,sans-Serif\" font-size=\"14.00\">value = [0, 4]</text>\n<text text-anchor=\"start\" x=\"2548\" y=\"-357.3\" font-family=\"Helvetica,sans-Serif\" font-size=\"14.00\">class = 1</text>\n</g>\n<!-- 70&#45;&gt;71 -->\n<g id=\"edge71\" class=\"edge\">\n<title>70&#45;&gt;71</title>\n<path fill=\"none\" stroke=\"black\" d=\"M2612.72,-460.91C2607.35,-449.87 2601.51,-437.9 2596.09,-426.77\"/>\n<polygon fill=\"black\" stroke=\"black\" points=\"2599.18,-425.12 2591.66,-417.67 2592.89,-428.19 2599.18,-425.12\"/>\n</g>\n<!-- 72 -->\n<g id=\"node73\" class=\"node\">\n<title>72</title>\n<path fill=\"#e58139\" stroke=\"black\" d=\"M2724,-417.5C2724,-417.5 2653,-417.5 2653,-417.5 2647,-417.5 2641,-411.5 2641,-405.5 2641,-405.5 2641,-361.5 2641,-361.5 2641,-355.5 2647,-349.5 2653,-349.5 2653,-349.5 2724,-349.5 2724,-349.5 2730,-349.5 2736,-355.5 2736,-361.5 2736,-361.5 2736,-405.5 2736,-405.5 2736,-411.5 2730,-417.5 2724,-417.5\"/>\n<text text-anchor=\"start\" x=\"2660.5\" y=\"-402.3\" font-family=\"Helvetica,sans-Serif\" font-size=\"14.00\">gini = 0.0</text>\n<text text-anchor=\"start\" x=\"2651\" y=\"-387.3\" font-family=\"Helvetica,sans-Serif\" font-size=\"14.00\">samples = 1</text>\n<text text-anchor=\"start\" x=\"2649\" y=\"-372.3\" font-family=\"Helvetica,sans-Serif\" font-size=\"14.00\">value = [1, 0]</text>\n<text text-anchor=\"start\" x=\"2661\" y=\"-357.3\" font-family=\"Helvetica,sans-Serif\" font-size=\"14.00\">class = 0</text>\n</g>\n<!-- 70&#45;&gt;72 -->\n<g id=\"edge72\" class=\"edge\">\n<title>70&#45;&gt;72</title>\n<path fill=\"none\" stroke=\"black\" d=\"M2651.93,-460.91C2657.21,-449.87 2662.94,-437.9 2668.27,-426.77\"/>\n<polygon fill=\"black\" stroke=\"black\" points=\"2671.46,-428.2 2672.63,-417.67 2665.15,-425.18 2671.46,-428.2\"/>\n</g>\n</g>\n</svg>\n",
            "text/plain": [
              "<graphviz.sources.Source at 0x7e16707e0eb0>"
            ]
          },
          "metadata": {},
          "execution_count": 82
        }
      ]
    },
    {
      "cell_type": "markdown",
      "source": [
        "**Summary：**\n",
        "The Accuracy of the Greedy rule tree (CART) model is 71%.By analyzing the decision tree structure, it can be seen that the features feature_11(slope), feature_12(ca), feature_9(exang) and feature_3 (thalach) are used many times in the decision making process, which indicates that these features have a high impact on the model decision."
      ],
      "metadata": {
        "id": "MZJtNJH_PDkm"
      }
    },
    {
      "cell_type": "markdown",
      "source": [
        "# Reference\n"
      ],
      "metadata": {
        "id": "ZLLPCrSv-jXr"
      }
    },
    {
      "cell_type": "markdown",
      "source": [
        "1. Bhat, Naresha. “Health Care: Heart Attack Possibility.” Kaggle, 25 June 2020, www.kaggle.com/datasets/nareshbhat/health-care-data-set-on-heart-attack-possibility/data. Accessed 25 Sept. 2024.\n",
        "\n",
        "2. “Index 🔍.” Chandan Singh, https://csinva.io/imodels/rule_set/rule_fit.html#imodels.rule_set.rule_fit.RuleFitClassifier Accessed 25 Sept. 2024.\n",
        "\n",
        "3. “Index 🔍.” Chandan Singh, https://csinva.io/imodels/tree/figs.html#imodels.tree.figs.FIGSClassifier Accessed 25 Sept. 2024.\n",
        "\n",
        "4. “Index 🔍.” Chandan Singh, https://csinva.io/imodels/tree/cart_wrapper.html#imodels.tree.cart_wrapper.GreedyTreeClassifier.set_score_request Accessed 25 Sept. 2024.\n",
        "\n",
        "5. Chatgpt. Explanation of Python code for models"
      ],
      "metadata": {
        "id": "A_qcQOhq-nUC"
      }
    }
  ],
  "metadata": {
    "language_info": {
      "name": "python"
    },
    "colab": {
      "provenance": [],
      "include_colab_link": true
    },
    "kernelspec": {
      "name": "python3",
      "display_name": "Python 3"
    }
  },
  "nbformat": 4,
  "nbformat_minor": 0
}